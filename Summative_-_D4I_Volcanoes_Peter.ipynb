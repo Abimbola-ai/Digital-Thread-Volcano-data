{
 "cells": [
  {
   "cell_type": "markdown",
   "metadata": {},
   "source": [
    "# Digital For Industrial Summative - Part 1\n",
    " \n",
    "## Creating A Digital Thread\n"
   ]
  },
  {
   "cell_type": "markdown",
   "metadata": {},
   "source": [
    "A Digital Thread is the one unifying theme or characteristic that connects every aspect of an asset or unit, right from its inception and design, to manufacture, deployment, operations, maintenance to eventual retirement.\n",
    "\n",
    "In analysis, a digital thread is the logical with which we bind and merge the various data sources into one whole, so that it lends itself to quantitative approaches easily.\n",
    "\n",
    "<img src = 'images/Digital_Thread.JPG' width=500>\n"
   ]
  },
  {
   "cell_type": "markdown",
   "metadata": {},
   "source": [
    "A digital thread is a technique to 'stitch' the data that comes in disjoint tables, such that they can be put together logically. That is a task for this exercise."
   ]
  },
  {
   "cell_type": "markdown",
   "metadata": {},
   "source": [
    "Data sets provided:\n",
    "\n",
    "We have been give 5 data sets, all of which related to one month's worth of readings taken at a live volcano site. The volcano was instrumented with multiple sensors in 10 different geographical points (nodes). Our goal is to combine and merge all of this into one digital thread, making it amenable for analysis.\n",
    "\n",
    "Tasks:\n",
    "\n",
    "    1.0 Read all the needed input files\n",
    "    2.0 Plotting Sensor Time Series\n",
    "    3.0 Descriptive Analysis One data frame at a time \n",
    "    4.0 Creating a Digital Thread from the data sets\n",
    "    5.0 Time Series based analysis\n",
    "    6.0 Correlations Analysis\n",
    "    7.0 Data Manipulations to Merge multiple data sets\n",
    "    8.0 Building A Battery Remaining-Life prediction model"
   ]
  },
  {
   "cell_type": "code",
   "execution_count": 1,
   "metadata": {
    "slideshow": {
     "slide_type": "slide"
    }
   },
   "outputs": [],
   "source": [
    "from datetime import datetime, timedelta\n",
    "from datetime import datetime\n",
    "import datetime as dt\n",
    "import numpy as np\n",
    "import pandas as pd\n",
    "import matplotlib.pyplot as plt\n",
    "import seaborn as sns\n",
    "import os"
   ]
  },
  {
   "cell_type": "code",
   "execution_count": 2,
   "metadata": {},
   "outputs": [],
   "source": [
    "%matplotlib inline"
   ]
  },
  {
   "cell_type": "markdown",
   "metadata": {},
   "source": [
    "### 1.0 Read all the needed input files"
   ]
  },
  {
   "cell_type": "markdown",
   "metadata": {},
   "source": [
    "Create multiple data frames, one to hold each data table."
   ]
  },
  {
   "cell_type": "markdown",
   "metadata": {},
   "source": [
    "Convert all Data frame time stamps into date-time format, so that time-based indexing is possible"
   ]
  },
  {
   "cell_type": "code",
   "execution_count": 3,
   "metadata": {},
   "outputs": [],
   "source": [
    "data_dir = 'This PC/Documents/Digital4industry'"
   ]
  },
  {
   "cell_type": "code",
   "execution_count": 4,
   "metadata": {},
   "outputs": [
    {
     "data": {
      "text/plain": [
       "'This PC/Documents/Digital4industry'"
      ]
     },
     "execution_count": 4,
     "metadata": {},
     "output_type": "execute_result"
    }
   ],
   "source": [
    "data_dir\n"
   ]
  },
  {
   "cell_type": "code",
   "execution_count": 5,
   "metadata": {},
   "outputs": [
    {
     "name": "stdout",
     "output_type": "stream",
     "text": [
      "<class 'pandas.core.frame.DataFrame'>\n",
      "RangeIndex: 176534 entries, 0 to 176533\n",
      "Data columns (total 4 columns):\n",
      "id           176534 non-null object\n",
      "value        63456 non-null float64\n",
      "timestamp    176534 non-null datetime64[ns, UTC]\n",
      "sensor_id    176534 non-null object\n",
      "dtypes: datetime64[ns, UTC](1), float64(1), object(2)\n",
      "memory usage: 5.4+ MB\n"
     ]
    }
   ],
   "source": [
    "datapoints = pd.read_csv('datapoints.csv', sep=\",\")\n",
    "datapoints.head()\n",
    "datapoints['timestamp']=pd.to_datetime(datapoints['timestamp'])\n",
    "datapoints.head(20)\n",
    "datapoints.info()\n",
    "# dtat['Day'] = dtat['timestamp'].dt.day \n",
    "# datapoints['Month'] = datapoints['timestamp'].dt.month\n",
    "# datapoints['Year'] = datapoints['timestamp'].dt.year\n",
    "# datapoints['Time']=datapoints['timestamp'].dt.time\n",
    "# data1['timestamp'] = pd.to_datetime(data1['timestamp'], format=\"%m/%d/%Y, %H:%M:%S\",errors='raise')\n",
    "# data10 = pd.to_datetime(data22, format='%H:%M:%S')\n",
    "\n",
    "# datapoints"
   ]
  },
  {
   "cell_type": "code",
   "execution_count": 6,
   "metadata": {},
   "outputs": [
    {
     "data": {
      "text/html": [
       "<div>\n",
       "<style scoped>\n",
       "    .dataframe tbody tr th:only-of-type {\n",
       "        vertical-align: middle;\n",
       "    }\n",
       "\n",
       "    .dataframe tbody tr th {\n",
       "        vertical-align: top;\n",
       "    }\n",
       "\n",
       "    .dataframe thead th {\n",
       "        text-align: right;\n",
       "    }\n",
       "</style>\n",
       "<table border=\"1\" class=\"dataframe\">\n",
       "  <thead>\n",
       "    <tr style=\"text-align: right;\">\n",
       "      <th></th>\n",
       "      <th>id</th>\n",
       "      <th>type</th>\n",
       "      <th>si_unit</th>\n",
       "      <th>type_id</th>\n",
       "    </tr>\n",
       "  </thead>\n",
       "  <tbody>\n",
       "    <tr>\n",
       "      <td>0</td>\n",
       "      <td>35dcb3c0-8679-11e6-bda3-ef77801087ee</td>\n",
       "      <td>temperature</td>\n",
       "      <td>celcius</td>\n",
       "      <td>TCA</td>\n",
       "    </tr>\n",
       "    <tr>\n",
       "      <td>1</td>\n",
       "      <td>35dcb3c1-8679-11e6-bda3-ef77801087ee</td>\n",
       "      <td>pressure</td>\n",
       "      <td>pascal</td>\n",
       "      <td>PA</td>\n",
       "    </tr>\n",
       "    <tr>\n",
       "      <td>2</td>\n",
       "      <td>35dcb3c2-8679-11e6-bda3-ef77801087ee</td>\n",
       "      <td>humidity</td>\n",
       "      <td>relative humidity</td>\n",
       "      <td>HUMA</td>\n",
       "    </tr>\n",
       "    <tr>\n",
       "      <td>3</td>\n",
       "      <td>35dcdad0-8679-11e6-bda3-ef77801087ee</td>\n",
       "      <td>carbon dioxide concentration</td>\n",
       "      <td>ppm</td>\n",
       "      <td>GP_CO2</td>\n",
       "    </tr>\n",
       "    <tr>\n",
       "      <td>4</td>\n",
       "      <td>35dcdad1-8679-11e6-bda3-ef77801087ee</td>\n",
       "      <td>hydrogen sulfide concentration</td>\n",
       "      <td>ppm</td>\n",
       "      <td>GP_H2S</td>\n",
       "    </tr>\n",
       "  </tbody>\n",
       "</table>\n",
       "</div>"
      ],
      "text/plain": [
       "                                     id                            type  \\\n",
       "0  35dcb3c0-8679-11e6-bda3-ef77801087ee                     temperature   \n",
       "1  35dcb3c1-8679-11e6-bda3-ef77801087ee                        pressure   \n",
       "2  35dcb3c2-8679-11e6-bda3-ef77801087ee                        humidity   \n",
       "3  35dcdad0-8679-11e6-bda3-ef77801087ee    carbon dioxide concentration   \n",
       "4  35dcdad1-8679-11e6-bda3-ef77801087ee  hydrogen sulfide concentration   \n",
       "\n",
       "             si_unit type_id  \n",
       "0            celcius     TCA  \n",
       "1             pascal      PA  \n",
       "2  relative humidity    HUMA  \n",
       "3                ppm  GP_CO2  \n",
       "4                ppm  GP_H2S  "
      ]
     },
     "execution_count": 6,
     "metadata": {},
     "output_type": "execute_result"
    }
   ],
   "source": [
    "datatypes = pd.read_csv('datatypes.csv', sep=\",\")\n",
    "datatypes.head()\n",
    "\n",
    "\n"
   ]
  },
  {
   "cell_type": "code",
   "execution_count": 7,
   "metadata": {},
   "outputs": [
    {
     "data": {
      "text/html": [
       "<div>\n",
       "<style scoped>\n",
       "    .dataframe tbody tr th:only-of-type {\n",
       "        vertical-align: middle;\n",
       "    }\n",
       "\n",
       "    .dataframe tbody tr th {\n",
       "        vertical-align: top;\n",
       "    }\n",
       "\n",
       "    .dataframe thead th {\n",
       "        text-align: right;\n",
       "    }\n",
       "</style>\n",
       "<table border=\"1\" class=\"dataframe\">\n",
       "  <thead>\n",
       "    <tr style=\"text-align: right;\">\n",
       "      <th></th>\n",
       "      <th>id</th>\n",
       "      <th>name</th>\n",
       "      <th>description</th>\n",
       "      <th>location</th>\n",
       "      <th>status</th>\n",
       "      <th>created_at</th>\n",
       "      <th>updated_at</th>\n",
       "      <th>volcano_id</th>\n",
       "    </tr>\n",
       "  </thead>\n",
       "  <tbody>\n",
       "    <tr>\n",
       "      <td>0</td>\n",
       "      <td>c5e39fa0-867a-11e6-a353-2f6c041e2491</td>\n",
       "      <td>N1</td>\n",
       "      <td>\\N</td>\n",
       "      <td>\\N</td>\n",
       "      <td>OFFLINE</td>\n",
       "      <td>2016-08-17 01:06:49+00</td>\n",
       "      <td>2016-09-29 19:28:05.932+00</td>\n",
       "      <td>35dc3e90-8679-11e6-bda3-ef77801087ee</td>\n",
       "    </tr>\n",
       "    <tr>\n",
       "      <td>1</td>\n",
       "      <td>c147ece0-8679-11e6-a353-2f6c041e2491</td>\n",
       "      <td>N9</td>\n",
       "      <td>\\N</td>\n",
       "      <td>\\N</td>\n",
       "      <td>OFFLINE</td>\n",
       "      <td>2016-08-07 00:51:40+00</td>\n",
       "      <td>2016-09-29 19:41:07.065+00</td>\n",
       "      <td>35dc3e90-8679-11e6-bda3-ef77801087ee</td>\n",
       "    </tr>\n",
       "    <tr>\n",
       "      <td>2</td>\n",
       "      <td>76309900-8679-11e6-a353-2f6c041e2491</td>\n",
       "      <td>N8</td>\n",
       "      <td>\\N</td>\n",
       "      <td>\\N</td>\n",
       "      <td>OFFLINE</td>\n",
       "      <td>2016-08-03 22:09:40+00</td>\n",
       "      <td>2016-09-29 19:20:17.417+00</td>\n",
       "      <td>35dc3e90-8679-11e6-bda3-ef77801087ee</td>\n",
       "    </tr>\n",
       "    <tr>\n",
       "      <td>3</td>\n",
       "      <td>762b8ff0-8679-11e6-a353-2f6c041e2491</td>\n",
       "      <td>N10</td>\n",
       "      <td>\\N</td>\n",
       "      <td>\\N</td>\n",
       "      <td>OFFLINE</td>\n",
       "      <td>2016-08-03 04:39:25+00</td>\n",
       "      <td>2016-09-29 19:20:17.431+00</td>\n",
       "      <td>35dc3e90-8679-11e6-bda3-ef77801087ee</td>\n",
       "    </tr>\n",
       "    <tr>\n",
       "      <td>4</td>\n",
       "      <td>c14ccee0-8679-11e6-a353-2f6c041e2491</td>\n",
       "      <td>N2</td>\n",
       "      <td>\\N</td>\n",
       "      <td>\\N</td>\n",
       "      <td>OFFLINE</td>\n",
       "      <td>2016-08-10 04:20:22+00</td>\n",
       "      <td>2016-09-29 19:20:17.523+00</td>\n",
       "      <td>35dc3e90-8679-11e6-bda3-ef77801087ee</td>\n",
       "    </tr>\n",
       "  </tbody>\n",
       "</table>\n",
       "</div>"
      ],
      "text/plain": [
       "                                     id name description location   status  \\\n",
       "0  c5e39fa0-867a-11e6-a353-2f6c041e2491   N1          \\N       \\N  OFFLINE   \n",
       "1  c147ece0-8679-11e6-a353-2f6c041e2491   N9          \\N       \\N  OFFLINE   \n",
       "2  76309900-8679-11e6-a353-2f6c041e2491   N8          \\N       \\N  OFFLINE   \n",
       "3  762b8ff0-8679-11e6-a353-2f6c041e2491  N10          \\N       \\N  OFFLINE   \n",
       "4  c14ccee0-8679-11e6-a353-2f6c041e2491   N2          \\N       \\N  OFFLINE   \n",
       "\n",
       "               created_at                  updated_at  \\\n",
       "0  2016-08-17 01:06:49+00  2016-09-29 19:28:05.932+00   \n",
       "1  2016-08-07 00:51:40+00  2016-09-29 19:41:07.065+00   \n",
       "2  2016-08-03 22:09:40+00  2016-09-29 19:20:17.417+00   \n",
       "3  2016-08-03 04:39:25+00  2016-09-29 19:20:17.431+00   \n",
       "4  2016-08-10 04:20:22+00  2016-09-29 19:20:17.523+00   \n",
       "\n",
       "                             volcano_id  \n",
       "0  35dc3e90-8679-11e6-bda3-ef77801087ee  \n",
       "1  35dc3e90-8679-11e6-bda3-ef77801087ee  \n",
       "2  35dc3e90-8679-11e6-bda3-ef77801087ee  \n",
       "3  35dc3e90-8679-11e6-bda3-ef77801087ee  \n",
       "4  35dc3e90-8679-11e6-bda3-ef77801087ee  "
      ]
     },
     "execution_count": 7,
     "metadata": {},
     "output_type": "execute_result"
    }
   ],
   "source": [
    "nodes = pd.read_csv('nodes.csv', sep=\",\")\n",
    "#data3 = pd.to_datetime(data3, format='%M:%S.%f')\n",
    "nodes.head()\n",
    "\n",
    "\n"
   ]
  },
  {
   "cell_type": "code",
   "execution_count": 8,
   "metadata": {},
   "outputs": [
    {
     "data": {
      "text/html": [
       "<div>\n",
       "<style scoped>\n",
       "    .dataframe tbody tr th:only-of-type {\n",
       "        vertical-align: middle;\n",
       "    }\n",
       "\n",
       "    .dataframe tbody tr th {\n",
       "        vertical-align: top;\n",
       "    }\n",
       "\n",
       "    .dataframe thead th {\n",
       "        text-align: right;\n",
       "    }\n",
       "</style>\n",
       "<table border=\"1\" class=\"dataframe\">\n",
       "  <thead>\n",
       "    <tr style=\"text-align: right;\">\n",
       "      <th></th>\n",
       "      <th>id</th>\n",
       "      <th>description</th>\n",
       "      <th>data_frequency</th>\n",
       "      <th>status</th>\n",
       "      <th>created_at</th>\n",
       "      <th>updated_at</th>\n",
       "      <th>data_type_id</th>\n",
       "      <th>node_id</th>\n",
       "    </tr>\n",
       "  </thead>\n",
       "  <tbody>\n",
       "    <tr>\n",
       "      <td>0</td>\n",
       "      <td>c15a6370-8679-11e6-a353-2f6c041e2491</td>\n",
       "      <td>\\N</td>\n",
       "      <td>1800000</td>\n",
       "      <td>OFFLINE</td>\n",
       "      <td>2016-08-07 00:51:40+00</td>\n",
       "      <td>2016-09-29 19:41:07.066+00</td>\n",
       "      <td>35dcdad0-8679-11e6-bda3-ef77801087ee</td>\n",
       "      <td>c147ece0-8679-11e6-a353-2f6c041e2491</td>\n",
       "    </tr>\n",
       "    <tr>\n",
       "      <td>1</td>\n",
       "      <td>7635c920-8679-11e6-a353-2f6c041e2491</td>\n",
       "      <td>\\N</td>\n",
       "      <td>1800000</td>\n",
       "      <td>OFFLINE</td>\n",
       "      <td>2016-08-03 04:39:25+00</td>\n",
       "      <td>2016-09-29 20:13:52.793+00</td>\n",
       "      <td>35dcdad2-8679-11e6-bda3-ef77801087ee</td>\n",
       "      <td>762b8ff0-8679-11e6-a353-2f6c041e2491</td>\n",
       "    </tr>\n",
       "    <tr>\n",
       "      <td>2</td>\n",
       "      <td>763b9580-8679-11e6-a353-2f6c041e2491</td>\n",
       "      <td>\\N</td>\n",
       "      <td>1800000</td>\n",
       "      <td>OFFLINE</td>\n",
       "      <td>2016-08-03 04:39:25+00</td>\n",
       "      <td>2016-09-29 20:13:52.797+00</td>\n",
       "      <td>35dcdad1-8679-11e6-bda3-ef77801087ee</td>\n",
       "      <td>762b8ff0-8679-11e6-a353-2f6c041e2491</td>\n",
       "    </tr>\n",
       "    <tr>\n",
       "      <td>3</td>\n",
       "      <td>763ca6f0-8679-11e6-a353-2f6c041e2491</td>\n",
       "      <td>\\N</td>\n",
       "      <td>1800000</td>\n",
       "      <td>OFFLINE</td>\n",
       "      <td>2016-08-03 04:39:25+00</td>\n",
       "      <td>2016-09-29 20:13:52.803+00</td>\n",
       "      <td>35dcb3c0-8679-11e6-bda3-ef77801087ee</td>\n",
       "      <td>762b8ff0-8679-11e6-a353-2f6c041e2491</td>\n",
       "    </tr>\n",
       "    <tr>\n",
       "      <td>4</td>\n",
       "      <td>763d9150-8679-11e6-a353-2f6c041e2491</td>\n",
       "      <td>\\N</td>\n",
       "      <td>1800000</td>\n",
       "      <td>OFFLINE</td>\n",
       "      <td>2016-08-03 04:39:25+00</td>\n",
       "      <td>2016-09-29 20:13:52.811+00</td>\n",
       "      <td>35dcb3c1-8679-11e6-bda3-ef77801087ee</td>\n",
       "      <td>762b8ff0-8679-11e6-a353-2f6c041e2491</td>\n",
       "    </tr>\n",
       "  </tbody>\n",
       "</table>\n",
       "</div>"
      ],
      "text/plain": [
       "                                     id description  data_frequency   status  \\\n",
       "0  c15a6370-8679-11e6-a353-2f6c041e2491          \\N         1800000  OFFLINE   \n",
       "1  7635c920-8679-11e6-a353-2f6c041e2491          \\N         1800000  OFFLINE   \n",
       "2  763b9580-8679-11e6-a353-2f6c041e2491          \\N         1800000  OFFLINE   \n",
       "3  763ca6f0-8679-11e6-a353-2f6c041e2491          \\N         1800000  OFFLINE   \n",
       "4  763d9150-8679-11e6-a353-2f6c041e2491          \\N         1800000  OFFLINE   \n",
       "\n",
       "               created_at                  updated_at  \\\n",
       "0  2016-08-07 00:51:40+00  2016-09-29 19:41:07.066+00   \n",
       "1  2016-08-03 04:39:25+00  2016-09-29 20:13:52.793+00   \n",
       "2  2016-08-03 04:39:25+00  2016-09-29 20:13:52.797+00   \n",
       "3  2016-08-03 04:39:25+00  2016-09-29 20:13:52.803+00   \n",
       "4  2016-08-03 04:39:25+00  2016-09-29 20:13:52.811+00   \n",
       "\n",
       "                           data_type_id                               node_id  \n",
       "0  35dcdad0-8679-11e6-bda3-ef77801087ee  c147ece0-8679-11e6-a353-2f6c041e2491  \n",
       "1  35dcdad2-8679-11e6-bda3-ef77801087ee  762b8ff0-8679-11e6-a353-2f6c041e2491  \n",
       "2  35dcdad1-8679-11e6-bda3-ef77801087ee  762b8ff0-8679-11e6-a353-2f6c041e2491  \n",
       "3  35dcb3c0-8679-11e6-bda3-ef77801087ee  762b8ff0-8679-11e6-a353-2f6c041e2491  \n",
       "4  35dcb3c1-8679-11e6-bda3-ef77801087ee  762b8ff0-8679-11e6-a353-2f6c041e2491  "
      ]
     },
     "execution_count": 8,
     "metadata": {},
     "output_type": "execute_result"
    }
   ],
   "source": [
    "sensors = pd.read_csv('sensors.csv', sep=\",\")\n",
    "sensors.head()\n",
    "\n",
    "\n"
   ]
  },
  {
   "cell_type": "code",
   "execution_count": 9,
   "metadata": {},
   "outputs": [
    {
     "data": {
      "text/html": [
       "<div>\n",
       "<style scoped>\n",
       "    .dataframe tbody tr th:only-of-type {\n",
       "        vertical-align: middle;\n",
       "    }\n",
       "\n",
       "    .dataframe tbody tr th {\n",
       "        vertical-align: top;\n",
       "    }\n",
       "\n",
       "    .dataframe thead th {\n",
       "        text-align: right;\n",
       "    }\n",
       "</style>\n",
       "<table border=\"1\" class=\"dataframe\">\n",
       "  <thead>\n",
       "    <tr style=\"text-align: right;\">\n",
       "      <th></th>\n",
       "      <th>id</th>\n",
       "      <th>name</th>\n",
       "      <th>description</th>\n",
       "      <th>location</th>\n",
       "      <th>status</th>\n",
       "      <th>created_at</th>\n",
       "      <th>updated_at</th>\n",
       "    </tr>\n",
       "  </thead>\n",
       "  <tbody>\n",
       "    <tr>\n",
       "      <td>0</td>\n",
       "      <td>35dc3e90-8679-11e6-bda3-ef77801087ee</td>\n",
       "      <td>Masaya</td>\n",
       "      <td>This is the world's biggest, baddest, most evi...</td>\n",
       "      <td>{11.985318299999999,-86.178342900000004}</td>\n",
       "      <td>OFFLINE</td>\n",
       "      <td>2016-09-29 19:16:23.419+00</td>\n",
       "      <td>2016-10-07 07:43:05.015+00</td>\n",
       "    </tr>\n",
       "  </tbody>\n",
       "</table>\n",
       "</div>"
      ],
      "text/plain": [
       "                                     id    name  \\\n",
       "0  35dc3e90-8679-11e6-bda3-ef77801087ee  Masaya   \n",
       "\n",
       "                                         description  \\\n",
       "0  This is the world's biggest, baddest, most evi...   \n",
       "\n",
       "                                   location   status  \\\n",
       "0  {11.985318299999999,-86.178342900000004}  OFFLINE   \n",
       "\n",
       "                   created_at                  updated_at  \n",
       "0  2016-09-29 19:16:23.419+00  2016-10-07 07:43:05.015+00  "
      ]
     },
     "execution_count": 9,
     "metadata": {},
     "output_type": "execute_result"
    }
   ],
   "source": [
    "volcanos = pd.read_csv('volcanos.csv', sep=\",\")\n",
    "volcanos.head()\n",
    "\n",
    "\n"
   ]
  },
  {
   "cell_type": "code",
   "execution_count": null,
   "metadata": {},
   "outputs": [],
   "source": [
    "# data1=pd.merge(datapoints,datatypes,left_on='id')\n",
    "# right_on='data_type_id',how='left'\n",
    "# data1.head()\n",
    "\n",
    "# outer_merged = pd.merge(datapoints,datatypes, how=\"outer\", on=[\"id\"])\n",
    "# outer_merged#.head()\n",
    "# outer_merged.shape\n",
    "# outer_merged.drop(764c5e60-8679-11e6-a353-2f6c041e2491)"
   ]
  },
  {
   "cell_type": "code",
   "execution_count": null,
   "metadata": {},
   "outputs": [],
   "source": [
    "# plt.plot(datapoints['value'])\n",
    "# plt.xticks(range(len(datapoints['0'])) , datapoints['4'])\n",
    "# #plt.figure();\n",
    "\n",
    "\n",
    "# matplotlib.style.use('ggplot')\n",
    "# ax = datapoints.transpose().plot(kind='line', title =\"sensor data\", figsize=(15, 10), legend=True, fontsize=12)\n",
    "# ax.set_xlabel(\"timestamp\", fontsize=12)\n",
    "# ax.set_ylabel(\"value\", fontsize=12)\n",
    "# plt.show()\n",
    "\n",
    "\n",
    "\n",
    "datapoints.plot(x=\"i\",y=\"value\")\n",
    "plt.xlabel(\"id\",size=16)\n",
    "plt.ylabel(\"value\",size=16)\n",
    "plt.title(\"Sensor Vaues Vs timestamp\", size=18)\n",
    "\n"
   ]
  },
  {
   "cell_type": "code",
   "execution_count": 11,
   "metadata": {},
   "outputs": [],
   "source": [
    "datapoints['Day'] = datapoints['timestamp'].dt.day \n",
    "datapoints['Month'] = datapoints['timestamp'].dt.month\n",
    "datapoints['Year'] = datapoints['timestamp'].dt.year\n",
    "datapoints['Time']=datapoints['timestamp'].dt.time\n",
    "#plots = datapoints.groupby('sensor_id')\n",
    "\n"
   ]
  },
  {
   "cell_type": "markdown",
   "metadata": {},
   "source": [
    "### 2. Plotting Sensor Time Series\n",
    "\n",
    "Create separate plots for each sensor in the dataset. Store each one in a separate file.\n",
    "\n",
    "**What (if anything) can we tell about the various sensors from the plots?**\n",
    "\n",
    "\n"
   ]
  },
  {
   "cell_type": "code",
   "execution_count": 12,
   "metadata": {},
   "outputs": [
    {
     "data": {
      "text/html": [
       "<div>\n",
       "<style scoped>\n",
       "    .dataframe tbody tr th:only-of-type {\n",
       "        vertical-align: middle;\n",
       "    }\n",
       "\n",
       "    .dataframe tbody tr th {\n",
       "        vertical-align: top;\n",
       "    }\n",
       "\n",
       "    .dataframe thead th {\n",
       "        text-align: right;\n",
       "    }\n",
       "</style>\n",
       "<table border=\"1\" class=\"dataframe\">\n",
       "  <thead>\n",
       "    <tr style=\"text-align: right;\">\n",
       "      <th></th>\n",
       "      <th>id</th>\n",
       "      <th>value</th>\n",
       "      <th>timestamp</th>\n",
       "      <th>sensor_id</th>\n",
       "      <th>Day</th>\n",
       "      <th>Month</th>\n",
       "      <th>Year</th>\n",
       "      <th>Time</th>\n",
       "    </tr>\n",
       "  </thead>\n",
       "  <tbody>\n",
       "    <tr>\n",
       "      <td>0</td>\n",
       "      <td>764c5e60-8679-11e6-a353-2f6c041e2491</td>\n",
       "      <td>98.000</td>\n",
       "      <td>2016-08-03 04:39:25+00:00</td>\n",
       "      <td>7635c920-8679-11e6-a353-2f6c041e2491</td>\n",
       "      <td>3</td>\n",
       "      <td>8</td>\n",
       "      <td>2016</td>\n",
       "      <td>04:39:25</td>\n",
       "    </tr>\n",
       "    <tr>\n",
       "      <td>1</td>\n",
       "      <td>764c5e61-8679-11e6-a353-2f6c041e2491</td>\n",
       "      <td>33.198</td>\n",
       "      <td>2016-08-03 04:39:25+00:00</td>\n",
       "      <td>763b9580-8679-11e6-a353-2f6c041e2491</td>\n",
       "      <td>3</td>\n",
       "      <td>8</td>\n",
       "      <td>2016</td>\n",
       "      <td>04:39:25</td>\n",
       "    </tr>\n",
       "    <tr>\n",
       "      <td>2</td>\n",
       "      <td>764dbdf0-8679-11e6-a353-2f6c041e2491</td>\n",
       "      <td>29.300</td>\n",
       "      <td>2016-08-03 04:39:25+00:00</td>\n",
       "      <td>763ca6f0-8679-11e6-a353-2f6c041e2491</td>\n",
       "      <td>3</td>\n",
       "      <td>8</td>\n",
       "      <td>2016</td>\n",
       "      <td>04:39:25</td>\n",
       "    </tr>\n",
       "    <tr>\n",
       "      <td>3</td>\n",
       "      <td>764dbdf1-8679-11e6-a353-2f6c041e2491</td>\n",
       "      <td>96893.110</td>\n",
       "      <td>2016-08-03 04:39:25+00:00</td>\n",
       "      <td>763d9150-8679-11e6-a353-2f6c041e2491</td>\n",
       "      <td>3</td>\n",
       "      <td>8</td>\n",
       "      <td>2016</td>\n",
       "      <td>04:39:25</td>\n",
       "    </tr>\n",
       "    <tr>\n",
       "      <td>4</td>\n",
       "      <td>764dbdf2-8679-11e6-a353-2f6c041e2491</td>\n",
       "      <td>459.736</td>\n",
       "      <td>2016-08-03 04:39:25+00:00</td>\n",
       "      <td>763701a1-8679-11e6-a353-2f6c041e2491</td>\n",
       "      <td>3</td>\n",
       "      <td>8</td>\n",
       "      <td>2016</td>\n",
       "      <td>04:39:25</td>\n",
       "    </tr>\n",
       "    <tr>\n",
       "      <td>...</td>\n",
       "      <td>...</td>\n",
       "      <td>...</td>\n",
       "      <td>...</td>\n",
       "      <td>...</td>\n",
       "      <td>...</td>\n",
       "      <td>...</td>\n",
       "      <td>...</td>\n",
       "      <td>...</td>\n",
       "    </tr>\n",
       "    <tr>\n",
       "      <td>167743</td>\n",
       "      <td>12cd98b0-e707-11e6-89c8-314aa4f67f8c</td>\n",
       "      <td>218.000</td>\n",
       "      <td>2016-07-01 04:00:01+00:00</td>\n",
       "      <td>1248ff60-e707-11e6-89c8-314aa4f67f8c</td>\n",
       "      <td>1</td>\n",
       "      <td>7</td>\n",
       "      <td>2016</td>\n",
       "      <td>04:00:01</td>\n",
       "    </tr>\n",
       "    <tr>\n",
       "      <td>167744</td>\n",
       "      <td>12cf4660-e707-11e6-89c8-314aa4f67f8c</td>\n",
       "      <td>201.000</td>\n",
       "      <td>2016-07-01 04:20:02+00:00</td>\n",
       "      <td>1248ff60-e707-11e6-89c8-314aa4f67f8c</td>\n",
       "      <td>1</td>\n",
       "      <td>7</td>\n",
       "      <td>2016</td>\n",
       "      <td>04:20:02</td>\n",
       "    </tr>\n",
       "    <tr>\n",
       "      <td>167745</td>\n",
       "      <td>12d07ee0-e707-11e6-89c8-314aa4f67f8c</td>\n",
       "      <td>225.000</td>\n",
       "      <td>2016-07-01 04:30:02+00:00</td>\n",
       "      <td>1248ff60-e707-11e6-89c8-314aa4f67f8c</td>\n",
       "      <td>1</td>\n",
       "      <td>7</td>\n",
       "      <td>2016</td>\n",
       "      <td>04:30:02</td>\n",
       "    </tr>\n",
       "    <tr>\n",
       "      <td>167746</td>\n",
       "      <td>12d0f410-e707-11e6-89c8-314aa4f67f8c</td>\n",
       "      <td>182.000</td>\n",
       "      <td>2016-07-01 04:40:02+00:00</td>\n",
       "      <td>1248ff60-e707-11e6-89c8-314aa4f67f8c</td>\n",
       "      <td>1</td>\n",
       "      <td>7</td>\n",
       "      <td>2016</td>\n",
       "      <td>04:40:02</td>\n",
       "    </tr>\n",
       "    <tr>\n",
       "      <td>167747</td>\n",
       "      <td>12d316f0-e707-11e6-89c8-314aa4f67f8c</td>\n",
       "      <td>180.000</td>\n",
       "      <td>2016-07-01 04:50:00+00:00</td>\n",
       "      <td>1248ff60-e707-11e6-89c8-314aa4f67f8c</td>\n",
       "      <td>1</td>\n",
       "      <td>7</td>\n",
       "      <td>2016</td>\n",
       "      <td>04:50:00</td>\n",
       "    </tr>\n",
       "  </tbody>\n",
       "</table>\n",
       "<p>1830 rows × 8 columns</p>\n",
       "</div>"
      ],
      "text/plain": [
       "                                          id      value  \\\n",
       "0       764c5e60-8679-11e6-a353-2f6c041e2491     98.000   \n",
       "1       764c5e61-8679-11e6-a353-2f6c041e2491     33.198   \n",
       "2       764dbdf0-8679-11e6-a353-2f6c041e2491     29.300   \n",
       "3       764dbdf1-8679-11e6-a353-2f6c041e2491  96893.110   \n",
       "4       764dbdf2-8679-11e6-a353-2f6c041e2491    459.736   \n",
       "...                                      ...        ...   \n",
       "167743  12cd98b0-e707-11e6-89c8-314aa4f67f8c    218.000   \n",
       "167744  12cf4660-e707-11e6-89c8-314aa4f67f8c    201.000   \n",
       "167745  12d07ee0-e707-11e6-89c8-314aa4f67f8c    225.000   \n",
       "167746  12d0f410-e707-11e6-89c8-314aa4f67f8c    182.000   \n",
       "167747  12d316f0-e707-11e6-89c8-314aa4f67f8c    180.000   \n",
       "\n",
       "                       timestamp                             sensor_id  Day  \\\n",
       "0      2016-08-03 04:39:25+00:00  7635c920-8679-11e6-a353-2f6c041e2491    3   \n",
       "1      2016-08-03 04:39:25+00:00  763b9580-8679-11e6-a353-2f6c041e2491    3   \n",
       "2      2016-08-03 04:39:25+00:00  763ca6f0-8679-11e6-a353-2f6c041e2491    3   \n",
       "3      2016-08-03 04:39:25+00:00  763d9150-8679-11e6-a353-2f6c041e2491    3   \n",
       "4      2016-08-03 04:39:25+00:00  763701a1-8679-11e6-a353-2f6c041e2491    3   \n",
       "...                          ...                                   ...  ...   \n",
       "167743 2016-07-01 04:00:01+00:00  1248ff60-e707-11e6-89c8-314aa4f67f8c    1   \n",
       "167744 2016-07-01 04:20:02+00:00  1248ff60-e707-11e6-89c8-314aa4f67f8c    1   \n",
       "167745 2016-07-01 04:30:02+00:00  1248ff60-e707-11e6-89c8-314aa4f67f8c    1   \n",
       "167746 2016-07-01 04:40:02+00:00  1248ff60-e707-11e6-89c8-314aa4f67f8c    1   \n",
       "167747 2016-07-01 04:50:00+00:00  1248ff60-e707-11e6-89c8-314aa4f67f8c    1   \n",
       "\n",
       "        Month  Year      Time  \n",
       "0           8  2016  04:39:25  \n",
       "1           8  2016  04:39:25  \n",
       "2           8  2016  04:39:25  \n",
       "3           8  2016  04:39:25  \n",
       "4           8  2016  04:39:25  \n",
       "...       ...   ...       ...  \n",
       "167743      7  2016  04:00:01  \n",
       "167744      7  2016  04:20:02  \n",
       "167745      7  2016  04:30:02  \n",
       "167746      7  2016  04:40:02  \n",
       "167747      7  2016  04:50:00  \n",
       "\n",
       "[1830 rows x 8 columns]"
      ]
     },
     "execution_count": 12,
     "metadata": {},
     "output_type": "execute_result"
    }
   ],
   "source": [
    "Grp_dp = datapoints.groupby('sensor_id')\n",
    "Grp_dp.head(30)"
   ]
  },
  {
   "cell_type": "code",
   "execution_count": 61,
   "metadata": {},
   "outputs": [],
   "source": [
    "# datapoints['sensor_id'].nunique()"
   ]
  },
  {
   "cell_type": "code",
   "execution_count": 15,
   "metadata": {},
   "outputs": [
    {
     "data": {
      "text/html": [
       "<div>\n",
       "<style scoped>\n",
       "    .dataframe tbody tr th:only-of-type {\n",
       "        vertical-align: middle;\n",
       "    }\n",
       "\n",
       "    .dataframe tbody tr th {\n",
       "        vertical-align: top;\n",
       "    }\n",
       "\n",
       "    .dataframe thead th {\n",
       "        text-align: right;\n",
       "    }\n",
       "</style>\n",
       "<table border=\"1\" class=\"dataframe\">\n",
       "  <thead>\n",
       "    <tr style=\"text-align: right;\">\n",
       "      <th></th>\n",
       "      <th>id</th>\n",
       "      <th>value</th>\n",
       "      <th>timestamp</th>\n",
       "      <th>sensor_id</th>\n",
       "      <th>Day</th>\n",
       "      <th>Month</th>\n",
       "      <th>Year</th>\n",
       "      <th>Time</th>\n",
       "    </tr>\n",
       "  </thead>\n",
       "  <tbody>\n",
       "    <tr>\n",
       "      <td>0</td>\n",
       "      <td>764c5e60-8679-11e6-a353-2f6c041e2491</td>\n",
       "      <td>98.0</td>\n",
       "      <td>2016-08-03 04:39:25+00:00</td>\n",
       "      <td>7635c920-8679-11e6-a353-2f6c041e2491</td>\n",
       "      <td>3</td>\n",
       "      <td>8</td>\n",
       "      <td>2016</td>\n",
       "      <td>04:39:25</td>\n",
       "    </tr>\n",
       "    <tr>\n",
       "      <td>9</td>\n",
       "      <td>765251d0-8679-11e6-a353-2f6c041e2491</td>\n",
       "      <td>98.0</td>\n",
       "      <td>2016-08-03 04:47:41+00:00</td>\n",
       "      <td>7635c920-8679-11e6-a353-2f6c041e2491</td>\n",
       "      <td>3</td>\n",
       "      <td>8</td>\n",
       "      <td>2016</td>\n",
       "      <td>04:47:41</td>\n",
       "    </tr>\n",
       "    <tr>\n",
       "      <td>11</td>\n",
       "      <td>7655fb50-8679-11e6-a353-2f6c041e2491</td>\n",
       "      <td>98.0</td>\n",
       "      <td>2016-08-03 05:08:52+00:00</td>\n",
       "      <td>7635c920-8679-11e6-a353-2f6c041e2491</td>\n",
       "      <td>3</td>\n",
       "      <td>8</td>\n",
       "      <td>2016</td>\n",
       "      <td>05:08:52</td>\n",
       "    </tr>\n",
       "    <tr>\n",
       "      <td>16</td>\n",
       "      <td>7659cbe0-8679-11e6-a353-2f6c041e2491</td>\n",
       "      <td>98.0</td>\n",
       "      <td>2016-08-03 05:14:08+00:00</td>\n",
       "      <td>7635c920-8679-11e6-a353-2f6c041e2491</td>\n",
       "      <td>3</td>\n",
       "      <td>8</td>\n",
       "      <td>2016</td>\n",
       "      <td>05:14:08</td>\n",
       "    </tr>\n",
       "    <tr>\n",
       "      <td>21</td>\n",
       "      <td>765dea90-8679-11e6-a353-2f6c041e2491</td>\n",
       "      <td>96.0</td>\n",
       "      <td>2016-08-03 05:28:55+00:00</td>\n",
       "      <td>7635c920-8679-11e6-a353-2f6c041e2491</td>\n",
       "      <td>3</td>\n",
       "      <td>8</td>\n",
       "      <td>2016</td>\n",
       "      <td>05:28:55</td>\n",
       "    </tr>\n",
       "    <tr>\n",
       "      <td>...</td>\n",
       "      <td>...</td>\n",
       "      <td>...</td>\n",
       "      <td>...</td>\n",
       "      <td>...</td>\n",
       "      <td>...</td>\n",
       "      <td>...</td>\n",
       "      <td>...</td>\n",
       "      <td>...</td>\n",
       "    </tr>\n",
       "    <tr>\n",
       "      <td>113243</td>\n",
       "      <td>d17e84e0-86ae-11e6-b9eb-2b0883ebdaeb</td>\n",
       "      <td>100.0</td>\n",
       "      <td>2016-09-07 15:11:11+00:00</td>\n",
       "      <td>7635c920-8679-11e6-a353-2f6c041e2491</td>\n",
       "      <td>7</td>\n",
       "      <td>9</td>\n",
       "      <td>2016</td>\n",
       "      <td>15:11:11</td>\n",
       "    </tr>\n",
       "    <tr>\n",
       "      <td>113923</td>\n",
       "      <td>e4893e91-86ae-11e6-b9eb-2b0883ebdaeb</td>\n",
       "      <td>100.0</td>\n",
       "      <td>2016-09-07 15:41:10+00:00</td>\n",
       "      <td>7635c920-8679-11e6-a353-2f6c041e2491</td>\n",
       "      <td>7</td>\n",
       "      <td>9</td>\n",
       "      <td>2016</td>\n",
       "      <td>15:41:10</td>\n",
       "    </tr>\n",
       "    <tr>\n",
       "      <td>114008</td>\n",
       "      <td>1cfc89d0-86af-11e6-b9eb-2b0883ebdaeb</td>\n",
       "      <td>99.0</td>\n",
       "      <td>2016-09-07 16:41:09+00:00</td>\n",
       "      <td>7635c920-8679-11e6-a353-2f6c041e2491</td>\n",
       "      <td>7</td>\n",
       "      <td>9</td>\n",
       "      <td>2016</td>\n",
       "      <td>16:41:09</td>\n",
       "    </tr>\n",
       "    <tr>\n",
       "      <td>114072</td>\n",
       "      <td>09f0beb0-86af-11e6-b9eb-2b0883ebdaeb</td>\n",
       "      <td>99.0</td>\n",
       "      <td>2016-09-07 16:11:09+00:00</td>\n",
       "      <td>7635c920-8679-11e6-a353-2f6c041e2491</td>\n",
       "      <td>7</td>\n",
       "      <td>9</td>\n",
       "      <td>2016</td>\n",
       "      <td>16:11:09</td>\n",
       "    </tr>\n",
       "    <tr>\n",
       "      <td>114163</td>\n",
       "      <td>301b8ed0-86af-11e6-b9eb-2b0883ebdaeb</td>\n",
       "      <td>99.0</td>\n",
       "      <td>2016-09-07 17:11:09+00:00</td>\n",
       "      <td>7635c920-8679-11e6-a353-2f6c041e2491</td>\n",
       "      <td>7</td>\n",
       "      <td>9</td>\n",
       "      <td>2016</td>\n",
       "      <td>17:11:09</td>\n",
       "    </tr>\n",
       "  </tbody>\n",
       "</table>\n",
       "<p>935 rows × 8 columns</p>\n",
       "</div>"
      ],
      "text/plain": [
       "                                          id  value                 timestamp  \\\n",
       "0       764c5e60-8679-11e6-a353-2f6c041e2491   98.0 2016-08-03 04:39:25+00:00   \n",
       "9       765251d0-8679-11e6-a353-2f6c041e2491   98.0 2016-08-03 04:47:41+00:00   \n",
       "11      7655fb50-8679-11e6-a353-2f6c041e2491   98.0 2016-08-03 05:08:52+00:00   \n",
       "16      7659cbe0-8679-11e6-a353-2f6c041e2491   98.0 2016-08-03 05:14:08+00:00   \n",
       "21      765dea90-8679-11e6-a353-2f6c041e2491   96.0 2016-08-03 05:28:55+00:00   \n",
       "...                                      ...    ...                       ...   \n",
       "113243  d17e84e0-86ae-11e6-b9eb-2b0883ebdaeb  100.0 2016-09-07 15:11:11+00:00   \n",
       "113923  e4893e91-86ae-11e6-b9eb-2b0883ebdaeb  100.0 2016-09-07 15:41:10+00:00   \n",
       "114008  1cfc89d0-86af-11e6-b9eb-2b0883ebdaeb   99.0 2016-09-07 16:41:09+00:00   \n",
       "114072  09f0beb0-86af-11e6-b9eb-2b0883ebdaeb   99.0 2016-09-07 16:11:09+00:00   \n",
       "114163  301b8ed0-86af-11e6-b9eb-2b0883ebdaeb   99.0 2016-09-07 17:11:09+00:00   \n",
       "\n",
       "                                   sensor_id  Day  Month  Year      Time  \n",
       "0       7635c920-8679-11e6-a353-2f6c041e2491    3      8  2016  04:39:25  \n",
       "9       7635c920-8679-11e6-a353-2f6c041e2491    3      8  2016  04:47:41  \n",
       "11      7635c920-8679-11e6-a353-2f6c041e2491    3      8  2016  05:08:52  \n",
       "16      7635c920-8679-11e6-a353-2f6c041e2491    3      8  2016  05:14:08  \n",
       "21      7635c920-8679-11e6-a353-2f6c041e2491    3      8  2016  05:28:55  \n",
       "...                                      ...  ...    ...   ...       ...  \n",
       "113243  7635c920-8679-11e6-a353-2f6c041e2491    7      9  2016  15:11:11  \n",
       "113923  7635c920-8679-11e6-a353-2f6c041e2491    7      9  2016  15:41:10  \n",
       "114008  7635c920-8679-11e6-a353-2f6c041e2491    7      9  2016  16:41:09  \n",
       "114072  7635c920-8679-11e6-a353-2f6c041e2491    7      9  2016  16:11:09  \n",
       "114163  7635c920-8679-11e6-a353-2f6c041e2491    7      9  2016  17:11:09  \n",
       "\n",
       "[935 rows x 8 columns]"
      ]
     },
     "execution_count": 15,
     "metadata": {},
     "output_type": "execute_result"
    }
   ],
   "source": [
    "sensor1 = Grp_dp.get_group(\"7635c920-8679-11e6-a353-2f6c041e2491\")\n",
    "sensor1\n",
    "# sensor1"
   ]
  },
  {
   "cell_type": "code",
   "execution_count": 17,
   "metadata": {},
   "outputs": [],
   "source": [
    "\n",
    "\n",
    "\n",
    "\n",
    "# # Using plotly.express\n",
    "# import plotly.express as px\n",
    "\n",
    "# datapoints = px.data.stocks()\n",
    "# fig = px.line(datapoints, x='datetime', y=\"value\")\n",
    "# fig.show()\n",
    "# \n",
    "# pd.options.plotting.backend = \"plotly\"\n",
    "# df.plot(x='date', y=['sessions', 'cost'])\n",
    "\n",
    "\n",
    "\n",
    "# import matplotlib.pyplot as plt\n",
    "# import itertools\n",
    "# import warnings\n",
    "\n",
    "\n",
    "# # fontsizes = itertools.cycle([8, 16, 24, 32])\n",
    "\n",
    "# def datapoints(ax):\n",
    "#     ax.plot([1, 2])\n",
    "#     ax.set_xlabel('timestamp', fontsize=(12))\n",
    "#     ax.set_ylabel('value', fontsize=(12))\n",
    "#     ax.set_title('Sensor value VS Timeframe', fontsize=(12))\n",
    "\n",
    "\n"
   ]
  },
  {
   "cell_type": "code",
   "execution_count": null,
   "metadata": {},
   "outputs": [],
   "source": [
    "# fig, ax = plt.subplots()\n",
    "# datapoints(ax)\n",
    "# plt.tight_layout()\n",
    "\n"
   ]
  },
  {
   "cell_type": "code",
   "execution_count": null,
   "metadata": {},
   "outputs": [],
   "source": [
    "# fig, (ax1, ax2) = plt.subplots(nrows=2, ncols=1)\n",
    "# example_plot(ax1)\n",
    "# example_plot(ax2)\n",
    "# plt.tight_layout()"
   ]
  },
  {
   "cell_type": "code",
   "execution_count": null,
   "metadata": {},
   "outputs": [],
   "source": [
    "# fig, axes = plt.subplots(nrows=3, ncols=3)\n",
    "# for row in axes:\n",
    "#     for ax in row:\n",
    "#         datapoints(ax)\n",
    "# plt.tight_layout()\n",
    "\n",
    "data_test=datapoints.loc[datapoints['id'].isin('39e82000-e707-11e6-89c8-314aa4f67f8c')]\n",
    "\n",
    "# data_test = datapoints.loc[datapoints['id'] == '39e16940-e707-11e6-89c8-314aa4f67f8c']\n",
    "\n",
    "data_test\n"
   ]
  },
  {
   "cell_type": "code",
   "execution_count": null,
   "metadata": {},
   "outputs": [],
   "source": [
    "\n",
    "def getgroup(sensor_id):\n",
    "    get=plots.get_group(sensor_id) \n",
    "    sensorIndex = get.set_index('day', inplace=True)\n",
    "    groupfinal=get.groupby([\"Day\"], as_index=False)[\"value\"].max()\n",
    "    return groupfinal\n",
    "\n",
    "\n",
    "    \n",
    "\n"
   ]
  },
  {
   "cell_type": "code",
   "execution_count": null,
   "metadata": {},
   "outputs": [],
   "source": [
    "\n",
    "\n",
    "\n",
    "\n",
    "\n",
    "\n",
    "\n",
    "\n",
    "# # sensor1 = getgroup('764c5e60-8679-11e6-a353-2f6c041e2491')\n",
    "\n",
    "# datapoints.plot(x=\"timestamp\",y=\"value\")\n",
    "# plt.xlabel(\"timestamp\",size=10)\n",
    "# plt.ylabel(\"value\",size=10)\n",
    "# plt.title(\"Sensor Vaues Vs timestamp\", size=10)\n",
    "\n",
    "# # plt.figure(figure(figsize=(25,5))\n",
    "# # plt.figure(figsize=(25,5))\n",
    "# # plt.subplot(1,1,1)\n",
    "# # custom_plot(x=sensor1.index, y=sensor1.value)\n",
    "# # plt.title('Maximum Daily Values for c15q6370 Sensor')\n",
    "\n"
   ]
  },
  {
   "cell_type": "code",
   "execution_count": null,
   "metadata": {},
   "outputs": [],
   "source": [
    "pd.options.plotting.backend = \"plotly\"\n",
    "df.plot(x='date', y=['sessions', 'cost'])"
   ]
  },
  {
   "cell_type": "markdown",
   "metadata": {},
   "source": [
    "### 3.0 Descriptive Analysis One data frame at a time *\n",
    "3.1: How many sensors of each type are there?\n",
    "\n",
    "\n",
    "\n",
    "\n"
   ]
  },
  {
   "cell_type": "code",
   "execution_count": null,
   "metadata": {},
   "outputs": [],
   "source": [
    "s2.type_id.value_counts()"
   ]
  },
  {
   "cell_type": "markdown",
   "metadata": {},
   "source": [
    "----\n",
    "\n",
    "### 4.0 Creating a Digital Thread from the data sets**\n",
    "\n",
    "**Goal: Merge everything into one wide data table ** "
   ]
  },
  {
   "cell_type": "markdown",
   "metadata": {},
   "source": [
    "You have two data frames: `sensors` and `types` Merge each sensors with its type. (Hint: Use `pd.merge()`)\n",
    "\n",
    "Question: What does this achieve? Why should we do this?"
   ]
  },
  {
   "cell_type": "markdown",
   "metadata": {},
   "source": [
    "Now take the raw `data` data frame and merge it with all the `sensors` and their types."
   ]
  },
  {
   "cell_type": "code",
   "execution_count": 16,
   "metadata": {},
   "outputs": [
    {
     "data": {
      "text/html": [
       "<div>\n",
       "<style scoped>\n",
       "    .dataframe tbody tr th:only-of-type {\n",
       "        vertical-align: middle;\n",
       "    }\n",
       "\n",
       "    .dataframe tbody tr th {\n",
       "        vertical-align: top;\n",
       "    }\n",
       "\n",
       "    .dataframe thead th {\n",
       "        text-align: right;\n",
       "    }\n",
       "</style>\n",
       "<table border=\"1\" class=\"dataframe\">\n",
       "  <thead>\n",
       "    <tr style=\"text-align: right;\">\n",
       "      <th></th>\n",
       "      <th>id_x</th>\n",
       "      <th>type</th>\n",
       "      <th>si_unit</th>\n",
       "      <th>type_id</th>\n",
       "      <th>id_y</th>\n",
       "      <th>description</th>\n",
       "      <th>data_frequency</th>\n",
       "      <th>status</th>\n",
       "      <th>created_at</th>\n",
       "      <th>updated_at</th>\n",
       "      <th>data_type_id</th>\n",
       "      <th>node_id</th>\n",
       "    </tr>\n",
       "  </thead>\n",
       "  <tbody>\n",
       "    <tr>\n",
       "      <th>0</th>\n",
       "      <td>35dcb3c0-8679-11e6-bda3-ef77801087ee</td>\n",
       "      <td>temperature</td>\n",
       "      <td>celcius</td>\n",
       "      <td>TCA</td>\n",
       "      <td>763ca6f0-8679-11e6-a353-2f6c041e2491</td>\n",
       "      <td>\\N</td>\n",
       "      <td>1800000</td>\n",
       "      <td>OFFLINE</td>\n",
       "      <td>2016-08-03 04:39:25+00</td>\n",
       "      <td>2016-09-29 20:13:52.803+00</td>\n",
       "      <td>35dcb3c0-8679-11e6-bda3-ef77801087ee</td>\n",
       "      <td>762b8ff0-8679-11e6-a353-2f6c041e2491</td>\n",
       "    </tr>\n",
       "    <tr>\n",
       "      <th>1</th>\n",
       "      <td>35dcb3c0-8679-11e6-bda3-ef77801087ee</td>\n",
       "      <td>temperature</td>\n",
       "      <td>celcius</td>\n",
       "      <td>TCA</td>\n",
       "      <td>c15a6371-8679-11e6-a353-2f6c041e2491</td>\n",
       "      <td>\\N</td>\n",
       "      <td>1800000</td>\n",
       "      <td>OFFLINE</td>\n",
       "      <td>2016-08-07 00:51:40+00</td>\n",
       "      <td>2016-09-29 20:13:52.836+00</td>\n",
       "      <td>35dcb3c0-8679-11e6-bda3-ef77801087ee</td>\n",
       "      <td>c147ece0-8679-11e6-a353-2f6c041e2491</td>\n",
       "    </tr>\n",
       "    <tr>\n",
       "      <th>2</th>\n",
       "      <td>35dcb3c0-8679-11e6-bda3-ef77801087ee</td>\n",
       "      <td>temperature</td>\n",
       "      <td>celcius</td>\n",
       "      <td>TCA</td>\n",
       "      <td>7644bd40-8679-11e6-a353-2f6c041e2491</td>\n",
       "      <td>\\N</td>\n",
       "      <td>1800000</td>\n",
       "      <td>OFFLINE</td>\n",
       "      <td>2016-08-03 22:09:40+00</td>\n",
       "      <td>2016-09-29 19:20:17.417+00</td>\n",
       "      <td>35dcb3c0-8679-11e6-bda3-ef77801087ee</td>\n",
       "      <td>76309900-8679-11e6-a353-2f6c041e2491</td>\n",
       "    </tr>\n",
       "    <tr>\n",
       "      <th>3</th>\n",
       "      <td>35dcb3c0-8679-11e6-bda3-ef77801087ee</td>\n",
       "      <td>temperature</td>\n",
       "      <td>celcius</td>\n",
       "      <td>TCA</td>\n",
       "      <td>c15f9391-8679-11e6-a353-2f6c041e2491</td>\n",
       "      <td>\\N</td>\n",
       "      <td>1800000</td>\n",
       "      <td>OFFLINE</td>\n",
       "      <td>2016-08-10 04:20:22+00</td>\n",
       "      <td>2016-09-29 19:20:17.516+00</td>\n",
       "      <td>35dcb3c0-8679-11e6-bda3-ef77801087ee</td>\n",
       "      <td>c14ccee0-8679-11e6-a353-2f6c041e2491</td>\n",
       "    </tr>\n",
       "    <tr>\n",
       "      <th>4</th>\n",
       "      <td>35dcb3c0-8679-11e6-bda3-ef77801087ee</td>\n",
       "      <td>temperature</td>\n",
       "      <td>celcius</td>\n",
       "      <td>TCA</td>\n",
       "      <td>763bbc90-8679-11e6-a353-2f6c041e2491</td>\n",
       "      <td>\\N</td>\n",
       "      <td>1800000</td>\n",
       "      <td>OFFLINE</td>\n",
       "      <td>2016-08-03 21:50:32+00</td>\n",
       "      <td>2016-09-30 18:12:04.578+00</td>\n",
       "      <td>35dcb3c0-8679-11e6-bda3-ef77801087ee</td>\n",
       "      <td>762c5340-8679-11e6-a353-2f6c041e2491</td>\n",
       "    </tr>\n",
       "  </tbody>\n",
       "</table>\n",
       "</div>"
      ],
      "text/plain": [
       "                                   id_x         type  si_unit type_id  \\\n",
       "0  35dcb3c0-8679-11e6-bda3-ef77801087ee  temperature  celcius     TCA   \n",
       "1  35dcb3c0-8679-11e6-bda3-ef77801087ee  temperature  celcius     TCA   \n",
       "2  35dcb3c0-8679-11e6-bda3-ef77801087ee  temperature  celcius     TCA   \n",
       "3  35dcb3c0-8679-11e6-bda3-ef77801087ee  temperature  celcius     TCA   \n",
       "4  35dcb3c0-8679-11e6-bda3-ef77801087ee  temperature  celcius     TCA   \n",
       "\n",
       "                                   id_y description  data_frequency   status  \\\n",
       "0  763ca6f0-8679-11e6-a353-2f6c041e2491          \\N         1800000  OFFLINE   \n",
       "1  c15a6371-8679-11e6-a353-2f6c041e2491          \\N         1800000  OFFLINE   \n",
       "2  7644bd40-8679-11e6-a353-2f6c041e2491          \\N         1800000  OFFLINE   \n",
       "3  c15f9391-8679-11e6-a353-2f6c041e2491          \\N         1800000  OFFLINE   \n",
       "4  763bbc90-8679-11e6-a353-2f6c041e2491          \\N         1800000  OFFLINE   \n",
       "\n",
       "               created_at                  updated_at  \\\n",
       "0  2016-08-03 04:39:25+00  2016-09-29 20:13:52.803+00   \n",
       "1  2016-08-07 00:51:40+00  2016-09-29 20:13:52.836+00   \n",
       "2  2016-08-03 22:09:40+00  2016-09-29 19:20:17.417+00   \n",
       "3  2016-08-10 04:20:22+00  2016-09-29 19:20:17.516+00   \n",
       "4  2016-08-03 21:50:32+00  2016-09-30 18:12:04.578+00   \n",
       "\n",
       "                           data_type_id                               node_id  \n",
       "0  35dcb3c0-8679-11e6-bda3-ef77801087ee  762b8ff0-8679-11e6-a353-2f6c041e2491  \n",
       "1  35dcb3c0-8679-11e6-bda3-ef77801087ee  c147ece0-8679-11e6-a353-2f6c041e2491  \n",
       "2  35dcb3c0-8679-11e6-bda3-ef77801087ee  76309900-8679-11e6-a353-2f6c041e2491  \n",
       "3  35dcb3c0-8679-11e6-bda3-ef77801087ee  c14ccee0-8679-11e6-a353-2f6c041e2491  \n",
       "4  35dcb3c0-8679-11e6-bda3-ef77801087ee  762c5340-8679-11e6-a353-2f6c041e2491  "
      ]
     },
     "execution_count": 16,
     "metadata": {},
     "output_type": "execute_result"
    }
   ],
   "source": [
    "#merging data frame\n",
    "full=pd.merge(datatypes,sensors,left_on='id',right_on='data_type_id', how='left')\n",
    "# right_on='data_type_id'\n",
    "full.head()\n",
    "\n"
   ]
  },
  {
   "cell_type": "code",
   "execution_count": null,
   "metadata": {},
   "outputs": [],
   "source": [
    "full = pd.merge(data, s2, left_on='sensor_id', right_on='id_x')"
   ]
  },
  {
   "cell_type": "markdown",
   "metadata": {},
   "source": [
    "we have to sensor data and Datatpes together, this is merging the sensor id and sensor values with sensor data types "
   ]
  },
  {
   "cell_type": "markdown",
   "metadata": {},
   "source": [
    "-----"
   ]
  },
  {
   "cell_type": "markdown",
   "metadata": {},
   "source": [
    "### 5.0 Time Series based analysis\n",
    "\n",
    "Now, we are going to take this stitiched data frame and use it for our analysis. Specifically, we are going to perform Time-based analysis on this data.\n",
    "\n",
    "    Step 1: Take the `full` data frame and make the Time Stamp datetime format\n",
    "    Step 2: Resample the dataset to the daily level. (One observation per date)\n",
    "    Step 3: For the resampled data, calculate the daily mean, min and max values for each sensor."
   ]
  },
  {
   "cell_type": "markdown",
   "metadata": {},
   "source": [
    "Resample to get daily averages.\n",
    "Then subset to select the rows you need."
   ]
  },
  {
   "cell_type": "code",
   "execution_count": null,
   "metadata": {},
   "outputs": [],
   "source": [
    "daily = full[full.data_type_id=='HUMA']['value'].resample('D')"
   ]
  },
  {
   "cell_type": "markdown",
   "metadata": {},
   "source": [
    "### 6.0 Correlations Analysis\n",
    "\n",
    "The next task is to perform a correlation analysis. \n",
    "\n",
    "1.  Goal: We want to find all the sensors that are strongly correlated to each other.\n",
    "2. One of the reasons for doing this is that if two (or more) sensors are very highly correlated, we only need to keep one out of each correlated set. (This reduces the problem size and also takes care of colinearlity-related unstability in certain calculations.)"
   ]
  },
  {
   "cell_type": "markdown",
   "metadata": {},
   "source": [
    "The Correlation heatmap that we are looking for should be along the following lines:\n",
    "\n",
    "\n",
    "<img src = \"images/Corr_plot.JPG\" width=450>"
   ]
  },
  {
   "cell_type": "markdown",
   "metadata": {},
   "source": [
    "First, look for correlations visually. \n",
    "\n",
    "**Subtask: Plot all the sensors values (of one type) over time.**"
   ]
  },
  {
   "cell_type": "markdown",
   "metadata": {},
   "source": [
    "Sub task: Identify all the temperature sensors in the data set. Hint: These are the ones that have the string 'TCA' in their name id's"
   ]
  },
  {
   "cell_type": "code",
   "execution_count": null,
   "metadata": {},
   "outputs": [],
   "source": [
    "criteria = full.type_id == 'TCA'\n",
    "plt.figure(figsize=(20,10))\n",
    "full[criteria]['value'].plot()"
   ]
  },
  {
   "cell_type": "code",
   "execution_count": null,
   "metadata": {},
   "outputs": [],
   "source": [
    "temp_sensors = [s for s in s2[s2.type_id =='TCA']['id_x']]\n",
    "temperature_senors = [s for t,s in zip(s2['type_id'], s2['id_x']) if t=='TCA'] # alternative way"
   ]
  },
  {
   "cell_type": "markdown",
   "metadata": {},
   "source": [
    "** Using Pandas to plot all the temperature sensors on one single plot. **\n",
    "\n",
    "- Use pandas to loop over each temperature sensor, and plot them one at a time.\n",
    "- Hint: Use the following trick to do this is to plot one line at a time, over and over in a loop"
   ]
  },
  {
   "cell_type": "code",
   "execution_count": null,
   "metadata": {},
   "outputs": [],
   "source": [
    "plt.figure(figsize=(20,5))\n",
    "\n",
    "for s in temp_sensors:\n",
    "    #print(s)\n",
    "    sub_df = full[full['sensor_id']==s]\n",
    "    plt.plot(sub_df.index, sub_df['value'], '.')\n",
    "    "
   ]
  },
  {
   "cell_type": "markdown",
   "metadata": {},
   "source": [
    "This plot is fine, but all the lines are too close together. We cannot see how each sensor is behaving. For that, we can try drawing \"Subplots.\" In these plots, each sensor gets its own plot (called a 'panel')."
   ]
  },
  {
   "cell_type": "markdown",
   "metadata": {},
   "source": [
    "**Creating Subplots - Each sensor gets its own panel**"
   ]
  },
  {
   "cell_type": "code",
   "execution_count": null,
   "metadata": {},
   "outputs": [],
   "source": [
    "fig, axarr = plt.subplots(10, sharex=True)\n",
    "fig.set_size_inches(20,30) \n",
    "\n",
    "plt.figure(figsize=(20,20))\n",
    "for i,s in enumerate(temp_sensors):\n",
    "    sub_df = full[full['sensor_id']==s]\n",
    "    axarr[i].plot(sub_df.index, sub_df['value'], '.')\n",
    "    "
   ]
  },
  {
   "cell_type": "markdown",
   "metadata": {},
   "source": [
    "**Task: Creating a reshaped Data Frame of just Temperature sensors**\n",
    "\n",
    "For this, we are going to have each column be 1 sensor... from 1 to 10. The rows will be timestamps, as before.\n",
    "\n",
    "Hint: pd.pivot() is perfect for this task."
   ]
  },
  {
   "cell_type": "code",
   "execution_count": null,
   "metadata": {},
   "outputs": [],
   "source": [
    "# df.pivot(index='patient', columns='obs', values='score')"
   ]
  },
  {
   "cell_type": "code",
   "execution_count": null,
   "metadata": {},
   "outputs": [],
   "source": [
    "temp_df = full[full['sensor_id'].isin(temp_sensors)]\n",
    "del temp_df['timestamp']\n",
    "temp_df = temp_df.reset_index()\n",
    "temp_df.pivot(columns='sensor_id', values='value')\n",
    "\n"
   ]
  },
  {
   "cell_type": "markdown",
   "metadata": {},
   "source": [
    "Since this is a real sensor data set, there are some time stamps and sensor_id's that are repeating. (Unfortunately, this happens often in real data sets.)\n",
    "\n",
    "**Task: Find all rows with the same [Timestamp, Sensor_id] and delete them **"
   ]
  },
  {
   "cell_type": "markdown",
   "metadata": {},
   "source": [
    "**Here's a clever way to find out all the duplicated rows.**\n",
    "\n",
    "Some Timestamp and sensor_id are repeating. That causes Indexing problems."
   ]
  },
  {
   "cell_type": "code",
   "execution_count": null,
   "metadata": {},
   "outputs": [],
   "source": [
    "#pd.concat(g for _, g in df.groupby(\"ID\") if len(g) > 1)\n",
    "pd.concat(g for _, g in temp_df.groupby(['timestamp', 'sensor_id']) if len(g) > 1)"
   ]
  },
  {
   "cell_type": "markdown",
   "metadata": {},
   "source": [
    "**Task: Drop all the rows where timestamp and sensor_id are duplicated**"
   ]
  },
  {
   "cell_type": "code",
   "execution_count": null,
   "metadata": {},
   "outputs": [],
   "source": [
    "tdf = temp_df.drop_duplicates(subset = ['timestamp', 'sensor_id'], keep='first')\n",
    "# Hint: Look at https://segment.com/blog/5-advanced-testing-techniques-in-go/"
   ]
  },
  {
   "cell_type": "code",
   "execution_count": null,
   "metadata": {},
   "outputs": [],
   "source": [
    "#temp_df_cor = tdf.pivot(index='timestamp', columns='sensor_id', values='value')\n"
   ]
  },
  {
   "cell_type": "code",
   "execution_count": null,
   "metadata": {},
   "outputs": [],
   "source": [
    "#daily_temp_cor_df = temp_df_cor.resample('D').mean()"
   ]
  },
  {
   "cell_type": "markdown",
   "metadata": {},
   "source": [
    "Now, we are finally ready to calculate the correlations across sensor values. Hint: `Use corr()`"
   ]
  },
  {
   "cell_type": "code",
   "execution_count": null,
   "metadata": {},
   "outputs": [],
   "source": [
    "#corr_df = daily_temp_cor_df.corr()"
   ]
  },
  {
   "cell_type": "code",
   "execution_count": null,
   "metadata": {},
   "outputs": [],
   "source": [
    "# Create a mask to display only the lower triangle of the matrix (since it's mirrored around its \n",
    "# top-left to bottom-right diagonal).\n",
    "mask = np.zeros_like(corr_df)\n",
    "mask[np.triu_indices_from(mask)] = True\n"
   ]
  },
  {
   "cell_type": "code",
   "execution_count": null,
   "metadata": {},
   "outputs": [],
   "source": [
    "# Create the heatmap using seaborn library. \n",
    "# List if colormaps (parameter 'cmap') is available here: http://matplotlib.org/examples/color/colormaps_reference.html\n",
    "sns.heatmap(corr_df, cmap='RdYlGn_r', vmax=1.0, vmin=-1.0 , mask = mask, linewidths=2.5)\n",
    " \n",
    "# Show the plot we reorient the labels for each column and row to make them easier to read.\n",
    "plt.yticks(rotation=0) \n",
    "plt.xticks(rotation=90) \n",
    "plt.show()"
   ]
  },
  {
   "cell_type": "code",
   "execution_count": null,
   "metadata": {},
   "outputs": [],
   "source": [
    "full2 = full.drop_duplicates(subset = ['timestamp', 'sensor_id'], keep='first')"
   ]
  },
  {
   "cell_type": "code",
   "execution_count": null,
   "metadata": {},
   "outputs": [],
   "source": [
    "full_wide = full2.pivot(index='timestamp', columns='sensor_id', values='value')\n"
   ]
  },
  {
   "cell_type": "code",
   "execution_count": null,
   "metadata": {},
   "outputs": [],
   "source": [
    "daily_all_sensors = full_wide.resample('D').mean()"
   ]
  },
  {
   "cell_type": "code",
   "execution_count": null,
   "metadata": {},
   "outputs": [],
   "source": [
    "daily_all_sensors"
   ]
  },
  {
   "cell_type": "markdown",
   "metadata": {},
   "source": [
    "**Trying to building a Linear Model**\n",
    "\n",
    "In order to do that, we first need to create a data frame with the columns representing only those sensors for ONE NODE.\n",
    "\n",
    "Try to see if pd.pivot() can help with grouping Nodes together"
   ]
  },
  {
   "cell_type": "code",
   "execution_count": null,
   "metadata": {},
   "outputs": [],
   "source": [
    "nodes.name # so we have 10 \"nodes\" with 6 sensors each. [T, Pr, HUMA, PPM , PPM2, BATT]"
   ]
  },
  {
   "cell_type": "code",
   "execution_count": null,
   "metadata": {},
   "outputs": [],
   "source": [
    "fullnode = pd.merge(full, nodes, left_on='node_id', right_on='id')"
   ]
  },
  {
   "cell_type": "code",
   "execution_count": null,
   "metadata": {},
   "outputs": [],
   "source": [
    "fullnode.columns, fullnode.index"
   ]
  },
  {
   "cell_type": "code",
   "execution_count": null,
   "metadata": {},
   "outputs": [],
   "source": [
    "fullnode.set_index('timestamp', inplace=True)"
   ]
  },
  {
   "cell_type": "code",
   "execution_count": null,
   "metadata": {},
   "outputs": [],
   "source": [
    "fullnode.resample('D').mean()"
   ]
  },
  {
   "cell_type": "code",
   "execution_count": null,
   "metadata": {},
   "outputs": [],
   "source": [
    "# fullnode.pivot_table(index=['timestamp', 'name'], columns='type', values='value')\n",
    "fn_wide = fullnode.pivot_table(index=['timestamp','name'], columns=['type'], values='value')\n"
   ]
  },
  {
   "cell_type": "code",
   "execution_count": null,
   "metadata": {},
   "outputs": [],
   "source": [
    "#Now, let's make the Node ('name') into its own column. We do this by reset_index() for that level (=1)\n",
    "fn_wide.reset_index(level=1, inplace=True)"
   ]
  },
  {
   "cell_type": "code",
   "execution_count": null,
   "metadata": {},
   "outputs": [],
   "source": [
    "fn_wide.head()"
   ]
  },
  {
   "cell_type": "markdown",
   "metadata": {},
   "source": [
    "Before we can perform Linear Regression, we have one last step remaining. We'd like to \"resample\" all the data, aggregating it down to 'Daily' Levels."
   ]
  },
  {
   "cell_type": "code",
   "execution_count": null,
   "metadata": {},
   "outputs": [],
   "source": [
    "lmfn = fn_wide.resample('D').mean()"
   ]
  },
  {
   "cell_type": "code",
   "execution_count": null,
   "metadata": {},
   "outputs": [],
   "source": [
    "lmfn.shape"
   ]
  },
  {
   "cell_type": "markdown",
   "metadata": {},
   "source": [
    "### End of Stitching. \n",
    "\n",
    "**The Digital Thread for this dataset has been created**\n",
    "\n",
    "This \"digital Thread\" has been used to 'stitch' the data frame with all the values we wish to analyze.\n",
    "\n",
    "---\n",
    "Now we finally have the data frame in the shape we wanted to enable Linear Regression.\n",
    "\n",
    "### 8.0 Sample Modeling"
   ]
  },
  {
   "cell_type": "markdown",
   "metadata": {},
   "source": [
    "**8.1 Building A Battery Remaining-Life prediction model **\n",
    "Build a machine learning model (LR, tree-based or any other) to try and predict the Battery life (remaining) as a function of any of the other sensor characteristic.\n",
    "\n",
    "* Which variable (sensor) is a good predictor of battery life?\n",
    "* Is your linear regression a \"good fit?\"\n",
    "* What it the RMSE of your predicted values?"
   ]
  },
  {
   "cell_type": "code",
   "execution_count": null,
   "metadata": {},
   "outputs": [],
   "source": [
    "#==============================================================================\n",
    "# Supervised learning linear regression\n",
    "#==============================================================================\n",
    "\n",
    "from sklearn import linear_model\n",
    "\n",
    "# Split the data into training/testing sets\n",
    "train = lmfn[:-30]\n",
    "test = lmfn[-30:]"
   ]
  },
  {
   "cell_type": "code",
   "execution_count": null,
   "metadata": {},
   "outputs": [],
   "source": [
    "train.columns"
   ]
  },
  {
   "cell_type": "code",
   "execution_count": null,
   "metadata": {},
   "outputs": [],
   "source": [
    "target, predictors = 'battery', 'temperature'\n",
    "\n",
    "x_train=train[predictors].to_frame() #converts the pandas Series to numpy.ndarray\n",
    "y_train=train[target].to_frame()\n",
    "x_test=test[predictors].to_frame() #converts the pandas Series to numpy.ndarray\n",
    "y_test=test[target].to_frame()"
   ]
  },
  {
   "cell_type": "code",
   "execution_count": null,
   "metadata": {},
   "outputs": [],
   "source": [
    "# 2.- Create linear regression object\n",
    "regr = linear_model.LinearRegression()\n",
    "\n",
    "# 3.- Train the model using the training sets\n",
    "regr.fit(x_train,y_train)\n",
    "\n",
    "# The coefficients\n",
    "print(\"Coefficients: \",  float(regr.coef_))\n",
    "# The mean squared error\n",
    "print(\"Mean squared error: %.2f\"\n",
    "      % np.mean((regr.predict(x_train) - y_train) ** 2))"
   ]
  },
  {
   "cell_type": "code",
   "execution_count": null,
   "metadata": {},
   "outputs": [],
   "source": []
  },
  {
   "cell_type": "code",
   "execution_count": null,
   "metadata": {},
   "outputs": [],
   "source": []
  },
  {
   "cell_type": "code",
   "execution_count": null,
   "metadata": {},
   "outputs": [],
   "source": []
  },
  {
   "cell_type": "code",
   "execution_count": null,
   "metadata": {},
   "outputs": [],
   "source": []
  },
  {
   "cell_type": "code",
   "execution_count": null,
   "metadata": {},
   "outputs": [],
   "source": []
  }
 ],
 "metadata": {
  "kernelspec": {
   "display_name": "Python 3",
   "language": "python",
   "name": "python3"
  },
  "language_info": {
   "codemirror_mode": {
    "name": "ipython",
    "version": 3
   },
   "file_extension": ".py",
   "mimetype": "text/x-python",
   "name": "python",
   "nbconvert_exporter": "python",
   "pygments_lexer": "ipython3",
   "version": "3.7.4"
  }
 },
 "nbformat": 4,
 "nbformat_minor": 2
}
