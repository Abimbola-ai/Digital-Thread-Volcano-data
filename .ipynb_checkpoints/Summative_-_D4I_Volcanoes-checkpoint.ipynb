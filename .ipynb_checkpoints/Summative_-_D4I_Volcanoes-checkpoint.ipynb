{
 "cells": [
  {
   "cell_type": "markdown",
   "metadata": {},
   "source": [
    "# Digital For Industrial Summative - Part 1\n",
    " \n",
    "## Creating A Digital Thread\n"
   ]
  },
  {
   "cell_type": "markdown",
   "metadata": {},
   "source": [
    "A Digital Thread is the one unifying theme or characteristic that connects every aspect of an asset or unit, right from its inception and design, to manufacture, deployment, operations, maintenance to eventual retirement.\n",
    "\n",
    "In analysis, a digital thread is the logical with which we bind and merge the various data sources into one whole, so that it lends itself to quantitative approaches easily.\n",
    "\n",
    "<img src = 'images/Digital_Thread.JPG' width=500>\n"
   ]
  },
  {
   "cell_type": "markdown",
   "metadata": {},
   "source": [
    "A digital thread is a technique to 'stitch' the data that comes in disjoint tables, such that they can be put together logically. That is a task for this exercise."
   ]
  },
  {
   "cell_type": "markdown",
   "metadata": {},
   "source": [
    "Data sets provided:\n",
    "\n",
    "We have been give 5 data sets, all of which related to one month's worth of readings taken at a live volcano site. The volcano was instrumented with multiple sensors in 10 different geographical points (nodes). Our goal is to combine and merge all of this into one digital thread, making it amenable for analysis.\n",
    "\n",
    "Tasks:\n",
    "\n",
    "    1.0 Read all the needed input files\n",
    "    2.0 Plotting Sensor Time Series\n",
    "    3.0 Descriptive Analysis One data frame at a time \n",
    "    4.0 Creating a Digital Thread from the data sets\n",
    "    5.0 Time Series based analysis\n",
    "    6.0 Correlations Analysis\n",
    "    7.0 Data Manipulations to Merge multiple data sets\n",
    "    8.0 Building A Battery Remaining-Life prediction model"
   ]
  },
  {
   "cell_type": "code",
   "execution_count": 1,
   "metadata": {
    "slideshow": {
     "slide_type": "slide"
    }
   },
   "outputs": [],
   "source": [
    "import numpy as np\n",
    "import pandas as pd\n",
    "import seaborn as sns\n",
    "from datetime import datetime\n",
    "import os\n",
    "\n",
    "# For plot\n",
    "import matplotlib.pyplot as plt\n",
    "%matplotlib inline"
   ]
  },
  {
   "cell_type": "markdown",
   "metadata": {},
   "source": [
    "### 1.0 Read all the needed input files"
   ]
  },
  {
   "cell_type": "markdown",
   "metadata": {},
   "source": [
    "Create multiple data frames, one to hold each data table."
   ]
  },
  {
   "cell_type": "markdown",
   "metadata": {},
   "source": [
    "Convert all Data frame time stamps into date-time format, so that time-based indexing is possible"
   ]
  },
  {
   "cell_type": "code",
   "execution_count": 2,
   "metadata": {},
   "outputs": [],
   "source": [
    "datatypes = pd.read_csv('datatypes.csv')\n",
    "nodes = pd.read_csv('nodes.csv')\n",
    "sensors = pd.read_csv('sensors.csv')\n",
    "volcanos = pd.read_csv('volcanos.csv')\n",
    "datapoints = pd.read_csv('datapoints.csv')"
   ]
  },
  {
   "cell_type": "code",
   "execution_count": 3,
   "metadata": {},
   "outputs": [
    {
     "data": {
      "text/html": [
       "<div>\n",
       "<style scoped>\n",
       "    .dataframe tbody tr th:only-of-type {\n",
       "        vertical-align: middle;\n",
       "    }\n",
       "\n",
       "    .dataframe tbody tr th {\n",
       "        vertical-align: top;\n",
       "    }\n",
       "\n",
       "    .dataframe thead th {\n",
       "        text-align: right;\n",
       "    }\n",
       "</style>\n",
       "<table border=\"1\" class=\"dataframe\">\n",
       "  <thead>\n",
       "    <tr style=\"text-align: right;\">\n",
       "      <th></th>\n",
       "      <th>id</th>\n",
       "      <th>type</th>\n",
       "      <th>si_unit</th>\n",
       "      <th>type_id</th>\n",
       "    </tr>\n",
       "  </thead>\n",
       "  <tbody>\n",
       "    <tr>\n",
       "      <td>0</td>\n",
       "      <td>35dcb3c0-8679-11e6-bda3-ef77801087ee</td>\n",
       "      <td>temperature</td>\n",
       "      <td>celcius</td>\n",
       "      <td>TCA</td>\n",
       "    </tr>\n",
       "    <tr>\n",
       "      <td>1</td>\n",
       "      <td>35dcb3c1-8679-11e6-bda3-ef77801087ee</td>\n",
       "      <td>pressure</td>\n",
       "      <td>pascal</td>\n",
       "      <td>PA</td>\n",
       "    </tr>\n",
       "    <tr>\n",
       "      <td>2</td>\n",
       "      <td>35dcb3c2-8679-11e6-bda3-ef77801087ee</td>\n",
       "      <td>humidity</td>\n",
       "      <td>relative humidity</td>\n",
       "      <td>HUMA</td>\n",
       "    </tr>\n",
       "    <tr>\n",
       "      <td>3</td>\n",
       "      <td>35dcdad0-8679-11e6-bda3-ef77801087ee</td>\n",
       "      <td>carbon dioxide concentration</td>\n",
       "      <td>ppm</td>\n",
       "      <td>GP_CO2</td>\n",
       "    </tr>\n",
       "    <tr>\n",
       "      <td>4</td>\n",
       "      <td>35dcdad1-8679-11e6-bda3-ef77801087ee</td>\n",
       "      <td>hydrogen sulfide concentration</td>\n",
       "      <td>ppm</td>\n",
       "      <td>GP_H2S</td>\n",
       "    </tr>\n",
       "  </tbody>\n",
       "</table>\n",
       "</div>"
      ],
      "text/plain": [
       "                                     id                            type  \\\n",
       "0  35dcb3c0-8679-11e6-bda3-ef77801087ee                     temperature   \n",
       "1  35dcb3c1-8679-11e6-bda3-ef77801087ee                        pressure   \n",
       "2  35dcb3c2-8679-11e6-bda3-ef77801087ee                        humidity   \n",
       "3  35dcdad0-8679-11e6-bda3-ef77801087ee    carbon dioxide concentration   \n",
       "4  35dcdad1-8679-11e6-bda3-ef77801087ee  hydrogen sulfide concentration   \n",
       "\n",
       "             si_unit type_id  \n",
       "0            celcius     TCA  \n",
       "1             pascal      PA  \n",
       "2  relative humidity    HUMA  \n",
       "3                ppm  GP_CO2  \n",
       "4                ppm  GP_H2S  "
      ]
     },
     "execution_count": 3,
     "metadata": {},
     "output_type": "execute_result"
    }
   ],
   "source": [
    "datatypes.head()"
   ]
  },
  {
   "cell_type": "code",
   "execution_count": 4,
   "metadata": {},
   "outputs": [
    {
     "data": {
      "text/html": [
       "<div>\n",
       "<style scoped>\n",
       "    .dataframe tbody tr th:only-of-type {\n",
       "        vertical-align: middle;\n",
       "    }\n",
       "\n",
       "    .dataframe tbody tr th {\n",
       "        vertical-align: top;\n",
       "    }\n",
       "\n",
       "    .dataframe thead th {\n",
       "        text-align: right;\n",
       "    }\n",
       "</style>\n",
       "<table border=\"1\" class=\"dataframe\">\n",
       "  <thead>\n",
       "    <tr style=\"text-align: right;\">\n",
       "      <th></th>\n",
       "      <th>id</th>\n",
       "      <th>value</th>\n",
       "      <th>timestamp</th>\n",
       "      <th>sensor_id</th>\n",
       "    </tr>\n",
       "  </thead>\n",
       "  <tbody>\n",
       "    <tr>\n",
       "      <td>0</td>\n",
       "      <td>764c5e60-8679-11e6-a353-2f6c041e2491</td>\n",
       "      <td>98.000</td>\n",
       "      <td>2016-08-03 04:39:25+00</td>\n",
       "      <td>7635c920-8679-11e6-a353-2f6c041e2491</td>\n",
       "    </tr>\n",
       "    <tr>\n",
       "      <td>1</td>\n",
       "      <td>764c5e61-8679-11e6-a353-2f6c041e2491</td>\n",
       "      <td>33.198</td>\n",
       "      <td>2016-08-03 04:39:25+00</td>\n",
       "      <td>763b9580-8679-11e6-a353-2f6c041e2491</td>\n",
       "    </tr>\n",
       "    <tr>\n",
       "      <td>2</td>\n",
       "      <td>764dbdf0-8679-11e6-a353-2f6c041e2491</td>\n",
       "      <td>29.300</td>\n",
       "      <td>2016-08-03 04:39:25+00</td>\n",
       "      <td>763ca6f0-8679-11e6-a353-2f6c041e2491</td>\n",
       "    </tr>\n",
       "    <tr>\n",
       "      <td>3</td>\n",
       "      <td>764dbdf1-8679-11e6-a353-2f6c041e2491</td>\n",
       "      <td>96893.110</td>\n",
       "      <td>2016-08-03 04:39:25+00</td>\n",
       "      <td>763d9150-8679-11e6-a353-2f6c041e2491</td>\n",
       "    </tr>\n",
       "    <tr>\n",
       "      <td>4</td>\n",
       "      <td>764dbdf2-8679-11e6-a353-2f6c041e2491</td>\n",
       "      <td>459.736</td>\n",
       "      <td>2016-08-03 04:39:25+00</td>\n",
       "      <td>763701a1-8679-11e6-a353-2f6c041e2491</td>\n",
       "    </tr>\n",
       "  </tbody>\n",
       "</table>\n",
       "</div>"
      ],
      "text/plain": [
       "                                     id      value               timestamp  \\\n",
       "0  764c5e60-8679-11e6-a353-2f6c041e2491     98.000  2016-08-03 04:39:25+00   \n",
       "1  764c5e61-8679-11e6-a353-2f6c041e2491     33.198  2016-08-03 04:39:25+00   \n",
       "2  764dbdf0-8679-11e6-a353-2f6c041e2491     29.300  2016-08-03 04:39:25+00   \n",
       "3  764dbdf1-8679-11e6-a353-2f6c041e2491  96893.110  2016-08-03 04:39:25+00   \n",
       "4  764dbdf2-8679-11e6-a353-2f6c041e2491    459.736  2016-08-03 04:39:25+00   \n",
       "\n",
       "                              sensor_id  \n",
       "0  7635c920-8679-11e6-a353-2f6c041e2491  \n",
       "1  763b9580-8679-11e6-a353-2f6c041e2491  \n",
       "2  763ca6f0-8679-11e6-a353-2f6c041e2491  \n",
       "3  763d9150-8679-11e6-a353-2f6c041e2491  \n",
       "4  763701a1-8679-11e6-a353-2f6c041e2491  "
      ]
     },
     "execution_count": 4,
     "metadata": {},
     "output_type": "execute_result"
    }
   ],
   "source": [
    "datapoints.head()"
   ]
  },
  {
   "cell_type": "code",
   "execution_count": 5,
   "metadata": {},
   "outputs": [],
   "source": [
    "\n",
    "datapoints['timestamp']= pd.to_datetime(datapoints['timestamp'])\n"
   ]
  },
  {
   "cell_type": "code",
   "execution_count": 6,
   "metadata": {},
   "outputs": [
    {
     "data": {
      "text/html": [
       "<div>\n",
       "<style scoped>\n",
       "    .dataframe tbody tr th:only-of-type {\n",
       "        vertical-align: middle;\n",
       "    }\n",
       "\n",
       "    .dataframe tbody tr th {\n",
       "        vertical-align: top;\n",
       "    }\n",
       "\n",
       "    .dataframe thead th {\n",
       "        text-align: right;\n",
       "    }\n",
       "</style>\n",
       "<table border=\"1\" class=\"dataframe\">\n",
       "  <thead>\n",
       "    <tr style=\"text-align: right;\">\n",
       "      <th></th>\n",
       "      <th>id</th>\n",
       "      <th>name</th>\n",
       "      <th>description</th>\n",
       "      <th>location</th>\n",
       "      <th>status</th>\n",
       "      <th>created_at</th>\n",
       "      <th>updated_at</th>\n",
       "      <th>volcano_id</th>\n",
       "    </tr>\n",
       "  </thead>\n",
       "  <tbody>\n",
       "    <tr>\n",
       "      <td>0</td>\n",
       "      <td>c5e39fa0-867a-11e6-a353-2f6c041e2491</td>\n",
       "      <td>N1</td>\n",
       "      <td>\\N</td>\n",
       "      <td>\\N</td>\n",
       "      <td>OFFLINE</td>\n",
       "      <td>2016-08-17 01:06:49+00</td>\n",
       "      <td>2016-09-29 19:28:05.932+00</td>\n",
       "      <td>35dc3e90-8679-11e6-bda3-ef77801087ee</td>\n",
       "    </tr>\n",
       "    <tr>\n",
       "      <td>1</td>\n",
       "      <td>c147ece0-8679-11e6-a353-2f6c041e2491</td>\n",
       "      <td>N9</td>\n",
       "      <td>\\N</td>\n",
       "      <td>\\N</td>\n",
       "      <td>OFFLINE</td>\n",
       "      <td>2016-08-07 00:51:40+00</td>\n",
       "      <td>2016-09-29 19:41:07.065+00</td>\n",
       "      <td>35dc3e90-8679-11e6-bda3-ef77801087ee</td>\n",
       "    </tr>\n",
       "    <tr>\n",
       "      <td>2</td>\n",
       "      <td>76309900-8679-11e6-a353-2f6c041e2491</td>\n",
       "      <td>N8</td>\n",
       "      <td>\\N</td>\n",
       "      <td>\\N</td>\n",
       "      <td>OFFLINE</td>\n",
       "      <td>2016-08-03 22:09:40+00</td>\n",
       "      <td>2016-09-29 19:20:17.417+00</td>\n",
       "      <td>35dc3e90-8679-11e6-bda3-ef77801087ee</td>\n",
       "    </tr>\n",
       "    <tr>\n",
       "      <td>3</td>\n",
       "      <td>762b8ff0-8679-11e6-a353-2f6c041e2491</td>\n",
       "      <td>N10</td>\n",
       "      <td>\\N</td>\n",
       "      <td>\\N</td>\n",
       "      <td>OFFLINE</td>\n",
       "      <td>2016-08-03 04:39:25+00</td>\n",
       "      <td>2016-09-29 19:20:17.431+00</td>\n",
       "      <td>35dc3e90-8679-11e6-bda3-ef77801087ee</td>\n",
       "    </tr>\n",
       "    <tr>\n",
       "      <td>4</td>\n",
       "      <td>c14ccee0-8679-11e6-a353-2f6c041e2491</td>\n",
       "      <td>N2</td>\n",
       "      <td>\\N</td>\n",
       "      <td>\\N</td>\n",
       "      <td>OFFLINE</td>\n",
       "      <td>2016-08-10 04:20:22+00</td>\n",
       "      <td>2016-09-29 19:20:17.523+00</td>\n",
       "      <td>35dc3e90-8679-11e6-bda3-ef77801087ee</td>\n",
       "    </tr>\n",
       "  </tbody>\n",
       "</table>\n",
       "</div>"
      ],
      "text/plain": [
       "                                     id name description location   status  \\\n",
       "0  c5e39fa0-867a-11e6-a353-2f6c041e2491   N1          \\N       \\N  OFFLINE   \n",
       "1  c147ece0-8679-11e6-a353-2f6c041e2491   N9          \\N       \\N  OFFLINE   \n",
       "2  76309900-8679-11e6-a353-2f6c041e2491   N8          \\N       \\N  OFFLINE   \n",
       "3  762b8ff0-8679-11e6-a353-2f6c041e2491  N10          \\N       \\N  OFFLINE   \n",
       "4  c14ccee0-8679-11e6-a353-2f6c041e2491   N2          \\N       \\N  OFFLINE   \n",
       "\n",
       "               created_at                  updated_at  \\\n",
       "0  2016-08-17 01:06:49+00  2016-09-29 19:28:05.932+00   \n",
       "1  2016-08-07 00:51:40+00  2016-09-29 19:41:07.065+00   \n",
       "2  2016-08-03 22:09:40+00  2016-09-29 19:20:17.417+00   \n",
       "3  2016-08-03 04:39:25+00  2016-09-29 19:20:17.431+00   \n",
       "4  2016-08-10 04:20:22+00  2016-09-29 19:20:17.523+00   \n",
       "\n",
       "                             volcano_id  \n",
       "0  35dc3e90-8679-11e6-bda3-ef77801087ee  \n",
       "1  35dc3e90-8679-11e6-bda3-ef77801087ee  \n",
       "2  35dc3e90-8679-11e6-bda3-ef77801087ee  \n",
       "3  35dc3e90-8679-11e6-bda3-ef77801087ee  \n",
       "4  35dc3e90-8679-11e6-bda3-ef77801087ee  "
      ]
     },
     "execution_count": 6,
     "metadata": {},
     "output_type": "execute_result"
    }
   ],
   "source": [
    "nodes.head()"
   ]
  },
  {
   "cell_type": "code",
   "execution_count": 7,
   "metadata": {},
   "outputs": [],
   "source": [
    "nodes['created_at'] = pd.to_datetime(nodes['created_at'])\n",
    "nodes['updated_at'] = pd.to_datetime(nodes['updated_at'])\n"
   ]
  },
  {
   "cell_type": "code",
   "execution_count": 8,
   "metadata": {},
   "outputs": [],
   "source": [
    "sensors['created_at'] = pd.to_datetime(sensors['created_at'])\n",
    "sensors['updated_at'] = pd.to_datetime(sensors['updated_at'])"
   ]
  },
  {
   "cell_type": "code",
   "execution_count": 9,
   "metadata": {},
   "outputs": [],
   "source": [
    "volcanos['created_at'] = pd.to_datetime(volcanos['created_at'])\n",
    "volcanos['updated_at'] = pd.to_datetime(volcanos['updated_at'])"
   ]
  },
  {
   "cell_type": "code",
   "execution_count": 10,
   "metadata": {},
   "outputs": [
    {
     "data": {
      "text/html": [
       "<div>\n",
       "<style scoped>\n",
       "    .dataframe tbody tr th:only-of-type {\n",
       "        vertical-align: middle;\n",
       "    }\n",
       "\n",
       "    .dataframe tbody tr th {\n",
       "        vertical-align: top;\n",
       "    }\n",
       "\n",
       "    .dataframe thead th {\n",
       "        text-align: right;\n",
       "    }\n",
       "</style>\n",
       "<table border=\"1\" class=\"dataframe\">\n",
       "  <thead>\n",
       "    <tr style=\"text-align: right;\">\n",
       "      <th></th>\n",
       "      <th>id</th>\n",
       "      <th>description</th>\n",
       "      <th>data_frequency</th>\n",
       "      <th>status</th>\n",
       "      <th>created_at</th>\n",
       "      <th>updated_at</th>\n",
       "      <th>data_type_id</th>\n",
       "      <th>node_id</th>\n",
       "    </tr>\n",
       "  </thead>\n",
       "  <tbody>\n",
       "    <tr>\n",
       "      <td>0</td>\n",
       "      <td>c15a6370-8679-11e6-a353-2f6c041e2491</td>\n",
       "      <td>\\N</td>\n",
       "      <td>1800000</td>\n",
       "      <td>OFFLINE</td>\n",
       "      <td>2016-08-07 00:51:40+00:00</td>\n",
       "      <td>2016-09-29 19:41:07.066000+00:00</td>\n",
       "      <td>35dcdad0-8679-11e6-bda3-ef77801087ee</td>\n",
       "      <td>c147ece0-8679-11e6-a353-2f6c041e2491</td>\n",
       "    </tr>\n",
       "    <tr>\n",
       "      <td>1</td>\n",
       "      <td>7635c920-8679-11e6-a353-2f6c041e2491</td>\n",
       "      <td>\\N</td>\n",
       "      <td>1800000</td>\n",
       "      <td>OFFLINE</td>\n",
       "      <td>2016-08-03 04:39:25+00:00</td>\n",
       "      <td>2016-09-29 20:13:52.793000+00:00</td>\n",
       "      <td>35dcdad2-8679-11e6-bda3-ef77801087ee</td>\n",
       "      <td>762b8ff0-8679-11e6-a353-2f6c041e2491</td>\n",
       "    </tr>\n",
       "    <tr>\n",
       "      <td>2</td>\n",
       "      <td>763b9580-8679-11e6-a353-2f6c041e2491</td>\n",
       "      <td>\\N</td>\n",
       "      <td>1800000</td>\n",
       "      <td>OFFLINE</td>\n",
       "      <td>2016-08-03 04:39:25+00:00</td>\n",
       "      <td>2016-09-29 20:13:52.797000+00:00</td>\n",
       "      <td>35dcdad1-8679-11e6-bda3-ef77801087ee</td>\n",
       "      <td>762b8ff0-8679-11e6-a353-2f6c041e2491</td>\n",
       "    </tr>\n",
       "    <tr>\n",
       "      <td>3</td>\n",
       "      <td>763ca6f0-8679-11e6-a353-2f6c041e2491</td>\n",
       "      <td>\\N</td>\n",
       "      <td>1800000</td>\n",
       "      <td>OFFLINE</td>\n",
       "      <td>2016-08-03 04:39:25+00:00</td>\n",
       "      <td>2016-09-29 20:13:52.803000+00:00</td>\n",
       "      <td>35dcb3c0-8679-11e6-bda3-ef77801087ee</td>\n",
       "      <td>762b8ff0-8679-11e6-a353-2f6c041e2491</td>\n",
       "    </tr>\n",
       "    <tr>\n",
       "      <td>4</td>\n",
       "      <td>763d9150-8679-11e6-a353-2f6c041e2491</td>\n",
       "      <td>\\N</td>\n",
       "      <td>1800000</td>\n",
       "      <td>OFFLINE</td>\n",
       "      <td>2016-08-03 04:39:25+00:00</td>\n",
       "      <td>2016-09-29 20:13:52.811000+00:00</td>\n",
       "      <td>35dcb3c1-8679-11e6-bda3-ef77801087ee</td>\n",
       "      <td>762b8ff0-8679-11e6-a353-2f6c041e2491</td>\n",
       "    </tr>\n",
       "  </tbody>\n",
       "</table>\n",
       "</div>"
      ],
      "text/plain": [
       "                                     id description  data_frequency   status  \\\n",
       "0  c15a6370-8679-11e6-a353-2f6c041e2491          \\N         1800000  OFFLINE   \n",
       "1  7635c920-8679-11e6-a353-2f6c041e2491          \\N         1800000  OFFLINE   \n",
       "2  763b9580-8679-11e6-a353-2f6c041e2491          \\N         1800000  OFFLINE   \n",
       "3  763ca6f0-8679-11e6-a353-2f6c041e2491          \\N         1800000  OFFLINE   \n",
       "4  763d9150-8679-11e6-a353-2f6c041e2491          \\N         1800000  OFFLINE   \n",
       "\n",
       "                 created_at                       updated_at  \\\n",
       "0 2016-08-07 00:51:40+00:00 2016-09-29 19:41:07.066000+00:00   \n",
       "1 2016-08-03 04:39:25+00:00 2016-09-29 20:13:52.793000+00:00   \n",
       "2 2016-08-03 04:39:25+00:00 2016-09-29 20:13:52.797000+00:00   \n",
       "3 2016-08-03 04:39:25+00:00 2016-09-29 20:13:52.803000+00:00   \n",
       "4 2016-08-03 04:39:25+00:00 2016-09-29 20:13:52.811000+00:00   \n",
       "\n",
       "                           data_type_id                               node_id  \n",
       "0  35dcdad0-8679-11e6-bda3-ef77801087ee  c147ece0-8679-11e6-a353-2f6c041e2491  \n",
       "1  35dcdad2-8679-11e6-bda3-ef77801087ee  762b8ff0-8679-11e6-a353-2f6c041e2491  \n",
       "2  35dcdad1-8679-11e6-bda3-ef77801087ee  762b8ff0-8679-11e6-a353-2f6c041e2491  \n",
       "3  35dcb3c0-8679-11e6-bda3-ef77801087ee  762b8ff0-8679-11e6-a353-2f6c041e2491  \n",
       "4  35dcb3c1-8679-11e6-bda3-ef77801087ee  762b8ff0-8679-11e6-a353-2f6c041e2491  "
      ]
     },
     "execution_count": 10,
     "metadata": {},
     "output_type": "execute_result"
    }
   ],
   "source": [
    "sensors.head()"
   ]
  },
  {
   "cell_type": "code",
   "execution_count": 11,
   "metadata": {},
   "outputs": [
    {
     "data": {
      "text/html": [
       "<div>\n",
       "<style scoped>\n",
       "    .dataframe tbody tr th:only-of-type {\n",
       "        vertical-align: middle;\n",
       "    }\n",
       "\n",
       "    .dataframe tbody tr th {\n",
       "        vertical-align: top;\n",
       "    }\n",
       "\n",
       "    .dataframe thead th {\n",
       "        text-align: right;\n",
       "    }\n",
       "</style>\n",
       "<table border=\"1\" class=\"dataframe\">\n",
       "  <thead>\n",
       "    <tr style=\"text-align: right;\">\n",
       "      <th></th>\n",
       "      <th>id</th>\n",
       "      <th>name</th>\n",
       "      <th>description</th>\n",
       "      <th>location</th>\n",
       "      <th>status</th>\n",
       "      <th>created_at</th>\n",
       "      <th>updated_at</th>\n",
       "    </tr>\n",
       "  </thead>\n",
       "  <tbody>\n",
       "    <tr>\n",
       "      <td>0</td>\n",
       "      <td>35dc3e90-8679-11e6-bda3-ef77801087ee</td>\n",
       "      <td>Masaya</td>\n",
       "      <td>This is the world's biggest, baddest, most evi...</td>\n",
       "      <td>{11.985318299999999,-86.178342900000004}</td>\n",
       "      <td>OFFLINE</td>\n",
       "      <td>2016-09-29 19:16:23.419000+00:00</td>\n",
       "      <td>2016-10-07 07:43:05.015000+00:00</td>\n",
       "    </tr>\n",
       "  </tbody>\n",
       "</table>\n",
       "</div>"
      ],
      "text/plain": [
       "                                     id    name  \\\n",
       "0  35dc3e90-8679-11e6-bda3-ef77801087ee  Masaya   \n",
       "\n",
       "                                         description  \\\n",
       "0  This is the world's biggest, baddest, most evi...   \n",
       "\n",
       "                                   location   status  \\\n",
       "0  {11.985318299999999,-86.178342900000004}  OFFLINE   \n",
       "\n",
       "                        created_at                       updated_at  \n",
       "0 2016-09-29 19:16:23.419000+00:00 2016-10-07 07:43:05.015000+00:00  "
      ]
     },
     "execution_count": 11,
     "metadata": {},
     "output_type": "execute_result"
    }
   ],
   "source": [
    "volcanos.head()"
   ]
  },
  {
   "cell_type": "code",
   "execution_count": 12,
   "metadata": {},
   "outputs": [
    {
     "name": "stdout",
     "output_type": "stream",
     "text": [
      "(7, 4) (11, 8) (61, 8) (1, 7) (176534, 4)\n"
     ]
    }
   ],
   "source": [
    "print(datatypes.shape,nodes.shape,sensors.shape,volcanos.shape, datapoints.shape)"
   ]
  },
  {
   "cell_type": "code",
   "execution_count": 13,
   "metadata": {},
   "outputs": [
    {
     "data": {
      "text/html": [
       "<div>\n",
       "<style scoped>\n",
       "    .dataframe tbody tr th:only-of-type {\n",
       "        vertical-align: middle;\n",
       "    }\n",
       "\n",
       "    .dataframe tbody tr th {\n",
       "        vertical-align: top;\n",
       "    }\n",
       "\n",
       "    .dataframe thead th {\n",
       "        text-align: right;\n",
       "    }\n",
       "</style>\n",
       "<table border=\"1\" class=\"dataframe\">\n",
       "  <thead>\n",
       "    <tr style=\"text-align: right;\">\n",
       "      <th></th>\n",
       "      <th>id</th>\n",
       "      <th>value</th>\n",
       "      <th>timestamp</th>\n",
       "      <th>sensor_id</th>\n",
       "    </tr>\n",
       "  </thead>\n",
       "  <tbody>\n",
       "    <tr>\n",
       "      <td>0</td>\n",
       "      <td>764c5e60-8679-11e6-a353-2f6c041e2491</td>\n",
       "      <td>98.000</td>\n",
       "      <td>2016-08-03 04:39:25+00:00</td>\n",
       "      <td>7635c920-8679-11e6-a353-2f6c041e2491</td>\n",
       "    </tr>\n",
       "    <tr>\n",
       "      <td>1</td>\n",
       "      <td>764c5e61-8679-11e6-a353-2f6c041e2491</td>\n",
       "      <td>33.198</td>\n",
       "      <td>2016-08-03 04:39:25+00:00</td>\n",
       "      <td>763b9580-8679-11e6-a353-2f6c041e2491</td>\n",
       "    </tr>\n",
       "    <tr>\n",
       "      <td>2</td>\n",
       "      <td>764dbdf0-8679-11e6-a353-2f6c041e2491</td>\n",
       "      <td>29.300</td>\n",
       "      <td>2016-08-03 04:39:25+00:00</td>\n",
       "      <td>763ca6f0-8679-11e6-a353-2f6c041e2491</td>\n",
       "    </tr>\n",
       "    <tr>\n",
       "      <td>3</td>\n",
       "      <td>764dbdf1-8679-11e6-a353-2f6c041e2491</td>\n",
       "      <td>96893.110</td>\n",
       "      <td>2016-08-03 04:39:25+00:00</td>\n",
       "      <td>763d9150-8679-11e6-a353-2f6c041e2491</td>\n",
       "    </tr>\n",
       "    <tr>\n",
       "      <td>4</td>\n",
       "      <td>764dbdf2-8679-11e6-a353-2f6c041e2491</td>\n",
       "      <td>459.736</td>\n",
       "      <td>2016-08-03 04:39:25+00:00</td>\n",
       "      <td>763701a1-8679-11e6-a353-2f6c041e2491</td>\n",
       "    </tr>\n",
       "  </tbody>\n",
       "</table>\n",
       "</div>"
      ],
      "text/plain": [
       "                                     id      value                 timestamp  \\\n",
       "0  764c5e60-8679-11e6-a353-2f6c041e2491     98.000 2016-08-03 04:39:25+00:00   \n",
       "1  764c5e61-8679-11e6-a353-2f6c041e2491     33.198 2016-08-03 04:39:25+00:00   \n",
       "2  764dbdf0-8679-11e6-a353-2f6c041e2491     29.300 2016-08-03 04:39:25+00:00   \n",
       "3  764dbdf1-8679-11e6-a353-2f6c041e2491  96893.110 2016-08-03 04:39:25+00:00   \n",
       "4  764dbdf2-8679-11e6-a353-2f6c041e2491    459.736 2016-08-03 04:39:25+00:00   \n",
       "\n",
       "                              sensor_id  \n",
       "0  7635c920-8679-11e6-a353-2f6c041e2491  \n",
       "1  763b9580-8679-11e6-a353-2f6c041e2491  \n",
       "2  763ca6f0-8679-11e6-a353-2f6c041e2491  \n",
       "3  763d9150-8679-11e6-a353-2f6c041e2491  \n",
       "4  763701a1-8679-11e6-a353-2f6c041e2491  "
      ]
     },
     "execution_count": 13,
     "metadata": {},
     "output_type": "execute_result"
    }
   ],
   "source": [
    "datapoints.head()"
   ]
  },
  {
   "cell_type": "code",
   "execution_count": 205,
   "metadata": {},
   "outputs": [],
   "source": [
    "#datapoints['sensor_id'].value_counts(normalize=True)"
   ]
  },
  {
   "cell_type": "code",
   "execution_count": 206,
   "metadata": {},
   "outputs": [],
   "source": [
    "#datapoints['id'].value_counts(normalize=True)"
   ]
  },
  {
   "cell_type": "markdown",
   "metadata": {},
   "source": [
    "### 2. Plotting Sensor Time Series\n",
    "\n",
    "Create separate plots for each sensor in the dataset. Store each one in a separate file.\n",
    "\n",
    "**What (if anything) can we tell about the various sensors from the plots?**\n"
   ]
  },
  {
   "cell_type": "code",
   "execution_count": 43,
   "metadata": {},
   "outputs": [],
   "source": [
    "# # plot data\n",
    "# fig, ax = plt.subplots(figsize=(15,7))\n",
    "# # use unstack()\n",
    "# sensors.groupby(['id','created_at']).sum()#['value']\n"
   ]
  },
  {
   "cell_type": "code",
   "execution_count": 17,
   "metadata": {},
   "outputs": [
    {
     "data": {
      "text/html": [
       "<div>\n",
       "<style scoped>\n",
       "    .dataframe tbody tr th:only-of-type {\n",
       "        vertical-align: middle;\n",
       "    }\n",
       "\n",
       "    .dataframe tbody tr th {\n",
       "        vertical-align: top;\n",
       "    }\n",
       "\n",
       "    .dataframe thead th {\n",
       "        text-align: right;\n",
       "    }\n",
       "</style>\n",
       "<table border=\"1\" class=\"dataframe\">\n",
       "  <thead>\n",
       "    <tr style=\"text-align: right;\">\n",
       "      <th></th>\n",
       "      <th>description</th>\n",
       "      <th>data_frequency</th>\n",
       "      <th>status</th>\n",
       "      <th>created_at</th>\n",
       "      <th>updated_at</th>\n",
       "      <th>data_type_id</th>\n",
       "      <th>node_id</th>\n",
       "    </tr>\n",
       "    <tr>\n",
       "      <th>id</th>\n",
       "      <th></th>\n",
       "      <th></th>\n",
       "      <th></th>\n",
       "      <th></th>\n",
       "      <th></th>\n",
       "      <th></th>\n",
       "      <th></th>\n",
       "    </tr>\n",
       "  </thead>\n",
       "  <tbody>\n",
       "    <tr>\n",
       "      <td>1248ff60-e707-11e6-89c8-314aa4f67f8c</td>\n",
       "      <td>[\\N]</td>\n",
       "      <td>[1800000]</td>\n",
       "      <td>[OFFLINE]</td>\n",
       "      <td>[2016-07-01 00:00:31+00:00]</td>\n",
       "      <td>[2017-01-30 16:24:05.832000+00:00]</td>\n",
       "      <td>[ed5edee0-e701-11e6-83c1-01ce06e6d17f]</td>\n",
       "      <td>[ede3ed60-e701-11e6-83c1-01ce06e6d17f]</td>\n",
       "    </tr>\n",
       "    <tr>\n",
       "      <td>7635c920-8679-11e6-a353-2f6c041e2491</td>\n",
       "      <td>[\\N]</td>\n",
       "      <td>[1800000]</td>\n",
       "      <td>[OFFLINE]</td>\n",
       "      <td>[2016-08-03 04:39:25+00:00]</td>\n",
       "      <td>[2016-09-29 20:13:52.793000+00:00]</td>\n",
       "      <td>[35dcdad2-8679-11e6-bda3-ef77801087ee]</td>\n",
       "      <td>[762b8ff0-8679-11e6-a353-2f6c041e2491]</td>\n",
       "    </tr>\n",
       "    <tr>\n",
       "      <td>7635f030-8679-11e6-a353-2f6c041e2491</td>\n",
       "      <td>[\\N]</td>\n",
       "      <td>[1800000]</td>\n",
       "      <td>[OFFLINE]</td>\n",
       "      <td>[2016-08-03 21:50:32+00:00]</td>\n",
       "      <td>[2016-10-07 07:43:04.976000+00:00]</td>\n",
       "      <td>[35dcdad2-8679-11e6-bda3-ef77801087ee]</td>\n",
       "      <td>[762c5340-8679-11e6-a353-2f6c041e2491]</td>\n",
       "    </tr>\n",
       "    <tr>\n",
       "      <td>7636da90-8679-11e6-a353-2f6c041e2491</td>\n",
       "      <td>[\\N]</td>\n",
       "      <td>[1800000]</td>\n",
       "      <td>[OFFLINE]</td>\n",
       "      <td>[2016-08-03 21:50:32+00:00]</td>\n",
       "      <td>[2016-09-30 18:12:04.577000+00:00]</td>\n",
       "      <td>[35dcdad0-8679-11e6-bda3-ef77801087ee]</td>\n",
       "      <td>[762c5340-8679-11e6-a353-2f6c041e2491]</td>\n",
       "    </tr>\n",
       "    <tr>\n",
       "      <td>763701a0-8679-11e6-a353-2f6c041e2491</td>\n",
       "      <td>[\\N]</td>\n",
       "      <td>[1800000]</td>\n",
       "      <td>[OFFLINE]</td>\n",
       "      <td>[2016-08-03 21:50:32+00:00]</td>\n",
       "      <td>[2016-09-30 18:12:04.577000+00:00]</td>\n",
       "      <td>[35dcdad1-8679-11e6-bda3-ef77801087ee]</td>\n",
       "      <td>[762c5340-8679-11e6-a353-2f6c041e2491]</td>\n",
       "    </tr>\n",
       "    <tr>\n",
       "      <td>...</td>\n",
       "      <td>...</td>\n",
       "      <td>...</td>\n",
       "      <td>...</td>\n",
       "      <td>...</td>\n",
       "      <td>...</td>\n",
       "      <td>...</td>\n",
       "      <td>...</td>\n",
       "    </tr>\n",
       "    <tr>\n",
       "      <td>e6678e90-8679-11e6-a353-2f6c041e2491</td>\n",
       "      <td>[\\N]</td>\n",
       "      <td>[1800000]</td>\n",
       "      <td>[OFFLINE]</td>\n",
       "      <td>[2016-08-15 08:46:05+00:00]</td>\n",
       "      <td>[2016-09-29 19:30:42.127000+00:00]</td>\n",
       "      <td>[35dcdad1-8679-11e6-bda3-ef77801087ee]</td>\n",
       "      <td>[e662fab0-8679-11e6-a353-2f6c041e2491]</td>\n",
       "    </tr>\n",
       "    <tr>\n",
       "      <td>e6678e91-8679-11e6-a353-2f6c041e2491</td>\n",
       "      <td>[\\N]</td>\n",
       "      <td>[1800000]</td>\n",
       "      <td>[OFFLINE]</td>\n",
       "      <td>[2016-08-15 08:46:05+00:00]</td>\n",
       "      <td>[2016-09-29 20:13:52.905000+00:00]</td>\n",
       "      <td>[35dcb3c0-8679-11e6-bda3-ef77801087ee]</td>\n",
       "      <td>[e662fab0-8679-11e6-a353-2f6c041e2491]</td>\n",
       "    </tr>\n",
       "    <tr>\n",
       "      <td>e66851e0-8679-11e6-a353-2f6c041e2491</td>\n",
       "      <td>[\\N]</td>\n",
       "      <td>[1800000]</td>\n",
       "      <td>[OFFLINE]</td>\n",
       "      <td>[2016-08-15 08:46:05+00:00]</td>\n",
       "      <td>[2016-09-29 20:13:52.902000+00:00]</td>\n",
       "      <td>[35dcb3c1-8679-11e6-bda3-ef77801087ee]</td>\n",
       "      <td>[e662fab0-8679-11e6-a353-2f6c041e2491]</td>\n",
       "    </tr>\n",
       "    <tr>\n",
       "      <td>e66851e1-8679-11e6-a353-2f6c041e2491</td>\n",
       "      <td>[\\N]</td>\n",
       "      <td>[1800000]</td>\n",
       "      <td>[OFFLINE]</td>\n",
       "      <td>[2016-08-15 08:46:05+00:00]</td>\n",
       "      <td>[2016-09-29 19:21:19.649000+00:00]</td>\n",
       "      <td>[35dcdad0-8679-11e6-bda3-ef77801087ee]</td>\n",
       "      <td>[e662fab0-8679-11e6-a353-2f6c041e2491]</td>\n",
       "    </tr>\n",
       "    <tr>\n",
       "      <td>e6691530-8679-11e6-a353-2f6c041e2491</td>\n",
       "      <td>[\\N]</td>\n",
       "      <td>[1800000]</td>\n",
       "      <td>[OFFLINE]</td>\n",
       "      <td>[2016-08-15 08:46:05+00:00]</td>\n",
       "      <td>[2016-09-29 20:13:52.877000+00:00]</td>\n",
       "      <td>[35dcb3c2-8679-11e6-bda3-ef77801087ee]</td>\n",
       "      <td>[e662fab0-8679-11e6-a353-2f6c041e2491]</td>\n",
       "    </tr>\n",
       "  </tbody>\n",
       "</table>\n",
       "<p>61 rows × 7 columns</p>\n",
       "</div>"
      ],
      "text/plain": [
       "                                     description data_frequency     status  \\\n",
       "id                                                                           \n",
       "1248ff60-e707-11e6-89c8-314aa4f67f8c        [\\N]      [1800000]  [OFFLINE]   \n",
       "7635c920-8679-11e6-a353-2f6c041e2491        [\\N]      [1800000]  [OFFLINE]   \n",
       "7635f030-8679-11e6-a353-2f6c041e2491        [\\N]      [1800000]  [OFFLINE]   \n",
       "7636da90-8679-11e6-a353-2f6c041e2491        [\\N]      [1800000]  [OFFLINE]   \n",
       "763701a0-8679-11e6-a353-2f6c041e2491        [\\N]      [1800000]  [OFFLINE]   \n",
       "...                                          ...            ...        ...   \n",
       "e6678e90-8679-11e6-a353-2f6c041e2491        [\\N]      [1800000]  [OFFLINE]   \n",
       "e6678e91-8679-11e6-a353-2f6c041e2491        [\\N]      [1800000]  [OFFLINE]   \n",
       "e66851e0-8679-11e6-a353-2f6c041e2491        [\\N]      [1800000]  [OFFLINE]   \n",
       "e66851e1-8679-11e6-a353-2f6c041e2491        [\\N]      [1800000]  [OFFLINE]   \n",
       "e6691530-8679-11e6-a353-2f6c041e2491        [\\N]      [1800000]  [OFFLINE]   \n",
       "\n",
       "                                                       created_at  \\\n",
       "id                                                                  \n",
       "1248ff60-e707-11e6-89c8-314aa4f67f8c  [2016-07-01 00:00:31+00:00]   \n",
       "7635c920-8679-11e6-a353-2f6c041e2491  [2016-08-03 04:39:25+00:00]   \n",
       "7635f030-8679-11e6-a353-2f6c041e2491  [2016-08-03 21:50:32+00:00]   \n",
       "7636da90-8679-11e6-a353-2f6c041e2491  [2016-08-03 21:50:32+00:00]   \n",
       "763701a0-8679-11e6-a353-2f6c041e2491  [2016-08-03 21:50:32+00:00]   \n",
       "...                                                           ...   \n",
       "e6678e90-8679-11e6-a353-2f6c041e2491  [2016-08-15 08:46:05+00:00]   \n",
       "e6678e91-8679-11e6-a353-2f6c041e2491  [2016-08-15 08:46:05+00:00]   \n",
       "e66851e0-8679-11e6-a353-2f6c041e2491  [2016-08-15 08:46:05+00:00]   \n",
       "e66851e1-8679-11e6-a353-2f6c041e2491  [2016-08-15 08:46:05+00:00]   \n",
       "e6691530-8679-11e6-a353-2f6c041e2491  [2016-08-15 08:46:05+00:00]   \n",
       "\n",
       "                                                              updated_at  \\\n",
       "id                                                                         \n",
       "1248ff60-e707-11e6-89c8-314aa4f67f8c  [2017-01-30 16:24:05.832000+00:00]   \n",
       "7635c920-8679-11e6-a353-2f6c041e2491  [2016-09-29 20:13:52.793000+00:00]   \n",
       "7635f030-8679-11e6-a353-2f6c041e2491  [2016-10-07 07:43:04.976000+00:00]   \n",
       "7636da90-8679-11e6-a353-2f6c041e2491  [2016-09-30 18:12:04.577000+00:00]   \n",
       "763701a0-8679-11e6-a353-2f6c041e2491  [2016-09-30 18:12:04.577000+00:00]   \n",
       "...                                                                  ...   \n",
       "e6678e90-8679-11e6-a353-2f6c041e2491  [2016-09-29 19:30:42.127000+00:00]   \n",
       "e6678e91-8679-11e6-a353-2f6c041e2491  [2016-09-29 20:13:52.905000+00:00]   \n",
       "e66851e0-8679-11e6-a353-2f6c041e2491  [2016-09-29 20:13:52.902000+00:00]   \n",
       "e66851e1-8679-11e6-a353-2f6c041e2491  [2016-09-29 19:21:19.649000+00:00]   \n",
       "e6691530-8679-11e6-a353-2f6c041e2491  [2016-09-29 20:13:52.877000+00:00]   \n",
       "\n",
       "                                                                data_type_id  \\\n",
       "id                                                                             \n",
       "1248ff60-e707-11e6-89c8-314aa4f67f8c  [ed5edee0-e701-11e6-83c1-01ce06e6d17f]   \n",
       "7635c920-8679-11e6-a353-2f6c041e2491  [35dcdad2-8679-11e6-bda3-ef77801087ee]   \n",
       "7635f030-8679-11e6-a353-2f6c041e2491  [35dcdad2-8679-11e6-bda3-ef77801087ee]   \n",
       "7636da90-8679-11e6-a353-2f6c041e2491  [35dcdad0-8679-11e6-bda3-ef77801087ee]   \n",
       "763701a0-8679-11e6-a353-2f6c041e2491  [35dcdad1-8679-11e6-bda3-ef77801087ee]   \n",
       "...                                                                      ...   \n",
       "e6678e90-8679-11e6-a353-2f6c041e2491  [35dcdad1-8679-11e6-bda3-ef77801087ee]   \n",
       "e6678e91-8679-11e6-a353-2f6c041e2491  [35dcb3c0-8679-11e6-bda3-ef77801087ee]   \n",
       "e66851e0-8679-11e6-a353-2f6c041e2491  [35dcb3c1-8679-11e6-bda3-ef77801087ee]   \n",
       "e66851e1-8679-11e6-a353-2f6c041e2491  [35dcdad0-8679-11e6-bda3-ef77801087ee]   \n",
       "e6691530-8679-11e6-a353-2f6c041e2491  [35dcb3c2-8679-11e6-bda3-ef77801087ee]   \n",
       "\n",
       "                                                                     node_id  \n",
       "id                                                                            \n",
       "1248ff60-e707-11e6-89c8-314aa4f67f8c  [ede3ed60-e701-11e6-83c1-01ce06e6d17f]  \n",
       "7635c920-8679-11e6-a353-2f6c041e2491  [762b8ff0-8679-11e6-a353-2f6c041e2491]  \n",
       "7635f030-8679-11e6-a353-2f6c041e2491  [762c5340-8679-11e6-a353-2f6c041e2491]  \n",
       "7636da90-8679-11e6-a353-2f6c041e2491  [762c5340-8679-11e6-a353-2f6c041e2491]  \n",
       "763701a0-8679-11e6-a353-2f6c041e2491  [762c5340-8679-11e6-a353-2f6c041e2491]  \n",
       "...                                                                      ...  \n",
       "e6678e90-8679-11e6-a353-2f6c041e2491  [e662fab0-8679-11e6-a353-2f6c041e2491]  \n",
       "e6678e91-8679-11e6-a353-2f6c041e2491  [e662fab0-8679-11e6-a353-2f6c041e2491]  \n",
       "e66851e0-8679-11e6-a353-2f6c041e2491  [e662fab0-8679-11e6-a353-2f6c041e2491]  \n",
       "e66851e1-8679-11e6-a353-2f6c041e2491  [e662fab0-8679-11e6-a353-2f6c041e2491]  \n",
       "e6691530-8679-11e6-a353-2f6c041e2491  [e662fab0-8679-11e6-a353-2f6c041e2491]  \n",
       "\n",
       "[61 rows x 7 columns]"
      ]
     },
     "execution_count": 17,
     "metadata": {},
     "output_type": "execute_result"
    }
   ],
   "source": [
    "plots = sensors.groupby('id').agg(lambda x: list(x))\n",
    "plots"
   ]
  },
  {
   "cell_type": "markdown",
   "metadata": {},
   "source": [
    "## Merge Dataframes"
   ]
  },
  {
   "cell_type": "code",
   "execution_count": null,
   "metadata": {},
   "outputs": [],
   "source": []
  },
  {
   "cell_type": "code",
   "execution_count": 18,
   "metadata": {},
   "outputs": [],
   "source": [
    "# apple_fplot = df.groupby(['Year','Fungicide'])['Value'].sum()\n",
    "# plot_df = apple_fplot.unstack('Fungicide').loc[:, 'Value']\n",
    "# plot_df.index = pd.PeriodIndex(plot_df.index.tolist(), freq='A')\n",
    "# plot_df.plot()"
   ]
  },
  {
   "cell_type": "markdown",
   "metadata": {},
   "source": [
    "### 3.0 Descriptive Analysis One data frame at a time **\n",
    "\n",
    "3.1: How many sensors of each type are there?"
   ]
  },
  {
   "cell_type": "code",
   "execution_count": 19,
   "metadata": {},
   "outputs": [],
   "source": [
    "#s2.type_id.value_counts()"
   ]
  },
  {
   "cell_type": "markdown",
   "metadata": {},
   "source": [
    "----\n",
    "\n",
    "### 4.0 Creating a Digital Thread from the data sets**\n",
    "\n",
    "**Goal: Merge everything into one wide data table ** "
   ]
  },
  {
   "cell_type": "markdown",
   "metadata": {},
   "source": [
    "You have two data frames: `sensors` and `types` Merge each sensors with its type. (Hint: Use `pd.merge()`)\n",
    "\n",
    "Question: What does this achieve? Why should we do this?\n",
    "\n",
    "#### We merge this to see what type of data the sensor gather. Without the datatypes file, we cannot interpret what measurements each sensor gives."
   ]
  },
  {
   "cell_type": "markdown",
   "metadata": {},
   "source": [
    "Now take the raw `data` data frame and merge it with all the `sensors` and their types."
   ]
  },
  {
   "cell_type": "code",
   "execution_count": 20,
   "metadata": {},
   "outputs": [],
   "source": [
    "first = pd.merge(datatypes, sensors, left_on='id', right_on='data_type_id', how='left')"
   ]
  },
  {
   "cell_type": "code",
   "execution_count": 21,
   "metadata": {},
   "outputs": [],
   "source": [
    "first_drop = first.drop(['id_x'], axis=1)"
   ]
  },
  {
   "cell_type": "code",
   "execution_count": 22,
   "metadata": {},
   "outputs": [],
   "source": [
    "#first_drop.head()"
   ]
  },
  {
   "cell_type": "code",
   "execution_count": 23,
   "metadata": {},
   "outputs": [],
   "source": [
    "first_rename = first_drop.rename({'id_y': 'sensor_id'}, axis=1)"
   ]
  },
  {
   "cell_type": "code",
   "execution_count": 24,
   "metadata": {},
   "outputs": [],
   "source": [
    "second = pd.merge(first_rename, nodes, left_on='node_id', right_on='id', how='left')"
   ]
  },
  {
   "cell_type": "code",
   "execution_count": 25,
   "metadata": {},
   "outputs": [],
   "source": [
    "second_drop = second.drop(['description_x', 'status_x','id'], axis=1)"
   ]
  },
  {
   "cell_type": "code",
   "execution_count": 26,
   "metadata": {},
   "outputs": [],
   "source": [
    "#second_drop.head()"
   ]
  },
  {
   "cell_type": "code",
   "execution_count": 27,
   "metadata": {},
   "outputs": [],
   "source": [
    "third = pd.merge(datapoints, second_drop, left_on='sensor_id', right_on='sensor_id', how='left')"
   ]
  },
  {
   "cell_type": "code",
   "execution_count": 28,
   "metadata": {},
   "outputs": [],
   "source": [
    "#third.head()"
   ]
  },
  {
   "cell_type": "code",
   "execution_count": 29,
   "metadata": {},
   "outputs": [],
   "source": [
    "merged_data = third.drop(['created_at_x','updated_at_x','data_type_id','node_id',\n",
    "                         'description_y','location','status_y','created_at_y',\n",
    "                         'updated_at_y','volcano_id'], axis=1)"
   ]
  },
  {
   "cell_type": "code",
   "execution_count": 30,
   "metadata": {},
   "outputs": [
    {
     "data": {
      "text/plain": [
       "(176534, 9)"
      ]
     },
     "execution_count": 30,
     "metadata": {},
     "output_type": "execute_result"
    }
   ],
   "source": [
    "merged_data.shape"
   ]
  },
  {
   "cell_type": "code",
   "execution_count": 31,
   "metadata": {},
   "outputs": [
    {
     "data": {
      "text/html": [
       "<div>\n",
       "<style scoped>\n",
       "    .dataframe tbody tr th:only-of-type {\n",
       "        vertical-align: middle;\n",
       "    }\n",
       "\n",
       "    .dataframe tbody tr th {\n",
       "        vertical-align: top;\n",
       "    }\n",
       "\n",
       "    .dataframe thead th {\n",
       "        text-align: right;\n",
       "    }\n",
       "</style>\n",
       "<table border=\"1\" class=\"dataframe\">\n",
       "  <thead>\n",
       "    <tr style=\"text-align: right;\">\n",
       "      <th></th>\n",
       "      <th>id</th>\n",
       "      <th>value</th>\n",
       "      <th>timestamp</th>\n",
       "      <th>sensor_id</th>\n",
       "      <th>type</th>\n",
       "      <th>si_unit</th>\n",
       "      <th>type_id</th>\n",
       "      <th>data_frequency</th>\n",
       "      <th>name</th>\n",
       "    </tr>\n",
       "  </thead>\n",
       "  <tbody>\n",
       "    <tr>\n",
       "      <td>0</td>\n",
       "      <td>764c5e60-8679-11e6-a353-2f6c041e2491</td>\n",
       "      <td>98.000</td>\n",
       "      <td>2016-08-03 04:39:25+00:00</td>\n",
       "      <td>7635c920-8679-11e6-a353-2f6c041e2491</td>\n",
       "      <td>battery</td>\n",
       "      <td>percentage</td>\n",
       "      <td>BAT</td>\n",
       "      <td>1800000</td>\n",
       "      <td>N10</td>\n",
       "    </tr>\n",
       "    <tr>\n",
       "      <td>1</td>\n",
       "      <td>764c5e61-8679-11e6-a353-2f6c041e2491</td>\n",
       "      <td>33.198</td>\n",
       "      <td>2016-08-03 04:39:25+00:00</td>\n",
       "      <td>763b9580-8679-11e6-a353-2f6c041e2491</td>\n",
       "      <td>hydrogen sulfide concentration</td>\n",
       "      <td>ppm</td>\n",
       "      <td>GP_H2S</td>\n",
       "      <td>1800000</td>\n",
       "      <td>N10</td>\n",
       "    </tr>\n",
       "    <tr>\n",
       "      <td>2</td>\n",
       "      <td>764dbdf0-8679-11e6-a353-2f6c041e2491</td>\n",
       "      <td>29.300</td>\n",
       "      <td>2016-08-03 04:39:25+00:00</td>\n",
       "      <td>763ca6f0-8679-11e6-a353-2f6c041e2491</td>\n",
       "      <td>temperature</td>\n",
       "      <td>celcius</td>\n",
       "      <td>TCA</td>\n",
       "      <td>1800000</td>\n",
       "      <td>N10</td>\n",
       "    </tr>\n",
       "    <tr>\n",
       "      <td>3</td>\n",
       "      <td>764dbdf1-8679-11e6-a353-2f6c041e2491</td>\n",
       "      <td>96893.110</td>\n",
       "      <td>2016-08-03 04:39:25+00:00</td>\n",
       "      <td>763d9150-8679-11e6-a353-2f6c041e2491</td>\n",
       "      <td>pressure</td>\n",
       "      <td>pascal</td>\n",
       "      <td>PA</td>\n",
       "      <td>1800000</td>\n",
       "      <td>N10</td>\n",
       "    </tr>\n",
       "    <tr>\n",
       "      <td>4</td>\n",
       "      <td>764dbdf2-8679-11e6-a353-2f6c041e2491</td>\n",
       "      <td>459.736</td>\n",
       "      <td>2016-08-03 04:39:25+00:00</td>\n",
       "      <td>763701a1-8679-11e6-a353-2f6c041e2491</td>\n",
       "      <td>carbon dioxide concentration</td>\n",
       "      <td>ppm</td>\n",
       "      <td>GP_CO2</td>\n",
       "      <td>1800000</td>\n",
       "      <td>N10</td>\n",
       "    </tr>\n",
       "  </tbody>\n",
       "</table>\n",
       "</div>"
      ],
      "text/plain": [
       "                                     id      value                 timestamp  \\\n",
       "0  764c5e60-8679-11e6-a353-2f6c041e2491     98.000 2016-08-03 04:39:25+00:00   \n",
       "1  764c5e61-8679-11e6-a353-2f6c041e2491     33.198 2016-08-03 04:39:25+00:00   \n",
       "2  764dbdf0-8679-11e6-a353-2f6c041e2491     29.300 2016-08-03 04:39:25+00:00   \n",
       "3  764dbdf1-8679-11e6-a353-2f6c041e2491  96893.110 2016-08-03 04:39:25+00:00   \n",
       "4  764dbdf2-8679-11e6-a353-2f6c041e2491    459.736 2016-08-03 04:39:25+00:00   \n",
       "\n",
       "                              sensor_id                            type  \\\n",
       "0  7635c920-8679-11e6-a353-2f6c041e2491                         battery   \n",
       "1  763b9580-8679-11e6-a353-2f6c041e2491  hydrogen sulfide concentration   \n",
       "2  763ca6f0-8679-11e6-a353-2f6c041e2491                     temperature   \n",
       "3  763d9150-8679-11e6-a353-2f6c041e2491                        pressure   \n",
       "4  763701a1-8679-11e6-a353-2f6c041e2491    carbon dioxide concentration   \n",
       "\n",
       "      si_unit type_id  data_frequency name  \n",
       "0  percentage     BAT         1800000  N10  \n",
       "1         ppm  GP_H2S         1800000  N10  \n",
       "2     celcius     TCA         1800000  N10  \n",
       "3      pascal      PA         1800000  N10  \n",
       "4         ppm  GP_CO2         1800000  N10  "
      ]
     },
     "execution_count": 31,
     "metadata": {},
     "output_type": "execute_result"
    }
   ],
   "source": [
    "merged_data.head()"
   ]
  },
  {
   "cell_type": "markdown",
   "metadata": {},
   "source": [
    "-----"
   ]
  },
  {
   "cell_type": "code",
   "execution_count": 32,
   "metadata": {},
   "outputs": [],
   "source": [
    "# Separate timestamp\n",
    "merged_data['timestamp'] = pd.to_datetime(merged_data['timestamp'], unit='s')\n",
    "merged_data['Day'] = merged_data['timestamp'].dt.day \n",
    "merged_data['Month'] = merged_data['timestamp'].dt.month"
   ]
  },
  {
   "cell_type": "code",
   "execution_count": 33,
   "metadata": {},
   "outputs": [],
   "source": [
    "#merged_data"
   ]
  },
  {
   "cell_type": "markdown",
   "metadata": {},
   "source": [
    "### 5.0 Time Series based analysis\n",
    "\n",
    "Now, we are going to take this stitiched data frame and use it for our analysis. Specifically, we are going to perform Time-based analysis on this data.\n",
    "\n",
    "    Step 1: Take the `full` data frame and make the Time Stamp datetime format\n",
    "    Step 2: Resample the dataset to the daily level. (One observation per date)\n",
    "    Step 3: For the resampled data, calculate the daily mean, min and max values for each sensor."
   ]
  },
  {
   "cell_type": "markdown",
   "metadata": {},
   "source": [
    "Resample to get daily averages.\n",
    "Then subset to select the rows you need."
   ]
  },
  {
   "cell_type": "code",
   "execution_count": 34,
   "metadata": {},
   "outputs": [],
   "source": [
    "#sensor_group = merged_data.groupby(['sensor_id','Day'])\n",
    "sensor_group = merged_data.groupby(['Month'])"
   ]
  },
  {
   "cell_type": "code",
   "execution_count": 35,
   "metadata": {},
   "outputs": [
    {
     "data": {
      "image/png": "[encoded data removed]",
      "text/plain": [
       "<Figure size 576x360 with 1 Axes>"
      ]
     },
     "metadata": {
      "needs_background": "light"
     },
     "output_type": "display_data"
    }
   ],
   "source": [
    "plt.figure(figsize=(8,5))\n",
    "sns.countplot(merged_data['Month'])\n",
    "plt.title('Sensor data by month')\n",
    "plt.ylabel('Counts')\n",
    "plt.xlabel('Month');"
   ]
  },
  {
   "cell_type": "code",
   "execution_count": 36,
   "metadata": {},
   "outputs": [],
   "source": [
    "# data_1 = sensor_group.get_group(\"7635c920-8679-11e6-a353-2f6c041e2491\")\n",
    "# print(\"Average Battery value is:\", data_1['value'].mean())\n",
    "# print(\"Maximum Battery value is:\",data_1['value'].max())\n",
    "# print(\"Minimum Battery value is:\",data_1['value'].min())"
   ]
  },
  {
   "cell_type": "code",
   "execution_count": 37,
   "metadata": {},
   "outputs": [
    {
     "data": {
      "text/html": [
       "<div>\n",
       "<style scoped>\n",
       "    .dataframe tbody tr th:only-of-type {\n",
       "        vertical-align: middle;\n",
       "    }\n",
       "\n",
       "    .dataframe tbody tr th {\n",
       "        vertical-align: top;\n",
       "    }\n",
       "\n",
       "    .dataframe thead th {\n",
       "        text-align: right;\n",
       "    }\n",
       "</style>\n",
       "<table border=\"1\" class=\"dataframe\">\n",
       "  <thead>\n",
       "    <tr style=\"text-align: right;\">\n",
       "      <th></th>\n",
       "      <th>id</th>\n",
       "      <th>value</th>\n",
       "      <th>timestamp</th>\n",
       "      <th>sensor_id</th>\n",
       "      <th>type</th>\n",
       "      <th>si_unit</th>\n",
       "      <th>type_id</th>\n",
       "      <th>data_frequency</th>\n",
       "      <th>name</th>\n",
       "      <th>Day</th>\n",
       "    </tr>\n",
       "    <tr>\n",
       "      <th>Month</th>\n",
       "      <th></th>\n",
       "      <th></th>\n",
       "      <th></th>\n",
       "      <th></th>\n",
       "      <th></th>\n",
       "      <th></th>\n",
       "      <th></th>\n",
       "      <th></th>\n",
       "      <th></th>\n",
       "      <th></th>\n",
       "    </tr>\n",
       "  </thead>\n",
       "  <tbody>\n",
       "    <tr>\n",
       "      <td>7</td>\n",
       "      <td>12ac7c20-e707-11e6-89c8-314aa4f67f8c</td>\n",
       "      <td>455.0</td>\n",
       "      <td>2016-07-01 00:00:31+00:00</td>\n",
       "      <td>1248ff60-e707-11e6-89c8-314aa4f67f8c</td>\n",
       "      <td>RSAM</td>\n",
       "      <td>counts</td>\n",
       "      <td>RSAM</td>\n",
       "      <td>1800000</td>\n",
       "      <td>RSAM</td>\n",
       "      <td>1</td>\n",
       "    </tr>\n",
       "    <tr>\n",
       "      <td>8</td>\n",
       "      <td>764c5e60-8679-11e6-a353-2f6c041e2491</td>\n",
       "      <td>98.0</td>\n",
       "      <td>2016-08-03 04:39:25+00:00</td>\n",
       "      <td>7635c920-8679-11e6-a353-2f6c041e2491</td>\n",
       "      <td>battery</td>\n",
       "      <td>percentage</td>\n",
       "      <td>BAT</td>\n",
       "      <td>1800000</td>\n",
       "      <td>N10</td>\n",
       "      <td>3</td>\n",
       "    </tr>\n",
       "    <tr>\n",
       "      <td>9</td>\n",
       "      <td>35d63a60-8695-11e6-b9eb-2b0883ebdaeb</td>\n",
       "      <td>93.0</td>\n",
       "      <td>2016-09-01 00:28:19+00:00</td>\n",
       "      <td>e66851e1-8679-11e6-a353-2f6c041e2491</td>\n",
       "      <td>carbon dioxide concentration</td>\n",
       "      <td>ppm</td>\n",
       "      <td>GP_CO2</td>\n",
       "      <td>1800000</td>\n",
       "      <td>N6</td>\n",
       "      <td>1</td>\n",
       "    </tr>\n",
       "    <tr>\n",
       "      <td>10</td>\n",
       "      <td>fc2bb6b0-879c-11e6-b4e7-fb610e712037</td>\n",
       "      <td>81.0</td>\n",
       "      <td>2016-10-01 00:01:27+00:00</td>\n",
       "      <td>763bbc90-8679-11e6-a353-2f6c041e2491</td>\n",
       "      <td>temperature</td>\n",
       "      <td>celcius</td>\n",
       "      <td>TCA</td>\n",
       "      <td>1800000</td>\n",
       "      <td>N7</td>\n",
       "      <td>1</td>\n",
       "    </tr>\n",
       "  </tbody>\n",
       "</table>\n",
       "</div>"
      ],
      "text/plain": [
       "                                         id  value                 timestamp  \\\n",
       "Month                                                                          \n",
       "7      12ac7c20-e707-11e6-89c8-314aa4f67f8c  455.0 2016-07-01 00:00:31+00:00   \n",
       "8      764c5e60-8679-11e6-a353-2f6c041e2491   98.0 2016-08-03 04:39:25+00:00   \n",
       "9      35d63a60-8695-11e6-b9eb-2b0883ebdaeb   93.0 2016-09-01 00:28:19+00:00   \n",
       "10     fc2bb6b0-879c-11e6-b4e7-fb610e712037   81.0 2016-10-01 00:01:27+00:00   \n",
       "\n",
       "                                  sensor_id                          type  \\\n",
       "Month                                                                       \n",
       "7      1248ff60-e707-11e6-89c8-314aa4f67f8c                          RSAM   \n",
       "8      7635c920-8679-11e6-a353-2f6c041e2491                       battery   \n",
       "9      e66851e1-8679-11e6-a353-2f6c041e2491  carbon dioxide concentration   \n",
       "10     763bbc90-8679-11e6-a353-2f6c041e2491                   temperature   \n",
       "\n",
       "          si_unit type_id  data_frequency  name  Day  \n",
       "Month                                                 \n",
       "7          counts    RSAM         1800000  RSAM    1  \n",
       "8      percentage     BAT         1800000   N10    3  \n",
       "9             ppm  GP_CO2         1800000    N6    1  \n",
       "10        celcius     TCA         1800000    N7    1  "
      ]
     },
     "execution_count": 37,
     "metadata": {},
     "output_type": "execute_result"
    }
   ],
   "source": [
    "sensor_group.first()"
   ]
  },
  {
   "cell_type": "code",
   "execution_count": 47,
   "metadata": {},
   "outputs": [
    {
     "data": {
      "text/html": [
       "<div>\n",
       "<style scoped>\n",
       "    .dataframe tbody tr th:only-of-type {\n",
       "        vertical-align: middle;\n",
       "    }\n",
       "\n",
       "    .dataframe tbody tr th {\n",
       "        vertical-align: top;\n",
       "    }\n",
       "\n",
       "    .dataframe thead th {\n",
       "        text-align: right;\n",
       "    }\n",
       "</style>\n",
       "<table border=\"1\" class=\"dataframe\">\n",
       "  <thead>\n",
       "    <tr style=\"text-align: right;\">\n",
       "      <th></th>\n",
       "      <th>id</th>\n",
       "      <th>value</th>\n",
       "      <th>timestamp</th>\n",
       "      <th>sensor_id</th>\n",
       "      <th>type</th>\n",
       "      <th>si_unit</th>\n",
       "      <th>type_id</th>\n",
       "      <th>data_frequency</th>\n",
       "      <th>name</th>\n",
       "      <th>Day</th>\n",
       "    </tr>\n",
       "  </thead>\n",
       "  <tbody>\n",
       "    <tr>\n",
       "      <td>167718</td>\n",
       "      <td>12ac7c20-e707-11e6-89c8-314aa4f67f8c</td>\n",
       "      <td>455.0</td>\n",
       "      <td>2016-07-01 00:00:31+00:00</td>\n",
       "      <td>1248ff60-e707-11e6-89c8-314aa4f67f8c</td>\n",
       "      <td>RSAM</td>\n",
       "      <td>counts</td>\n",
       "      <td>RSAM</td>\n",
       "      <td>1800000</td>\n",
       "      <td>RSAM</td>\n",
       "      <td>1</td>\n",
       "    </tr>\n",
       "    <tr>\n",
       "      <td>167719</td>\n",
       "      <td>12aec610-e707-11e6-89c8-314aa4f67f8c</td>\n",
       "      <td>213.0</td>\n",
       "      <td>2016-07-01 00:10:02+00:00</td>\n",
       "      <td>1248ff60-e707-11e6-89c8-314aa4f67f8c</td>\n",
       "      <td>RSAM</td>\n",
       "      <td>counts</td>\n",
       "      <td>RSAM</td>\n",
       "      <td>1800000</td>\n",
       "      <td>RSAM</td>\n",
       "      <td>1</td>\n",
       "    </tr>\n",
       "    <tr>\n",
       "      <td>167720</td>\n",
       "      <td>12afd780-e707-11e6-89c8-314aa4f67f8c</td>\n",
       "      <td>429.0</td>\n",
       "      <td>2016-07-01 00:40:00+00:00</td>\n",
       "      <td>1248ff60-e707-11e6-89c8-314aa4f67f8c</td>\n",
       "      <td>RSAM</td>\n",
       "      <td>counts</td>\n",
       "      <td>RSAM</td>\n",
       "      <td>1800000</td>\n",
       "      <td>RSAM</td>\n",
       "      <td>1</td>\n",
       "    </tr>\n",
       "    <tr>\n",
       "      <td>167721</td>\n",
       "      <td>12b15e20-e707-11e6-89c8-314aa4f67f8c</td>\n",
       "      <td>225.0</td>\n",
       "      <td>2016-07-01 00:20:00+00:00</td>\n",
       "      <td>1248ff60-e707-11e6-89c8-314aa4f67f8c</td>\n",
       "      <td>RSAM</td>\n",
       "      <td>counts</td>\n",
       "      <td>RSAM</td>\n",
       "      <td>1800000</td>\n",
       "      <td>RSAM</td>\n",
       "      <td>1</td>\n",
       "    </tr>\n",
       "    <tr>\n",
       "      <td>167722</td>\n",
       "      <td>12b22170-e707-11e6-89c8-314aa4f67f8c</td>\n",
       "      <td>321.0</td>\n",
       "      <td>2016-07-01 00:30:01+00:00</td>\n",
       "      <td>1248ff60-e707-11e6-89c8-314aa4f67f8c</td>\n",
       "      <td>RSAM</td>\n",
       "      <td>counts</td>\n",
       "      <td>RSAM</td>\n",
       "      <td>1800000</td>\n",
       "      <td>RSAM</td>\n",
       "      <td>1</td>\n",
       "    </tr>\n",
       "    <tr>\n",
       "      <td>...</td>\n",
       "      <td>...</td>\n",
       "      <td>...</td>\n",
       "      <td>...</td>\n",
       "      <td>...</td>\n",
       "      <td>...</td>\n",
       "      <td>...</td>\n",
       "      <td>...</td>\n",
       "      <td>...</td>\n",
       "      <td>...</td>\n",
       "      <td>...</td>\n",
       "    </tr>\n",
       "    <tr>\n",
       "      <td>172216</td>\n",
       "      <td>260073d0-e707-11e6-89c8-314aa4f67f8c</td>\n",
       "      <td>335.0</td>\n",
       "      <td>2016-07-31 20:30:02+00:00</td>\n",
       "      <td>1248ff60-e707-11e6-89c8-314aa4f67f8c</td>\n",
       "      <td>RSAM</td>\n",
       "      <td>counts</td>\n",
       "      <td>RSAM</td>\n",
       "      <td>1800000</td>\n",
       "      <td>RSAM</td>\n",
       "      <td>31</td>\n",
       "    </tr>\n",
       "    <tr>\n",
       "      <td>172217</td>\n",
       "      <td>26057ce0-e707-11e6-89c8-314aa4f67f8c</td>\n",
       "      <td>474.0</td>\n",
       "      <td>2016-07-31 21:00:01+00:00</td>\n",
       "      <td>1248ff60-e707-11e6-89c8-314aa4f67f8c</td>\n",
       "      <td>RSAM</td>\n",
       "      <td>counts</td>\n",
       "      <td>RSAM</td>\n",
       "      <td>1800000</td>\n",
       "      <td>RSAM</td>\n",
       "      <td>31</td>\n",
       "    </tr>\n",
       "    <tr>\n",
       "      <td>172218</td>\n",
       "      <td>260bbe70-e707-11e6-89c8-314aa4f67f8c</td>\n",
       "      <td>460.0</td>\n",
       "      <td>2016-07-31 21:40:00+00:00</td>\n",
       "      <td>1248ff60-e707-11e6-89c8-314aa4f67f8c</td>\n",
       "      <td>RSAM</td>\n",
       "      <td>counts</td>\n",
       "      <td>RSAM</td>\n",
       "      <td>1800000</td>\n",
       "      <td>RSAM</td>\n",
       "      <td>31</td>\n",
       "    </tr>\n",
       "    <tr>\n",
       "      <td>172219</td>\n",
       "      <td>26105250-e707-11e6-89c8-314aa4f67f8c</td>\n",
       "      <td>362.0</td>\n",
       "      <td>2016-07-31 22:50:02+00:00</td>\n",
       "      <td>1248ff60-e707-11e6-89c8-314aa4f67f8c</td>\n",
       "      <td>RSAM</td>\n",
       "      <td>counts</td>\n",
       "      <td>RSAM</td>\n",
       "      <td>1800000</td>\n",
       "      <td>RSAM</td>\n",
       "      <td>31</td>\n",
       "    </tr>\n",
       "    <tr>\n",
       "      <td>172220</td>\n",
       "      <td>26155b60-e707-11e6-89c8-314aa4f67f8c</td>\n",
       "      <td>268.0</td>\n",
       "      <td>2016-07-31 23:30:02+00:00</td>\n",
       "      <td>1248ff60-e707-11e6-89c8-314aa4f67f8c</td>\n",
       "      <td>RSAM</td>\n",
       "      <td>counts</td>\n",
       "      <td>RSAM</td>\n",
       "      <td>1800000</td>\n",
       "      <td>RSAM</td>\n",
       "      <td>31</td>\n",
       "    </tr>\n",
       "  </tbody>\n",
       "</table>\n",
       "<p>4392 rows × 10 columns</p>\n",
       "</div>"
      ],
      "text/plain": [
       "                                          id  value                 timestamp  \\\n",
       "167718  12ac7c20-e707-11e6-89c8-314aa4f67f8c  455.0 2016-07-01 00:00:31+00:00   \n",
       "167719  12aec610-e707-11e6-89c8-314aa4f67f8c  213.0 2016-07-01 00:10:02+00:00   \n",
       "167720  12afd780-e707-11e6-89c8-314aa4f67f8c  429.0 2016-07-01 00:40:00+00:00   \n",
       "167721  12b15e20-e707-11e6-89c8-314aa4f67f8c  225.0 2016-07-01 00:20:00+00:00   \n",
       "167722  12b22170-e707-11e6-89c8-314aa4f67f8c  321.0 2016-07-01 00:30:01+00:00   \n",
       "...                                      ...    ...                       ...   \n",
       "172216  260073d0-e707-11e6-89c8-314aa4f67f8c  335.0 2016-07-31 20:30:02+00:00   \n",
       "172217  26057ce0-e707-11e6-89c8-314aa4f67f8c  474.0 2016-07-31 21:00:01+00:00   \n",
       "172218  260bbe70-e707-11e6-89c8-314aa4f67f8c  460.0 2016-07-31 21:40:00+00:00   \n",
       "172219  26105250-e707-11e6-89c8-314aa4f67f8c  362.0 2016-07-31 22:50:02+00:00   \n",
       "172220  26155b60-e707-11e6-89c8-314aa4f67f8c  268.0 2016-07-31 23:30:02+00:00   \n",
       "\n",
       "                                   sensor_id  type si_unit type_id  \\\n",
       "167718  1248ff60-e707-11e6-89c8-314aa4f67f8c  RSAM  counts    RSAM   \n",
       "167719  1248ff60-e707-11e6-89c8-314aa4f67f8c  RSAM  counts    RSAM   \n",
       "167720  1248ff60-e707-11e6-89c8-314aa4f67f8c  RSAM  counts    RSAM   \n",
       "167721  1248ff60-e707-11e6-89c8-314aa4f67f8c  RSAM  counts    RSAM   \n",
       "167722  1248ff60-e707-11e6-89c8-314aa4f67f8c  RSAM  counts    RSAM   \n",
       "...                                      ...   ...     ...     ...   \n",
       "172216  1248ff60-e707-11e6-89c8-314aa4f67f8c  RSAM  counts    RSAM   \n",
       "172217  1248ff60-e707-11e6-89c8-314aa4f67f8c  RSAM  counts    RSAM   \n",
       "172218  1248ff60-e707-11e6-89c8-314aa4f67f8c  RSAM  counts    RSAM   \n",
       "172219  1248ff60-e707-11e6-89c8-314aa4f67f8c  RSAM  counts    RSAM   \n",
       "172220  1248ff60-e707-11e6-89c8-314aa4f67f8c  RSAM  counts    RSAM   \n",
       "\n",
       "        data_frequency  name  Day  \n",
       "167718         1800000  RSAM    1  \n",
       "167719         1800000  RSAM    1  \n",
       "167720         1800000  RSAM    1  \n",
       "167721         1800000  RSAM    1  \n",
       "167722         1800000  RSAM    1  \n",
       "...                ...   ...  ...  \n",
       "172216         1800000  RSAM   31  \n",
       "172217         1800000  RSAM   31  \n",
       "172218         1800000  RSAM   31  \n",
       "172219         1800000  RSAM   31  \n",
       "172220         1800000  RSAM   31  \n",
       "\n",
       "[4392 rows x 10 columns]"
      ]
     },
     "execution_count": 47,
     "metadata": {},
     "output_type": "execute_result"
    }
   ],
   "source": [
    "data_1 = sensor_group.get_group(7)\n",
    "# print(\"Average Battery value is:\", data_1['value'].mean())\n",
    "# print(\"Maximum Battery value is:\",data_1['value'].max())\n",
    "# print(\"Minimum Battery value is:\",data_1['value'].min())\n",
    "data_1"
   ]
  },
  {
   "cell_type": "code",
   "execution_count": 48,
   "metadata": {},
   "outputs": [
    {
     "data": {
      "text/plain": [
       "1248ff60-e707-11e6-89c8-314aa4f67f8c    4392\n",
       "Name: sensor_id, dtype: int64"
      ]
     },
     "execution_count": 48,
     "metadata": {},
     "output_type": "execute_result"
    }
   ],
   "source": [
    "data_1['sensor_id'].value_counts()"
   ]
  },
  {
   "cell_type": "code",
   "execution_count": 87,
   "metadata": {},
   "outputs": [],
   "source": [
    "#data_1.info()"
   ]
  },
  {
   "cell_type": "code",
   "execution_count": 54,
   "metadata": {},
   "outputs": [
    {
     "data": {
      "text/html": [
       "<div>\n",
       "<style scoped>\n",
       "    .dataframe tbody tr th:only-of-type {\n",
       "        vertical-align: middle;\n",
       "    }\n",
       "\n",
       "    .dataframe tbody tr th {\n",
       "        vertical-align: top;\n",
       "    }\n",
       "\n",
       "    .dataframe thead th {\n",
       "        text-align: right;\n",
       "    }\n",
       "</style>\n",
       "<table border=\"1\" class=\"dataframe\">\n",
       "  <thead>\n",
       "    <tr style=\"text-align: right;\">\n",
       "      <th></th>\n",
       "      <th>id</th>\n",
       "      <th>value</th>\n",
       "      <th>timestamp</th>\n",
       "      <th>sensor_id</th>\n",
       "      <th>type</th>\n",
       "      <th>si_unit</th>\n",
       "      <th>type_id</th>\n",
       "      <th>data_frequency</th>\n",
       "      <th>name</th>\n",
       "      <th>Day</th>\n",
       "    </tr>\n",
       "  </thead>\n",
       "  <tbody>\n",
       "    <tr>\n",
       "      <td>172216</td>\n",
       "      <td>260073d0-e707-11e6-89c8-314aa4f67f8c</td>\n",
       "      <td>335.0</td>\n",
       "      <td>2016-07-31 20:30:02+00:00</td>\n",
       "      <td>1248ff60-e707-11e6-89c8-314aa4f67f8c</td>\n",
       "      <td>RSAM</td>\n",
       "      <td>counts</td>\n",
       "      <td>RSAM</td>\n",
       "      <td>1800000</td>\n",
       "      <td>RSAM</td>\n",
       "      <td>31</td>\n",
       "    </tr>\n",
       "    <tr>\n",
       "      <td>172217</td>\n",
       "      <td>26057ce0-e707-11e6-89c8-314aa4f67f8c</td>\n",
       "      <td>474.0</td>\n",
       "      <td>2016-07-31 21:00:01+00:00</td>\n",
       "      <td>1248ff60-e707-11e6-89c8-314aa4f67f8c</td>\n",
       "      <td>RSAM</td>\n",
       "      <td>counts</td>\n",
       "      <td>RSAM</td>\n",
       "      <td>1800000</td>\n",
       "      <td>RSAM</td>\n",
       "      <td>31</td>\n",
       "    </tr>\n",
       "    <tr>\n",
       "      <td>172218</td>\n",
       "      <td>260bbe70-e707-11e6-89c8-314aa4f67f8c</td>\n",
       "      <td>460.0</td>\n",
       "      <td>2016-07-31 21:40:00+00:00</td>\n",
       "      <td>1248ff60-e707-11e6-89c8-314aa4f67f8c</td>\n",
       "      <td>RSAM</td>\n",
       "      <td>counts</td>\n",
       "      <td>RSAM</td>\n",
       "      <td>1800000</td>\n",
       "      <td>RSAM</td>\n",
       "      <td>31</td>\n",
       "    </tr>\n",
       "    <tr>\n",
       "      <td>172219</td>\n",
       "      <td>26105250-e707-11e6-89c8-314aa4f67f8c</td>\n",
       "      <td>362.0</td>\n",
       "      <td>2016-07-31 22:50:02+00:00</td>\n",
       "      <td>1248ff60-e707-11e6-89c8-314aa4f67f8c</td>\n",
       "      <td>RSAM</td>\n",
       "      <td>counts</td>\n",
       "      <td>RSAM</td>\n",
       "      <td>1800000</td>\n",
       "      <td>RSAM</td>\n",
       "      <td>31</td>\n",
       "    </tr>\n",
       "    <tr>\n",
       "      <td>172220</td>\n",
       "      <td>26155b60-e707-11e6-89c8-314aa4f67f8c</td>\n",
       "      <td>268.0</td>\n",
       "      <td>2016-07-31 23:30:02+00:00</td>\n",
       "      <td>1248ff60-e707-11e6-89c8-314aa4f67f8c</td>\n",
       "      <td>RSAM</td>\n",
       "      <td>counts</td>\n",
       "      <td>RSAM</td>\n",
       "      <td>1800000</td>\n",
       "      <td>RSAM</td>\n",
       "      <td>31</td>\n",
       "    </tr>\n",
       "  </tbody>\n",
       "</table>\n",
       "</div>"
      ],
      "text/plain": [
       "                                          id  value                 timestamp  \\\n",
       "172216  260073d0-e707-11e6-89c8-314aa4f67f8c  335.0 2016-07-31 20:30:02+00:00   \n",
       "172217  26057ce0-e707-11e6-89c8-314aa4f67f8c  474.0 2016-07-31 21:00:01+00:00   \n",
       "172218  260bbe70-e707-11e6-89c8-314aa4f67f8c  460.0 2016-07-31 21:40:00+00:00   \n",
       "172219  26105250-e707-11e6-89c8-314aa4f67f8c  362.0 2016-07-31 22:50:02+00:00   \n",
       "172220  26155b60-e707-11e6-89c8-314aa4f67f8c  268.0 2016-07-31 23:30:02+00:00   \n",
       "\n",
       "                                   sensor_id  type si_unit type_id  \\\n",
       "172216  1248ff60-e707-11e6-89c8-314aa4f67f8c  RSAM  counts    RSAM   \n",
       "172217  1248ff60-e707-11e6-89c8-314aa4f67f8c  RSAM  counts    RSAM   \n",
       "172218  1248ff60-e707-11e6-89c8-314aa4f67f8c  RSAM  counts    RSAM   \n",
       "172219  1248ff60-e707-11e6-89c8-314aa4f67f8c  RSAM  counts    RSAM   \n",
       "172220  1248ff60-e707-11e6-89c8-314aa4f67f8c  RSAM  counts    RSAM   \n",
       "\n",
       "        data_frequency  name  Day  \n",
       "172216         1800000  RSAM   31  \n",
       "172217         1800000  RSAM   31  \n",
       "172218         1800000  RSAM   31  \n",
       "172219         1800000  RSAM   31  \n",
       "172220         1800000  RSAM   31  "
      ]
     },
     "execution_count": 54,
     "metadata": {},
     "output_type": "execute_result"
    }
   ],
   "source": [
    "data_1.tail()"
   ]
  },
  {
   "cell_type": "code",
   "execution_count": 76,
   "metadata": {},
   "outputs": [],
   "source": [
    "# print(\"Average RSAM value is:\", data_1['value'].mean())\n",
    "# print(\"Maximum RSAM value is:\",data_1['value'].max())\n",
    "# print(\"Minimum RSAM value is:\",data_1['value'].min())"
   ]
  },
  {
   "cell_type": "code",
   "execution_count": 58,
   "metadata": {},
   "outputs": [
    {
     "data": {
      "text/html": [
       "<div>\n",
       "<style scoped>\n",
       "    .dataframe tbody tr th:only-of-type {\n",
       "        vertical-align: middle;\n",
       "    }\n",
       "\n",
       "    .dataframe tbody tr th {\n",
       "        vertical-align: top;\n",
       "    }\n",
       "\n",
       "    .dataframe thead th {\n",
       "        text-align: right;\n",
       "    }\n",
       "</style>\n",
       "<table border=\"1\" class=\"dataframe\">\n",
       "  <thead>\n",
       "    <tr style=\"text-align: right;\">\n",
       "      <th></th>\n",
       "      <th>id</th>\n",
       "      <th>value</th>\n",
       "      <th>timestamp</th>\n",
       "      <th>sensor_id</th>\n",
       "      <th>type</th>\n",
       "      <th>si_unit</th>\n",
       "      <th>type_id</th>\n",
       "      <th>data_frequency</th>\n",
       "      <th>name</th>\n",
       "    </tr>\n",
       "    <tr>\n",
       "      <th>Day</th>\n",
       "      <th></th>\n",
       "      <th></th>\n",
       "      <th></th>\n",
       "      <th></th>\n",
       "      <th></th>\n",
       "      <th></th>\n",
       "      <th></th>\n",
       "      <th></th>\n",
       "      <th></th>\n",
       "    </tr>\n",
       "  </thead>\n",
       "  <tbody>\n",
       "    <tr>\n",
       "      <td>1</td>\n",
       "      <td>12ac7c20-e707-11e6-89c8-314aa4f67f8c</td>\n",
       "      <td>455.0</td>\n",
       "      <td>2016-07-01 00:00:31+00:00</td>\n",
       "      <td>1248ff60-e707-11e6-89c8-314aa4f67f8c</td>\n",
       "      <td>RSAM</td>\n",
       "      <td>counts</td>\n",
       "      <td>RSAM</td>\n",
       "      <td>1800000</td>\n",
       "      <td>RSAM</td>\n",
       "    </tr>\n",
       "    <tr>\n",
       "      <td>2</td>\n",
       "      <td>1359ac10-e707-11e6-89c8-314aa4f67f8c</td>\n",
       "      <td>218.0</td>\n",
       "      <td>2016-07-02 00:30:02+00:00</td>\n",
       "      <td>1248ff60-e707-11e6-89c8-314aa4f67f8c</td>\n",
       "      <td>RSAM</td>\n",
       "      <td>counts</td>\n",
       "      <td>RSAM</td>\n",
       "      <td>1800000</td>\n",
       "      <td>RSAM</td>\n",
       "    </tr>\n",
       "    <tr>\n",
       "      <td>3</td>\n",
       "      <td>140889b0-e707-11e6-89c8-314aa4f67f8c</td>\n",
       "      <td>257.0</td>\n",
       "      <td>2016-07-03 00:40:01+00:00</td>\n",
       "      <td>1248ff60-e707-11e6-89c8-314aa4f67f8c</td>\n",
       "      <td>RSAM</td>\n",
       "      <td>counts</td>\n",
       "      <td>RSAM</td>\n",
       "      <td>1800000</td>\n",
       "      <td>RSAM</td>\n",
       "    </tr>\n",
       "    <tr>\n",
       "      <td>4</td>\n",
       "      <td>14b51d60-e707-11e6-89c8-314aa4f67f8c</td>\n",
       "      <td>169.0</td>\n",
       "      <td>2016-07-04 00:30:02+00:00</td>\n",
       "      <td>1248ff60-e707-11e6-89c8-314aa4f67f8c</td>\n",
       "      <td>RSAM</td>\n",
       "      <td>counts</td>\n",
       "      <td>RSAM</td>\n",
       "      <td>1800000</td>\n",
       "      <td>RSAM</td>\n",
       "    </tr>\n",
       "    <tr>\n",
       "      <td>5</td>\n",
       "      <td>155ad340-e707-11e6-89c8-314aa4f67f8c</td>\n",
       "      <td>475.0</td>\n",
       "      <td>2016-07-05 00:30:00+00:00</td>\n",
       "      <td>1248ff60-e707-11e6-89c8-314aa4f67f8c</td>\n",
       "      <td>RSAM</td>\n",
       "      <td>counts</td>\n",
       "      <td>RSAM</td>\n",
       "      <td>1800000</td>\n",
       "      <td>RSAM</td>\n",
       "    </tr>\n",
       "    <tr>\n",
       "      <td>6</td>\n",
       "      <td>15f95d30-e707-11e6-89c8-314aa4f67f8c</td>\n",
       "      <td>238.0</td>\n",
       "      <td>2016-07-06 01:10:00+00:00</td>\n",
       "      <td>1248ff60-e707-11e6-89c8-314aa4f67f8c</td>\n",
       "      <td>RSAM</td>\n",
       "      <td>counts</td>\n",
       "      <td>RSAM</td>\n",
       "      <td>1800000</td>\n",
       "      <td>RSAM</td>\n",
       "    </tr>\n",
       "    <tr>\n",
       "      <td>7</td>\n",
       "      <td>168aa0b0-e707-11e6-89c8-314aa4f67f8c</td>\n",
       "      <td>207.0</td>\n",
       "      <td>2016-07-07 00:03:30+00:00</td>\n",
       "      <td>1248ff60-e707-11e6-89c8-314aa4f67f8c</td>\n",
       "      <td>RSAM</td>\n",
       "      <td>counts</td>\n",
       "      <td>RSAM</td>\n",
       "      <td>1800000</td>\n",
       "      <td>RSAM</td>\n",
       "    </tr>\n",
       "    <tr>\n",
       "      <td>8</td>\n",
       "      <td>172ef700-e707-11e6-89c8-314aa4f67f8c</td>\n",
       "      <td>268.0</td>\n",
       "      <td>2016-07-08 00:40:02+00:00</td>\n",
       "      <td>1248ff60-e707-11e6-89c8-314aa4f67f8c</td>\n",
       "      <td>RSAM</td>\n",
       "      <td>counts</td>\n",
       "      <td>RSAM</td>\n",
       "      <td>1800000</td>\n",
       "      <td>RSAM</td>\n",
       "    </tr>\n",
       "    <tr>\n",
       "      <td>9</td>\n",
       "      <td>17ca2590-e707-11e6-89c8-314aa4f67f8c</td>\n",
       "      <td>231.0</td>\n",
       "      <td>2016-07-09 00:20:01+00:00</td>\n",
       "      <td>1248ff60-e707-11e6-89c8-314aa4f67f8c</td>\n",
       "      <td>RSAM</td>\n",
       "      <td>counts</td>\n",
       "      <td>RSAM</td>\n",
       "      <td>1800000</td>\n",
       "      <td>RSAM</td>\n",
       "    </tr>\n",
       "    <tr>\n",
       "      <td>10</td>\n",
       "      <td>18585bd0-e707-11e6-89c8-314aa4f67f8c</td>\n",
       "      <td>198.0</td>\n",
       "      <td>2016-07-10 00:20:00+00:00</td>\n",
       "      <td>1248ff60-e707-11e6-89c8-314aa4f67f8c</td>\n",
       "      <td>RSAM</td>\n",
       "      <td>counts</td>\n",
       "      <td>RSAM</td>\n",
       "      <td>1800000</td>\n",
       "      <td>RSAM</td>\n",
       "    </tr>\n",
       "    <tr>\n",
       "      <td>11</td>\n",
       "      <td>18f474c0-e707-11e6-89c8-314aa4f67f8c</td>\n",
       "      <td>264.0</td>\n",
       "      <td>2016-07-11 00:10:02+00:00</td>\n",
       "      <td>1248ff60-e707-11e6-89c8-314aa4f67f8c</td>\n",
       "      <td>RSAM</td>\n",
       "      <td>counts</td>\n",
       "      <td>RSAM</td>\n",
       "      <td>1800000</td>\n",
       "      <td>RSAM</td>\n",
       "    </tr>\n",
       "    <tr>\n",
       "      <td>12</td>\n",
       "      <td>19960bf0-e707-11e6-89c8-314aa4f67f8c</td>\n",
       "      <td>216.0</td>\n",
       "      <td>2016-07-12 00:30:00+00:00</td>\n",
       "      <td>1248ff60-e707-11e6-89c8-314aa4f67f8c</td>\n",
       "      <td>RSAM</td>\n",
       "      <td>counts</td>\n",
       "      <td>RSAM</td>\n",
       "      <td>1800000</td>\n",
       "      <td>RSAM</td>\n",
       "    </tr>\n",
       "    <tr>\n",
       "      <td>13</td>\n",
       "      <td>1a388d80-e707-11e6-89c8-314aa4f67f8c</td>\n",
       "      <td>181.0</td>\n",
       "      <td>2016-07-13 00:30:01+00:00</td>\n",
       "      <td>1248ff60-e707-11e6-89c8-314aa4f67f8c</td>\n",
       "      <td>RSAM</td>\n",
       "      <td>counts</td>\n",
       "      <td>RSAM</td>\n",
       "      <td>1800000</td>\n",
       "      <td>RSAM</td>\n",
       "    </tr>\n",
       "    <tr>\n",
       "      <td>14</td>\n",
       "      <td>1ad25c80-e707-11e6-89c8-314aa4f67f8c</td>\n",
       "      <td>271.0</td>\n",
       "      <td>2016-07-14 00:50:02+00:00</td>\n",
       "      <td>1248ff60-e707-11e6-89c8-314aa4f67f8c</td>\n",
       "      <td>RSAM</td>\n",
       "      <td>counts</td>\n",
       "      <td>RSAM</td>\n",
       "      <td>1800000</td>\n",
       "      <td>RSAM</td>\n",
       "    </tr>\n",
       "    <tr>\n",
       "      <td>15</td>\n",
       "      <td>1b677090-e707-11e6-89c8-314aa4f67f8c</td>\n",
       "      <td>484.0</td>\n",
       "      <td>2016-07-15 00:03:20+00:00</td>\n",
       "      <td>1248ff60-e707-11e6-89c8-314aa4f67f8c</td>\n",
       "      <td>RSAM</td>\n",
       "      <td>counts</td>\n",
       "      <td>RSAM</td>\n",
       "      <td>1800000</td>\n",
       "      <td>RSAM</td>\n",
       "    </tr>\n",
       "    <tr>\n",
       "      <td>16</td>\n",
       "      <td>1c038980-e707-11e6-89c8-314aa4f67f8c</td>\n",
       "      <td>424.0</td>\n",
       "      <td>2016-07-16 00:10:00+00:00</td>\n",
       "      <td>1248ff60-e707-11e6-89c8-314aa4f67f8c</td>\n",
       "      <td>RSAM</td>\n",
       "      <td>counts</td>\n",
       "      <td>RSAM</td>\n",
       "      <td>1800000</td>\n",
       "      <td>RSAM</td>\n",
       "    </tr>\n",
       "    <tr>\n",
       "      <td>17</td>\n",
       "      <td>1ca43650-e707-11e6-89c8-314aa4f67f8c</td>\n",
       "      <td>106.0</td>\n",
       "      <td>2016-07-17 00:20:01+00:00</td>\n",
       "      <td>1248ff60-e707-11e6-89c8-314aa4f67f8c</td>\n",
       "      <td>RSAM</td>\n",
       "      <td>counts</td>\n",
       "      <td>RSAM</td>\n",
       "      <td>1800000</td>\n",
       "      <td>RSAM</td>\n",
       "    </tr>\n",
       "    <tr>\n",
       "      <td>18</td>\n",
       "      <td>1d3f3dd0-e707-11e6-89c8-314aa4f67f8c</td>\n",
       "      <td>433.0</td>\n",
       "      <td>2016-07-18 00:20:02+00:00</td>\n",
       "      <td>1248ff60-e707-11e6-89c8-314aa4f67f8c</td>\n",
       "      <td>RSAM</td>\n",
       "      <td>counts</td>\n",
       "      <td>RSAM</td>\n",
       "      <td>1800000</td>\n",
       "      <td>RSAM</td>\n",
       "    </tr>\n",
       "    <tr>\n",
       "      <td>19</td>\n",
       "      <td>1de011b0-e707-11e6-89c8-314aa4f67f8c</td>\n",
       "      <td>97.0</td>\n",
       "      <td>2016-07-19 00:40:02+00:00</td>\n",
       "      <td>1248ff60-e707-11e6-89c8-314aa4f67f8c</td>\n",
       "      <td>RSAM</td>\n",
       "      <td>counts</td>\n",
       "      <td>RSAM</td>\n",
       "      <td>1800000</td>\n",
       "      <td>RSAM</td>\n",
       "    </tr>\n",
       "    <tr>\n",
       "      <td>20</td>\n",
       "      <td>1e7c51b0-e707-11e6-89c8-314aa4f67f8c</td>\n",
       "      <td>106.0</td>\n",
       "      <td>2016-07-20 00:30:02+00:00</td>\n",
       "      <td>1248ff60-e707-11e6-89c8-314aa4f67f8c</td>\n",
       "      <td>RSAM</td>\n",
       "      <td>counts</td>\n",
       "      <td>RSAM</td>\n",
       "      <td>1800000</td>\n",
       "      <td>RSAM</td>\n",
       "    </tr>\n",
       "    <tr>\n",
       "      <td>21</td>\n",
       "      <td>1f1adba0-e707-11e6-89c8-314aa4f67f8c</td>\n",
       "      <td>159.0</td>\n",
       "      <td>2016-07-21 00:00:41+00:00</td>\n",
       "      <td>1248ff60-e707-11e6-89c8-314aa4f67f8c</td>\n",
       "      <td>RSAM</td>\n",
       "      <td>counts</td>\n",
       "      <td>RSAM</td>\n",
       "      <td>1800000</td>\n",
       "      <td>RSAM</td>\n",
       "    </tr>\n",
       "    <tr>\n",
       "      <td>22</td>\n",
       "      <td>1fbbaf80-e707-11e6-89c8-314aa4f67f8c</td>\n",
       "      <td>238.0</td>\n",
       "      <td>2016-07-22 00:20:00+00:00</td>\n",
       "      <td>1248ff60-e707-11e6-89c8-314aa4f67f8c</td>\n",
       "      <td>RSAM</td>\n",
       "      <td>counts</td>\n",
       "      <td>RSAM</td>\n",
       "      <td>1800000</td>\n",
       "      <td>RSAM</td>\n",
       "    </tr>\n",
       "    <tr>\n",
       "      <td>23</td>\n",
       "      <td>2052bf60-e707-11e6-89c8-314aa4f67f8c</td>\n",
       "      <td>456.0</td>\n",
       "      <td>2016-07-23 00:10:02+00:00</td>\n",
       "      <td>1248ff60-e707-11e6-89c8-314aa4f67f8c</td>\n",
       "      <td>RSAM</td>\n",
       "      <td>counts</td>\n",
       "      <td>RSAM</td>\n",
       "      <td>1800000</td>\n",
       "      <td>RSAM</td>\n",
       "    </tr>\n",
       "    <tr>\n",
       "      <td>24</td>\n",
       "      <td>20f05ef0-e707-11e6-89c8-314aa4f67f8c</td>\n",
       "      <td>227.0</td>\n",
       "      <td>2016-07-24 00:03:38+00:00</td>\n",
       "      <td>1248ff60-e707-11e6-89c8-314aa4f67f8c</td>\n",
       "      <td>RSAM</td>\n",
       "      <td>counts</td>\n",
       "      <td>RSAM</td>\n",
       "      <td>1800000</td>\n",
       "      <td>RSAM</td>\n",
       "    </tr>\n",
       "    <tr>\n",
       "      <td>25</td>\n",
       "      <td>21a68f90-e707-11e6-89c8-314aa4f67f8c</td>\n",
       "      <td>301.0</td>\n",
       "      <td>2016-07-25 00:50:00+00:00</td>\n",
       "      <td>1248ff60-e707-11e6-89c8-314aa4f67f8c</td>\n",
       "      <td>RSAM</td>\n",
       "      <td>counts</td>\n",
       "      <td>RSAM</td>\n",
       "      <td>1800000</td>\n",
       "      <td>RSAM</td>\n",
       "    </tr>\n",
       "    <tr>\n",
       "      <td>26</td>\n",
       "      <td>22462af0-e707-11e6-89c8-314aa4f67f8c</td>\n",
       "      <td>108.0</td>\n",
       "      <td>2016-07-26 00:10:02+00:00</td>\n",
       "      <td>1248ff60-e707-11e6-89c8-314aa4f67f8c</td>\n",
       "      <td>RSAM</td>\n",
       "      <td>counts</td>\n",
       "      <td>RSAM</td>\n",
       "      <td>1800000</td>\n",
       "      <td>RSAM</td>\n",
       "    </tr>\n",
       "    <tr>\n",
       "      <td>27</td>\n",
       "      <td>22e29200-e707-11e6-89c8-314aa4f67f8c</td>\n",
       "      <td>379.0</td>\n",
       "      <td>2016-07-27 00:00:10+00:00</td>\n",
       "      <td>1248ff60-e707-11e6-89c8-314aa4f67f8c</td>\n",
       "      <td>RSAM</td>\n",
       "      <td>counts</td>\n",
       "      <td>RSAM</td>\n",
       "      <td>1800000</td>\n",
       "      <td>RSAM</td>\n",
       "    </tr>\n",
       "    <tr>\n",
       "      <td>28</td>\n",
       "      <td>23895950-e707-11e6-89c8-314aa4f67f8c</td>\n",
       "      <td>388.0</td>\n",
       "      <td>2016-07-28 00:10:00+00:00</td>\n",
       "      <td>1248ff60-e707-11e6-89c8-314aa4f67f8c</td>\n",
       "      <td>RSAM</td>\n",
       "      <td>counts</td>\n",
       "      <td>RSAM</td>\n",
       "      <td>1800000</td>\n",
       "      <td>RSAM</td>\n",
       "    </tr>\n",
       "    <tr>\n",
       "      <td>29</td>\n",
       "      <td>242aa260-e707-11e6-89c8-314aa4f67f8c</td>\n",
       "      <td>162.0</td>\n",
       "      <td>2016-07-29 00:00:20+00:00</td>\n",
       "      <td>1248ff60-e707-11e6-89c8-314aa4f67f8c</td>\n",
       "      <td>RSAM</td>\n",
       "      <td>counts</td>\n",
       "      <td>RSAM</td>\n",
       "      <td>1800000</td>\n",
       "      <td>RSAM</td>\n",
       "    </tr>\n",
       "    <tr>\n",
       "      <td>30</td>\n",
       "      <td>24d2c940-e707-11e6-89c8-314aa4f67f8c</td>\n",
       "      <td>377.0</td>\n",
       "      <td>2016-07-30 00:03:27+00:00</td>\n",
       "      <td>1248ff60-e707-11e6-89c8-314aa4f67f8c</td>\n",
       "      <td>RSAM</td>\n",
       "      <td>counts</td>\n",
       "      <td>RSAM</td>\n",
       "      <td>1800000</td>\n",
       "      <td>RSAM</td>\n",
       "    </tr>\n",
       "    <tr>\n",
       "      <td>31</td>\n",
       "      <td>2577bbd0-e707-11e6-89c8-314aa4f67f8c</td>\n",
       "      <td>398.0</td>\n",
       "      <td>2016-07-31 00:30:00+00:00</td>\n",
       "      <td>1248ff60-e707-11e6-89c8-314aa4f67f8c</td>\n",
       "      <td>RSAM</td>\n",
       "      <td>counts</td>\n",
       "      <td>RSAM</td>\n",
       "      <td>1800000</td>\n",
       "      <td>RSAM</td>\n",
       "    </tr>\n",
       "  </tbody>\n",
       "</table>\n",
       "</div>"
      ],
      "text/plain": [
       "                                       id  value                 timestamp  \\\n",
       "Day                                                                          \n",
       "1    12ac7c20-e707-11e6-89c8-314aa4f67f8c  455.0 2016-07-01 00:00:31+00:00   \n",
       "2    1359ac10-e707-11e6-89c8-314aa4f67f8c  218.0 2016-07-02 00:30:02+00:00   \n",
       "3    140889b0-e707-11e6-89c8-314aa4f67f8c  257.0 2016-07-03 00:40:01+00:00   \n",
       "4    14b51d60-e707-11e6-89c8-314aa4f67f8c  169.0 2016-07-04 00:30:02+00:00   \n",
       "5    155ad340-e707-11e6-89c8-314aa4f67f8c  475.0 2016-07-05 00:30:00+00:00   \n",
       "6    15f95d30-e707-11e6-89c8-314aa4f67f8c  238.0 2016-07-06 01:10:00+00:00   \n",
       "7    168aa0b0-e707-11e6-89c8-314aa4f67f8c  207.0 2016-07-07 00:03:30+00:00   \n",
       "8    172ef700-e707-11e6-89c8-314aa4f67f8c  268.0 2016-07-08 00:40:02+00:00   \n",
       "9    17ca2590-e707-11e6-89c8-314aa4f67f8c  231.0 2016-07-09 00:20:01+00:00   \n",
       "10   18585bd0-e707-11e6-89c8-314aa4f67f8c  198.0 2016-07-10 00:20:00+00:00   \n",
       "11   18f474c0-e707-11e6-89c8-314aa4f67f8c  264.0 2016-07-11 00:10:02+00:00   \n",
       "12   19960bf0-e707-11e6-89c8-314aa4f67f8c  216.0 2016-07-12 00:30:00+00:00   \n",
       "13   1a388d80-e707-11e6-89c8-314aa4f67f8c  181.0 2016-07-13 00:30:01+00:00   \n",
       "14   1ad25c80-e707-11e6-89c8-314aa4f67f8c  271.0 2016-07-14 00:50:02+00:00   \n",
       "15   1b677090-e707-11e6-89c8-314aa4f67f8c  484.0 2016-07-15 00:03:20+00:00   \n",
       "16   1c038980-e707-11e6-89c8-314aa4f67f8c  424.0 2016-07-16 00:10:00+00:00   \n",
       "17   1ca43650-e707-11e6-89c8-314aa4f67f8c  106.0 2016-07-17 00:20:01+00:00   \n",
       "18   1d3f3dd0-e707-11e6-89c8-314aa4f67f8c  433.0 2016-07-18 00:20:02+00:00   \n",
       "19   1de011b0-e707-11e6-89c8-314aa4f67f8c   97.0 2016-07-19 00:40:02+00:00   \n",
       "20   1e7c51b0-e707-11e6-89c8-314aa4f67f8c  106.0 2016-07-20 00:30:02+00:00   \n",
       "21   1f1adba0-e707-11e6-89c8-314aa4f67f8c  159.0 2016-07-21 00:00:41+00:00   \n",
       "22   1fbbaf80-e707-11e6-89c8-314aa4f67f8c  238.0 2016-07-22 00:20:00+00:00   \n",
       "23   2052bf60-e707-11e6-89c8-314aa4f67f8c  456.0 2016-07-23 00:10:02+00:00   \n",
       "24   20f05ef0-e707-11e6-89c8-314aa4f67f8c  227.0 2016-07-24 00:03:38+00:00   \n",
       "25   21a68f90-e707-11e6-89c8-314aa4f67f8c  301.0 2016-07-25 00:50:00+00:00   \n",
       "26   22462af0-e707-11e6-89c8-314aa4f67f8c  108.0 2016-07-26 00:10:02+00:00   \n",
       "27   22e29200-e707-11e6-89c8-314aa4f67f8c  379.0 2016-07-27 00:00:10+00:00   \n",
       "28   23895950-e707-11e6-89c8-314aa4f67f8c  388.0 2016-07-28 00:10:00+00:00   \n",
       "29   242aa260-e707-11e6-89c8-314aa4f67f8c  162.0 2016-07-29 00:00:20+00:00   \n",
       "30   24d2c940-e707-11e6-89c8-314aa4f67f8c  377.0 2016-07-30 00:03:27+00:00   \n",
       "31   2577bbd0-e707-11e6-89c8-314aa4f67f8c  398.0 2016-07-31 00:30:00+00:00   \n",
       "\n",
       "                                sensor_id  type si_unit type_id  \\\n",
       "Day                                                               \n",
       "1    1248ff60-e707-11e6-89c8-314aa4f67f8c  RSAM  counts    RSAM   \n",
       "2    1248ff60-e707-11e6-89c8-314aa4f67f8c  RSAM  counts    RSAM   \n",
       "3    1248ff60-e707-11e6-89c8-314aa4f67f8c  RSAM  counts    RSAM   \n",
       "4    1248ff60-e707-11e6-89c8-314aa4f67f8c  RSAM  counts    RSAM   \n",
       "5    1248ff60-e707-11e6-89c8-314aa4f67f8c  RSAM  counts    RSAM   \n",
       "6    1248ff60-e707-11e6-89c8-314aa4f67f8c  RSAM  counts    RSAM   \n",
       "7    1248ff60-e707-11e6-89c8-314aa4f67f8c  RSAM  counts    RSAM   \n",
       "8    1248ff60-e707-11e6-89c8-314aa4f67f8c  RSAM  counts    RSAM   \n",
       "9    1248ff60-e707-11e6-89c8-314aa4f67f8c  RSAM  counts    RSAM   \n",
       "10   1248ff60-e707-11e6-89c8-314aa4f67f8c  RSAM  counts    RSAM   \n",
       "11   1248ff60-e707-11e6-89c8-314aa4f67f8c  RSAM  counts    RSAM   \n",
       "12   1248ff60-e707-11e6-89c8-314aa4f67f8c  RSAM  counts    RSAM   \n",
       "13   1248ff60-e707-11e6-89c8-314aa4f67f8c  RSAM  counts    RSAM   \n",
       "14   1248ff60-e707-11e6-89c8-314aa4f67f8c  RSAM  counts    RSAM   \n",
       "15   1248ff60-e707-11e6-89c8-314aa4f67f8c  RSAM  counts    RSAM   \n",
       "16   1248ff60-e707-11e6-89c8-314aa4f67f8c  RSAM  counts    RSAM   \n",
       "17   1248ff60-e707-11e6-89c8-314aa4f67f8c  RSAM  counts    RSAM   \n",
       "18   1248ff60-e707-11e6-89c8-314aa4f67f8c  RSAM  counts    RSAM   \n",
       "19   1248ff60-e707-11e6-89c8-314aa4f67f8c  RSAM  counts    RSAM   \n",
       "20   1248ff60-e707-11e6-89c8-314aa4f67f8c  RSAM  counts    RSAM   \n",
       "21   1248ff60-e707-11e6-89c8-314aa4f67f8c  RSAM  counts    RSAM   \n",
       "22   1248ff60-e707-11e6-89c8-314aa4f67f8c  RSAM  counts    RSAM   \n",
       "23   1248ff60-e707-11e6-89c8-314aa4f67f8c  RSAM  counts    RSAM   \n",
       "24   1248ff60-e707-11e6-89c8-314aa4f67f8c  RSAM  counts    RSAM   \n",
       "25   1248ff60-e707-11e6-89c8-314aa4f67f8c  RSAM  counts    RSAM   \n",
       "26   1248ff60-e707-11e6-89c8-314aa4f67f8c  RSAM  counts    RSAM   \n",
       "27   1248ff60-e707-11e6-89c8-314aa4f67f8c  RSAM  counts    RSAM   \n",
       "28   1248ff60-e707-11e6-89c8-314aa4f67f8c  RSAM  counts    RSAM   \n",
       "29   1248ff60-e707-11e6-89c8-314aa4f67f8c  RSAM  counts    RSAM   \n",
       "30   1248ff60-e707-11e6-89c8-314aa4f67f8c  RSAM  counts    RSAM   \n",
       "31   1248ff60-e707-11e6-89c8-314aa4f67f8c  RSAM  counts    RSAM   \n",
       "\n",
       "     data_frequency  name  \n",
       "Day                        \n",
       "1           1800000  RSAM  \n",
       "2           1800000  RSAM  \n",
       "3           1800000  RSAM  \n",
       "4           1800000  RSAM  \n",
       "5           1800000  RSAM  \n",
       "6           1800000  RSAM  \n",
       "7           1800000  RSAM  \n",
       "8           1800000  RSAM  \n",
       "9           1800000  RSAM  \n",
       "10          1800000  RSAM  \n",
       "11          1800000  RSAM  \n",
       "12          1800000  RSAM  \n",
       "13          1800000  RSAM  \n",
       "14          1800000  RSAM  \n",
       "15          1800000  RSAM  \n",
       "16          1800000  RSAM  \n",
       "17          1800000  RSAM  \n",
       "18          1800000  RSAM  \n",
       "19          1800000  RSAM  \n",
       "20          1800000  RSAM  \n",
       "21          1800000  RSAM  \n",
       "22          1800000  RSAM  \n",
       "23          1800000  RSAM  \n",
       "24          1800000  RSAM  \n",
       "25          1800000  RSAM  \n",
       "26          1800000  RSAM  \n",
       "27          1800000  RSAM  \n",
       "28          1800000  RSAM  \n",
       "29          1800000  RSAM  \n",
       "30          1800000  RSAM  \n",
       "31          1800000  RSAM  "
      ]
     },
     "execution_count": 58,
     "metadata": {},
     "output_type": "execute_result"
    }
   ],
   "source": [
    "data_s = data_1.groupby('Day')\n",
    "data_s.first()"
   ]
  },
  {
   "cell_type": "markdown",
   "metadata": {},
   "source": [
    "## July Data"
   ]
  },
  {
   "cell_type": "code",
   "execution_count": 75,
   "metadata": {},
   "outputs": [
    {
     "data": {
      "text/plain": [
       "(array([ 0,  1,  2,  3,  4,  5,  6,  7,  8,  9, 10, 11, 12, 13, 14, 15, 16,\n",
       "        17, 18, 19, 20, 21, 22, 23, 24, 25, 26, 27, 28, 29, 30]),\n",
       " <a list of 31 Text xticklabel objects>)"
      ]
     },
     "execution_count": 75,
     "metadata": {},
     "output_type": "execute_result"
    },
    {
     "data": {
      "image/png": "[encoded data removed]",
      "text/plain": [
       "<Figure size 1800x360 with 3 Axes>"
      ]
     },
     "metadata": {
      "needs_background": "light"
     },
     "output_type": "display_data"
    }
   ],
   "source": [
    "data_mean = data_s.mean().sort_values('value',ascending=False)\n",
    "data_max = data_s.max().sort_values('value',ascending=False)\n",
    "data_min = data_s.min().sort_values('value',ascending=False)\n",
    "\n",
    "# Only one sensor was available in July\n",
    "plt.figure(figsize=(25,5))\n",
    "plt.subplot(1,3,1)\n",
    "sns.barplot(x=data_mean.index, y=data_mean['value'])\n",
    "plt.title('Average Daily Values for RSAM Sensor in July')\n",
    "plt.subplot(1,3,2)\n",
    "sns.barplot(x=data_max.index, y=data_max['value'])\n",
    "plt.title('Maximum Daily Values for RSAM Sensor in July')\n",
    "plt.subplot(1,3,3)\n",
    "sns.barplot(x=data_min.index, y=data_min['value'])\n",
    "plt.title('Minimum Daily Values for RSAM Sensor in July')\n",
    "plt.xticks(rotation=90)\n"
   ]
  },
  {
   "cell_type": "markdown",
   "metadata": {},
   "source": [
    "## August Data"
   ]
  },
  {
   "cell_type": "code",
   "execution_count": 88,
   "metadata": {},
   "outputs": [
    {
     "data": {
      "text/html": [
       "<div>\n",
       "<style scoped>\n",
       "    .dataframe tbody tr th:only-of-type {\n",
       "        vertical-align: middle;\n",
       "    }\n",
       "\n",
       "    .dataframe tbody tr th {\n",
       "        vertical-align: top;\n",
       "    }\n",
       "\n",
       "    .dataframe thead th {\n",
       "        text-align: right;\n",
       "    }\n",
       "</style>\n",
       "<table border=\"1\" class=\"dataframe\">\n",
       "  <thead>\n",
       "    <tr style=\"text-align: right;\">\n",
       "      <th></th>\n",
       "      <th>id</th>\n",
       "      <th>value</th>\n",
       "      <th>timestamp</th>\n",
       "      <th>sensor_id</th>\n",
       "      <th>type</th>\n",
       "      <th>si_unit</th>\n",
       "      <th>type_id</th>\n",
       "      <th>data_frequency</th>\n",
       "      <th>name</th>\n",
       "      <th>Day</th>\n",
       "    </tr>\n",
       "  </thead>\n",
       "  <tbody>\n",
       "    <tr>\n",
       "      <td>0</td>\n",
       "      <td>764c5e60-8679-11e6-a353-2f6c041e2491</td>\n",
       "      <td>98.000</td>\n",
       "      <td>2016-08-03 04:39:25+00:00</td>\n",
       "      <td>7635c920-8679-11e6-a353-2f6c041e2491</td>\n",
       "      <td>battery</td>\n",
       "      <td>percentage</td>\n",
       "      <td>BAT</td>\n",
       "      <td>1800000</td>\n",
       "      <td>N10</td>\n",
       "      <td>3</td>\n",
       "    </tr>\n",
       "    <tr>\n",
       "      <td>1</td>\n",
       "      <td>764c5e61-8679-11e6-a353-2f6c041e2491</td>\n",
       "      <td>33.198</td>\n",
       "      <td>2016-08-03 04:39:25+00:00</td>\n",
       "      <td>763b9580-8679-11e6-a353-2f6c041e2491</td>\n",
       "      <td>hydrogen sulfide concentration</td>\n",
       "      <td>ppm</td>\n",
       "      <td>GP_H2S</td>\n",
       "      <td>1800000</td>\n",
       "      <td>N10</td>\n",
       "      <td>3</td>\n",
       "    </tr>\n",
       "    <tr>\n",
       "      <td>2</td>\n",
       "      <td>764dbdf0-8679-11e6-a353-2f6c041e2491</td>\n",
       "      <td>29.300</td>\n",
       "      <td>2016-08-03 04:39:25+00:00</td>\n",
       "      <td>763ca6f0-8679-11e6-a353-2f6c041e2491</td>\n",
       "      <td>temperature</td>\n",
       "      <td>celcius</td>\n",
       "      <td>TCA</td>\n",
       "      <td>1800000</td>\n",
       "      <td>N10</td>\n",
       "      <td>3</td>\n",
       "    </tr>\n",
       "    <tr>\n",
       "      <td>3</td>\n",
       "      <td>764dbdf1-8679-11e6-a353-2f6c041e2491</td>\n",
       "      <td>96893.110</td>\n",
       "      <td>2016-08-03 04:39:25+00:00</td>\n",
       "      <td>763d9150-8679-11e6-a353-2f6c041e2491</td>\n",
       "      <td>pressure</td>\n",
       "      <td>pascal</td>\n",
       "      <td>PA</td>\n",
       "      <td>1800000</td>\n",
       "      <td>N10</td>\n",
       "      <td>3</td>\n",
       "    </tr>\n",
       "    <tr>\n",
       "      <td>4</td>\n",
       "      <td>764dbdf2-8679-11e6-a353-2f6c041e2491</td>\n",
       "      <td>459.736</td>\n",
       "      <td>2016-08-03 04:39:25+00:00</td>\n",
       "      <td>763701a1-8679-11e6-a353-2f6c041e2491</td>\n",
       "      <td>carbon dioxide concentration</td>\n",
       "      <td>ppm</td>\n",
       "      <td>GP_CO2</td>\n",
       "      <td>1800000</td>\n",
       "      <td>N10</td>\n",
       "      <td>3</td>\n",
       "    </tr>\n",
       "  </tbody>\n",
       "</table>\n",
       "</div>"
      ],
      "text/plain": [
       "                                     id      value                 timestamp  \\\n",
       "0  764c5e60-8679-11e6-a353-2f6c041e2491     98.000 2016-08-03 04:39:25+00:00   \n",
       "1  764c5e61-8679-11e6-a353-2f6c041e2491     33.198 2016-08-03 04:39:25+00:00   \n",
       "2  764dbdf0-8679-11e6-a353-2f6c041e2491     29.300 2016-08-03 04:39:25+00:00   \n",
       "3  764dbdf1-8679-11e6-a353-2f6c041e2491  96893.110 2016-08-03 04:39:25+00:00   \n",
       "4  764dbdf2-8679-11e6-a353-2f6c041e2491    459.736 2016-08-03 04:39:25+00:00   \n",
       "\n",
       "                              sensor_id                            type  \\\n",
       "0  7635c920-8679-11e6-a353-2f6c041e2491                         battery   \n",
       "1  763b9580-8679-11e6-a353-2f6c041e2491  hydrogen sulfide concentration   \n",
       "2  763ca6f0-8679-11e6-a353-2f6c041e2491                     temperature   \n",
       "3  763d9150-8679-11e6-a353-2f6c041e2491                        pressure   \n",
       "4  763701a1-8679-11e6-a353-2f6c041e2491    carbon dioxide concentration   \n",
       "\n",
       "      si_unit type_id  data_frequency name  Day  \n",
       "0  percentage     BAT         1800000  N10    3  \n",
       "1         ppm  GP_H2S         1800000  N10    3  \n",
       "2     celcius     TCA         1800000  N10    3  \n",
       "3      pascal      PA         1800000  N10    3  \n",
       "4         ppm  GP_CO2         1800000  N10    3  "
      ]
     },
     "execution_count": 88,
     "metadata": {},
     "output_type": "execute_result"
    }
   ],
   "source": [
    "data_2 = sensor_group.get_group(8)\n",
    "data_2.head()"
   ]
  },
  {
   "cell_type": "code",
   "execution_count": 78,
   "metadata": {},
   "outputs": [
    {
     "data": {
      "text/plain": [
       "e66592c0-8679-11e6-a353-2f6c041e2491    5180\n",
       "e6691530-8679-11e6-a353-2f6c041e2491    5151\n",
       "e66851e0-8679-11e6-a353-2f6c041e2491    5130\n",
       "e6678e91-8679-11e6-a353-2f6c041e2491    5118\n",
       "e66851e1-8679-11e6-a353-2f6c041e2491    5048\n",
       "                                        ... \n",
       "c5e80c70-867a-11e6-a353-2f6c041e2491     104\n",
       "c5e881a1-867a-11e6-a353-2f6c041e2491     104\n",
       "c5e8a8b0-867a-11e6-a353-2f6c041e2491     104\n",
       "c5e685d0-867a-11e6-a353-2f6c041e2491     104\n",
       "c5e9ba20-867a-11e6-a353-2f6c041e2491     104\n",
       "Name: sensor_id, Length: 61, dtype: int64"
      ]
     },
     "execution_count": 78,
     "metadata": {},
     "output_type": "execute_result"
    }
   ],
   "source": [
    "data_2['sensor_id'].value_counts()"
   ]
  },
  {
   "cell_type": "code",
   "execution_count": 113,
   "metadata": {},
   "outputs": [],
   "source": [
    "#data_2.mean().sort_values('value',ascending=False)"
   ]
  },
  {
   "cell_type": "code",
   "execution_count": 166,
   "metadata": {},
   "outputs": [],
   "source": [
    "data_2mean = data_2.groupby([\"Day\", \"type_id\"], as_index=False)[\"value\"].mean()\n",
    "data_2max = data_2.groupby([\"Day\", \"type_id\"], as_index=False)[\"value\"].max()\n",
    "data_2min = data_2.groupby([\"Day\", \"type_id\"], as_index=False)[\"value\"].min()"
   ]
  },
  {
   "cell_type": "code",
   "execution_count": 133,
   "metadata": {},
   "outputs": [
    {
     "data": {
      "text/plain": [
       "7"
      ]
     },
     "execution_count": 133,
     "metadata": {},
     "output_type": "execute_result"
    }
   ],
   "source": [
    "data_2mean['type_id'].nunique()"
   ]
  },
  {
   "cell_type": "code",
   "execution_count": 140,
   "metadata": {},
   "outputs": [],
   "source": [
    "#data_2mean['type_id']"
   ]
  },
  {
   "cell_type": "code",
   "execution_count": 170,
   "metadata": {},
   "outputs": [
    {
     "data": {
      "text/plain": [
       "<matplotlib.legend.Legend at 0x7fa4a6813710>"
      ]
     },
     "execution_count": 170,
     "metadata": {},
     "output_type": "execute_result"
    },
    {
     "data": {
      "image/png": "[encoded data removed]",
      "text/plain": [
       "<Figure size 1296x1080 with 7 Axes>"
      ]
     },
     "metadata": {
      "needs_background": "light"
     },
     "output_type": "display_data"
    }
   ],
   "source": [
    "df1 = data_2mean[data_2mean.type_id==\"RSAM\"]\n",
    "df2 = data_2mean[data_2mean.type_id==\"BAT\"]\n",
    "df3 = data_2mean[data_2mean.type_id==\"GP_CO2\"]\n",
    "df4 = data_2mean[data_2mean.type_id==\"GP_H2S\"]\n",
    "df5 = data_2mean[data_2mean.type_id==\"GP_H2S\"]\n",
    "df6 = data_2mean[data_2mean.type_id==\"PA\"]\n",
    "df7 = data_2mean[data_2mean.type_id==\"TCA\"]\n",
    "\n",
    "plt.figure(figsize=(18,15))\n",
    "fig.suptitle('Vertically stacked subplots')\n",
    "plt.subplot(4,2,1)\n",
    "sns.barplot(x=\"Day\", y=\"value\", hue= \"type_id\", data=df1)\n",
    "plt.title('Average Daily Values for RSAM Sensor in August')\n",
    "plt.subplot(4,2,2)\n",
    "sns.barplot(x=\"Day\", y=\"value\", hue= \"type_id\", data=df2)\n",
    "plt.title('Average Daily Values for BAT Sensor in August')\n",
    "plt.subplot(4,2,3)\n",
    "sns.barplot(x=\"Day\", y=\"value\", hue= \"type_id\", data=df3)\n",
    "plt.title('Average Daily Values for GP_CO2 Sensor in August')\n",
    "plt.subplot(4,2,4)\n",
    "sns.barplot(x=\"Day\", y=\"value\", hue= \"type_id\", data=df4)\n",
    "plt.title('Average Daily Values for GP_H2S Sensor in August')\n",
    "plt.subplot(4,2,5)\n",
    "sns.barplot(x=\"Day\", y=\"value\", hue= \"type_id\", data=df5)\n",
    "plt.title('Average Daily Values for HUMA Sensor in August')\n",
    "plt.subplot(4,2,6)\n",
    "sns.barplot(x=\"Day\", y=\"value\", hue= \"type_id\", data=df6)\n",
    "plt.title('Average Daily Values for PA Sensor in August')\n",
    "plt.subplot(4,2,7)\n",
    "sns.barplot(x=\"Day\", y=\"value\", hue= \"type_id\", data=df7)\n",
    "plt.title('Average Daily Values for TCA Sensor in August')\n",
    "#plt.xticks(rotation=90)\n",
    "plt.subplots_adjust(wspace=0.1, hspace=0.5)\n",
    "plt.legend()"
   ]
  },
  {
   "cell_type": "code",
   "execution_count": 173,
   "metadata": {},
   "outputs": [
    {
     "data": {
      "text/plain": [
       "<matplotlib.legend.Legend at 0x7fa47f9d5910>"
      ]
     },
     "execution_count": 173,
     "metadata": {},
     "output_type": "execute_result"
    },
    {
     "data": {
      "image/png": "[encoded data removed]",
      "text/plain": [
       "<Figure size 1296x1080 with 7 Axes>"
      ]
     },
     "metadata": {
      "needs_background": "light"
     },
     "output_type": "display_data"
    }
   ],
   "source": [
    "df1_max = data_2max[data_2max.type_id==\"RSAM\"]\n",
    "df2_max = data_2max[data_2max.type_id==\"BAT\"]\n",
    "df3_max = data_2max[data_2max.type_id==\"GP_CO2\"]\n",
    "df4_max = data_2max[data_2max.type_id==\"GP_H2S\"]\n",
    "df5_max = data_2max[data_2max.type_id==\"HUMA\"]\n",
    "df6_max = data_2max[data_2max.type_id==\"PA\"]\n",
    "df7_max = data_2max[data_2max.type_id==\"TCA\"]\n",
    "\n",
    "\n",
    "plt.figure(figsize=(18,15))\n",
    "fig.suptitle('Vertically stacked subplots')\n",
    "plt.subplot(4,2,1)\n",
    "sns.barplot(x=\"Day\", y=\"value\", hue= \"type_id\", data=df1_max)\n",
    "plt.title('Maximum Daily Values for RSAM Sensor in August')\n",
    "plt.subplot(4,2,2)\n",
    "sns.barplot(x=\"Day\", y=\"value\", hue= \"type_id\", data=df2_max)\n",
    "plt.title('Maximum Daily Values for BAT Sensor in August')\n",
    "plt.subplot(4,2,3)\n",
    "sns.barplot(x=\"Day\", y=\"value\", hue= \"type_id\", data=df3_max)\n",
    "plt.title('Maximum Daily Values for GP_CO2 Sensor in August')\n",
    "plt.subplot(4,2,4)\n",
    "sns.barplot(x=\"Day\", y=\"value\", hue= \"type_id\", data=df4_max)\n",
    "plt.title('Maximum Daily Values for GP_H2S Sensor in August')\n",
    "plt.subplot(4,2,5)\n",
    "sns.barplot(x=\"Day\", y=\"value\", hue= \"type_id\", data=df5_max)\n",
    "plt.title('Maximum Daily Values for HUMA Sensor in August')\n",
    "plt.subplot(4,2,6)\n",
    "sns.barplot(x=\"Day\", y=\"value\", hue= \"type_id\", data=df6_max)\n",
    "plt.title('Maximum Daily Values for PA Sensor in August')\n",
    "plt.subplot(4,2,7)\n",
    "sns.barplot(x=\"Day\", y=\"value\", hue= \"type_id\", data=df7_max)\n",
    "plt.title('Maximum Daily Values for TCA Sensor in August')\n",
    "#plt.xticks(rotation=90)\n",
    "plt.subplots_adjust(wspace=0.1, hspace=0.5)\n",
    "plt.legend()"
   ]
  },
  {
   "cell_type": "code",
   "execution_count": 174,
   "metadata": {},
   "outputs": [
    {
     "data": {
      "text/plain": [
       "<matplotlib.legend.Legend at 0x7fa481120510>"
      ]
     },
     "execution_count": 174,
     "metadata": {},
     "output_type": "execute_result"
    },
    {
     "data": {
      "image/png": "[encoded data removed]",
      "text/plain": [
       "<Figure size 1296x1080 with 7 Axes>"
      ]
     },
     "metadata": {
      "needs_background": "light"
     },
     "output_type": "display_data"
    }
   ],
   "source": [
    "df1_min = data_2min[data_2min.type_id==\"RSAM\"]\n",
    "df2_min = data_2min[data_2min.type_id==\"BAT\"]\n",
    "df3_min = data_2min[data_2min.type_id==\"GP_CO2\"]\n",
    "df4_min = data_2min[data_2min.type_id==\"GP_H2S\"]\n",
    "df5_min = data_2min[data_2min.type_id==\"HUMA\"]\n",
    "df6_min = data_2min[data_2min.type_id==\"PA\"]\n",
    "df7_min = data_2min[data_2min.type_id==\"TCA\"]\n",
    "\n",
    "\n",
    "plt.figure(figsize=(18,15))\n",
    "fig.suptitle('Vertically stacked subplots')\n",
    "plt.subplot(4,2,1)\n",
    "sns.barplot(x=\"Day\", y=\"value\", hue= \"type_id\", data=df1_min)\n",
    "plt.title('Minimum Daily Values for RSAM Sensor in August')\n",
    "plt.subplot(4,2,2)\n",
    "sns.barplot(x=\"Day\", y=\"value\", hue= \"type_id\", data=df2_min)\n",
    "plt.title('Minimum Daily Values for BAT Sensor in August')\n",
    "plt.subplot(4,2,3)\n",
    "sns.barplot(x=\"Day\", y=\"value\", hue= \"type_id\", data=df3_min)\n",
    "plt.title('Minimum Daily Values for GP_CO2 Sensor in August')\n",
    "plt.subplot(4,2,4)\n",
    "sns.barplot(x=\"Day\", y=\"value\", hue= \"type_id\", data=df4_min)\n",
    "plt.title('Minimum Daily Values for GP_H2S Sensor in August')\n",
    "plt.subplot(4,2,5)\n",
    "sns.barplot(x=\"Day\", y=\"value\", hue= \"type_id\", data=df5_min)\n",
    "plt.title('Minimum Daily Values for HUMA Sensor in August')\n",
    "plt.subplot(4,2,6)\n",
    "sns.barplot(x=\"Day\", y=\"value\", hue= \"type_id\", data=df6_min)\n",
    "plt.title('Minimum Daily Values for PA Sensor in August')\n",
    "plt.subplot(4,2,7)\n",
    "sns.barplot(x=\"Day\", y=\"value\", hue= \"type_id\", data=df7_min)\n",
    "plt.title('Minimum Daily Values for TCA Sensor in August')\n",
    "#plt.xticks(rotation=90)\n",
    "plt.subplots_adjust(wspace=0.1, hspace=0.5)\n",
    "plt.legend()"
   ]
  },
  {
   "cell_type": "markdown",
   "metadata": {},
   "source": [
    "## September Data"
   ]
  },
  {
   "cell_type": "code",
   "execution_count": 175,
   "metadata": {},
   "outputs": [],
   "source": [
    "# data_2s = data_2.groupby('Day')\n",
    "# data_2s.first()"
   ]
  },
  {
   "cell_type": "code",
   "execution_count": 177,
   "metadata": {},
   "outputs": [
    {
     "data": {
      "text/html": [
       "<div>\n",
       "<style scoped>\n",
       "    .dataframe tbody tr th:only-of-type {\n",
       "        vertical-align: middle;\n",
       "    }\n",
       "\n",
       "    .dataframe tbody tr th {\n",
       "        vertical-align: top;\n",
       "    }\n",
       "\n",
       "    .dataframe thead th {\n",
       "        text-align: right;\n",
       "    }\n",
       "</style>\n",
       "<table border=\"1\" class=\"dataframe\">\n",
       "  <thead>\n",
       "    <tr style=\"text-align: right;\">\n",
       "      <th></th>\n",
       "      <th>id</th>\n",
       "      <th>value</th>\n",
       "      <th>timestamp</th>\n",
       "      <th>sensor_id</th>\n",
       "      <th>type</th>\n",
       "      <th>si_unit</th>\n",
       "      <th>type_id</th>\n",
       "      <th>data_frequency</th>\n",
       "      <th>name</th>\n",
       "      <th>Day</th>\n",
       "    </tr>\n",
       "  </thead>\n",
       "  <tbody>\n",
       "    <tr>\n",
       "      <td>60382</td>\n",
       "      <td>35d63a60-8695-11e6-b9eb-2b0883ebdaeb</td>\n",
       "      <td>NaN</td>\n",
       "      <td>2016-09-01 00:28:19+00:00</td>\n",
       "      <td>e66851e1-8679-11e6-a353-2f6c041e2491</td>\n",
       "      <td>carbon dioxide concentration</td>\n",
       "      <td>ppm</td>\n",
       "      <td>GP_CO2</td>\n",
       "      <td>1800000</td>\n",
       "      <td>N6</td>\n",
       "      <td>1</td>\n",
       "    </tr>\n",
       "    <tr>\n",
       "      <td>60383</td>\n",
       "      <td>35d96eb0-8695-11e6-b9eb-2b0883ebdaeb</td>\n",
       "      <td>93.00</td>\n",
       "      <td>2016-09-01 00:30:11+00:00</td>\n",
       "      <td>7635f030-8679-11e6-a353-2f6c041e2491</td>\n",
       "      <td>battery</td>\n",
       "      <td>percentage</td>\n",
       "      <td>BAT</td>\n",
       "      <td>1800000</td>\n",
       "      <td>N7</td>\n",
       "      <td>1</td>\n",
       "    </tr>\n",
       "    <tr>\n",
       "      <td>60384</td>\n",
       "      <td>35dcca10-8695-11e6-b9eb-2b0883ebdaeb</td>\n",
       "      <td>117828.02</td>\n",
       "      <td>2016-09-01 00:30:11+00:00</td>\n",
       "      <td>763d6a40-8679-11e6-a353-2f6c041e2491</td>\n",
       "      <td>pressure</td>\n",
       "      <td>pascal</td>\n",
       "      <td>PA</td>\n",
       "      <td>1800000</td>\n",
       "      <td>N7</td>\n",
       "      <td>1</td>\n",
       "    </tr>\n",
       "    <tr>\n",
       "      <td>60385</td>\n",
       "      <td>35e02570-8695-11e6-b9eb-2b0883ebdaeb</td>\n",
       "      <td>NaN</td>\n",
       "      <td>2016-09-01 00:30:41+00:00</td>\n",
       "      <td>e6678e91-8679-11e6-a353-2f6c041e2491</td>\n",
       "      <td>temperature</td>\n",
       "      <td>celcius</td>\n",
       "      <td>TCA</td>\n",
       "      <td>1800000</td>\n",
       "      <td>N6</td>\n",
       "      <td>1</td>\n",
       "    </tr>\n",
       "    <tr>\n",
       "      <td>60386</td>\n",
       "      <td>35e332b0-8695-11e6-b9eb-2b0883ebdaeb</td>\n",
       "      <td>NaN</td>\n",
       "      <td>2016-09-01 00:33:03+00:00</td>\n",
       "      <td>e66851e1-8679-11e6-a353-2f6c041e2491</td>\n",
       "      <td>carbon dioxide concentration</td>\n",
       "      <td>ppm</td>\n",
       "      <td>GP_CO2</td>\n",
       "      <td>1800000</td>\n",
       "      <td>N6</td>\n",
       "      <td>1</td>\n",
       "    </tr>\n",
       "  </tbody>\n",
       "</table>\n",
       "</div>"
      ],
      "text/plain": [
       "                                         id      value  \\\n",
       "60382  35d63a60-8695-11e6-b9eb-2b0883ebdaeb        NaN   \n",
       "60383  35d96eb0-8695-11e6-b9eb-2b0883ebdaeb      93.00   \n",
       "60384  35dcca10-8695-11e6-b9eb-2b0883ebdaeb  117828.02   \n",
       "60385  35e02570-8695-11e6-b9eb-2b0883ebdaeb        NaN   \n",
       "60386  35e332b0-8695-11e6-b9eb-2b0883ebdaeb        NaN   \n",
       "\n",
       "                      timestamp                             sensor_id  \\\n",
       "60382 2016-09-01 00:28:19+00:00  e66851e1-8679-11e6-a353-2f6c041e2491   \n",
       "60383 2016-09-01 00:30:11+00:00  7635f030-8679-11e6-a353-2f6c041e2491   \n",
       "60384 2016-09-01 00:30:11+00:00  763d6a40-8679-11e6-a353-2f6c041e2491   \n",
       "60385 2016-09-01 00:30:41+00:00  e6678e91-8679-11e6-a353-2f6c041e2491   \n",
       "60386 2016-09-01 00:33:03+00:00  e66851e1-8679-11e6-a353-2f6c041e2491   \n",
       "\n",
       "                               type     si_unit type_id  data_frequency name  \\\n",
       "60382  carbon dioxide concentration         ppm  GP_CO2         1800000   N6   \n",
       "60383                       battery  percentage     BAT         1800000   N7   \n",
       "60384                      pressure      pascal      PA         1800000   N7   \n",
       "60385                   temperature     celcius     TCA         1800000   N6   \n",
       "60386  carbon dioxide concentration         ppm  GP_CO2         1800000   N6   \n",
       "\n",
       "       Day  \n",
       "60382    1  \n",
       "60383    1  \n",
       "60384    1  \n",
       "60385    1  \n",
       "60386    1  "
      ]
     },
     "execution_count": 177,
     "metadata": {},
     "output_type": "execute_result"
    }
   ],
   "source": [
    "data_3 = sensor_group.get_group(9)\n",
    "data_3.head()"
   ]
  },
  {
   "cell_type": "code",
   "execution_count": 193,
   "metadata": {},
   "outputs": [],
   "source": [
    "#data_3['sensor_id'].value_counts()"
   ]
  },
  {
   "cell_type": "code",
   "execution_count": 179,
   "metadata": {},
   "outputs": [],
   "source": [
    "data_3mean = data_3.groupby([\"Day\", \"type_id\"], as_index=False)[\"value\"].mean()\n",
    "data_3max = data_3.groupby([\"Day\", \"type_id\"], as_index=False)[\"value\"].max()\n",
    "data_3min = data_3.groupby([\"Day\", \"type_id\"], as_index=False)[\"value\"].min()"
   ]
  },
  {
   "cell_type": "code",
   "execution_count": 181,
   "metadata": {},
   "outputs": [
    {
     "data": {
      "text/plain": [
       "6"
      ]
     },
     "execution_count": 181,
     "metadata": {},
     "output_type": "execute_result"
    }
   ],
   "source": [
    "data_3['type_id'].nunique()"
   ]
  },
  {
   "cell_type": "code",
   "execution_count": 182,
   "metadata": {},
   "outputs": [
    {
     "data": {
      "text/html": [
       "<div>\n",
       "<style scoped>\n",
       "    .dataframe tbody tr th:only-of-type {\n",
       "        vertical-align: middle;\n",
       "    }\n",
       "\n",
       "    .dataframe tbody tr th {\n",
       "        vertical-align: top;\n",
       "    }\n",
       "\n",
       "    .dataframe thead th {\n",
       "        text-align: right;\n",
       "    }\n",
       "</style>\n",
       "<table border=\"1\" class=\"dataframe\">\n",
       "  <thead>\n",
       "    <tr style=\"text-align: right;\">\n",
       "      <th></th>\n",
       "      <th>id</th>\n",
       "      <th>value</th>\n",
       "      <th>timestamp</th>\n",
       "      <th>sensor_id</th>\n",
       "      <th>type</th>\n",
       "      <th>si_unit</th>\n",
       "      <th>type_id</th>\n",
       "      <th>data_frequency</th>\n",
       "      <th>name</th>\n",
       "      <th>Day</th>\n",
       "    </tr>\n",
       "  </thead>\n",
       "  <tbody>\n",
       "    <tr>\n",
       "      <td>60382</td>\n",
       "      <td>35d63a60-8695-11e6-b9eb-2b0883ebdaeb</td>\n",
       "      <td>NaN</td>\n",
       "      <td>2016-09-01 00:28:19+00:00</td>\n",
       "      <td>e66851e1-8679-11e6-a353-2f6c041e2491</td>\n",
       "      <td>carbon dioxide concentration</td>\n",
       "      <td>ppm</td>\n",
       "      <td>GP_CO2</td>\n",
       "      <td>1800000</td>\n",
       "      <td>N6</td>\n",
       "      <td>1</td>\n",
       "    </tr>\n",
       "    <tr>\n",
       "      <td>60383</td>\n",
       "      <td>35d96eb0-8695-11e6-b9eb-2b0883ebdaeb</td>\n",
       "      <td>93.00</td>\n",
       "      <td>2016-09-01 00:30:11+00:00</td>\n",
       "      <td>7635f030-8679-11e6-a353-2f6c041e2491</td>\n",
       "      <td>battery</td>\n",
       "      <td>percentage</td>\n",
       "      <td>BAT</td>\n",
       "      <td>1800000</td>\n",
       "      <td>N7</td>\n",
       "      <td>1</td>\n",
       "    </tr>\n",
       "    <tr>\n",
       "      <td>60384</td>\n",
       "      <td>35dcca10-8695-11e6-b9eb-2b0883ebdaeb</td>\n",
       "      <td>117828.02</td>\n",
       "      <td>2016-09-01 00:30:11+00:00</td>\n",
       "      <td>763d6a40-8679-11e6-a353-2f6c041e2491</td>\n",
       "      <td>pressure</td>\n",
       "      <td>pascal</td>\n",
       "      <td>PA</td>\n",
       "      <td>1800000</td>\n",
       "      <td>N7</td>\n",
       "      <td>1</td>\n",
       "    </tr>\n",
       "    <tr>\n",
       "      <td>60385</td>\n",
       "      <td>35e02570-8695-11e6-b9eb-2b0883ebdaeb</td>\n",
       "      <td>NaN</td>\n",
       "      <td>2016-09-01 00:30:41+00:00</td>\n",
       "      <td>e6678e91-8679-11e6-a353-2f6c041e2491</td>\n",
       "      <td>temperature</td>\n",
       "      <td>celcius</td>\n",
       "      <td>TCA</td>\n",
       "      <td>1800000</td>\n",
       "      <td>N6</td>\n",
       "      <td>1</td>\n",
       "    </tr>\n",
       "    <tr>\n",
       "      <td>60386</td>\n",
       "      <td>35e332b0-8695-11e6-b9eb-2b0883ebdaeb</td>\n",
       "      <td>NaN</td>\n",
       "      <td>2016-09-01 00:33:03+00:00</td>\n",
       "      <td>e66851e1-8679-11e6-a353-2f6c041e2491</td>\n",
       "      <td>carbon dioxide concentration</td>\n",
       "      <td>ppm</td>\n",
       "      <td>GP_CO2</td>\n",
       "      <td>1800000</td>\n",
       "      <td>N6</td>\n",
       "      <td>1</td>\n",
       "    </tr>\n",
       "  </tbody>\n",
       "</table>\n",
       "</div>"
      ],
      "text/plain": [
       "                                         id      value  \\\n",
       "60382  35d63a60-8695-11e6-b9eb-2b0883ebdaeb        NaN   \n",
       "60383  35d96eb0-8695-11e6-b9eb-2b0883ebdaeb      93.00   \n",
       "60384  35dcca10-8695-11e6-b9eb-2b0883ebdaeb  117828.02   \n",
       "60385  35e02570-8695-11e6-b9eb-2b0883ebdaeb        NaN   \n",
       "60386  35e332b0-8695-11e6-b9eb-2b0883ebdaeb        NaN   \n",
       "\n",
       "                      timestamp                             sensor_id  \\\n",
       "60382 2016-09-01 00:28:19+00:00  e66851e1-8679-11e6-a353-2f6c041e2491   \n",
       "60383 2016-09-01 00:30:11+00:00  7635f030-8679-11e6-a353-2f6c041e2491   \n",
       "60384 2016-09-01 00:30:11+00:00  763d6a40-8679-11e6-a353-2f6c041e2491   \n",
       "60385 2016-09-01 00:30:41+00:00  e6678e91-8679-11e6-a353-2f6c041e2491   \n",
       "60386 2016-09-01 00:33:03+00:00  e66851e1-8679-11e6-a353-2f6c041e2491   \n",
       "\n",
       "                               type     si_unit type_id  data_frequency name  \\\n",
       "60382  carbon dioxide concentration         ppm  GP_CO2         1800000   N6   \n",
       "60383                       battery  percentage     BAT         1800000   N7   \n",
       "60384                      pressure      pascal      PA         1800000   N7   \n",
       "60385                   temperature     celcius     TCA         1800000   N6   \n",
       "60386  carbon dioxide concentration         ppm  GP_CO2         1800000   N6   \n",
       "\n",
       "       Day  \n",
       "60382    1  \n",
       "60383    1  \n",
       "60384    1  \n",
       "60385    1  \n",
       "60386    1  "
      ]
     },
     "execution_count": 182,
     "metadata": {},
     "output_type": "execute_result"
    }
   ],
   "source": [
    "data_3.head()"
   ]
  },
  {
   "cell_type": "code",
   "execution_count": 187,
   "metadata": {},
   "outputs": [
    {
     "data": {
      "text/plain": [
       "<matplotlib.legend.Legend at 0x7fa483dc68d0>"
      ]
     },
     "execution_count": 187,
     "metadata": {},
     "output_type": "execute_result"
    },
    {
     "data": {
      "image/png": "[encoded data removed]",
      "text/plain": [
       "<Figure size 1296x1080 with 6 Axes>"
      ]
     },
     "metadata": {
      "needs_background": "light"
     },
     "output_type": "display_data"
    }
   ],
   "source": [
    "df9 = data_3mean[data_3mean.type_id==\"BAT\"]\n",
    "df10 = data_3mean[data_3mean.type_id==\"GP_CO2\"]\n",
    "df11 = data_3mean[data_3mean.type_id==\"GP_H2S\"]\n",
    "df12 = data_3mean[data_3mean.type_id==\"GP_H2S\"]\n",
    "df13 = data_3mean[data_3mean.type_id==\"PA\"]\n",
    "df14 = data_3mean[data_3mean.type_id==\"TCA\"]\n",
    "\n",
    "plt.figure(figsize=(18,15))\n",
    "\n",
    "plt.subplot(4,2,1)\n",
    "sns.barplot(x=\"Day\", y=\"value\", hue= \"type_id\", data=df9)\n",
    "plt.title('Average Daily Values for BAT Sensor in September')\n",
    "plt.subplot(4,2,2)\n",
    "sns.barplot(x=\"Day\", y=\"value\", hue= \"type_id\", data=df10)\n",
    "plt.title('Average Daily Values for GP_CO2 Sensor in September')\n",
    "plt.subplot(4,2,3)\n",
    "sns.barplot(x=\"Day\", y=\"value\", hue= \"type_id\", data=df11)\n",
    "plt.title('Average Daily Values for GP_H2S Sensor in September')\n",
    "plt.subplot(4,2,4)\n",
    "sns.barplot(x=\"Day\", y=\"value\", hue= \"type_id\", data=df12)\n",
    "plt.title('Average Daily Values for HUMA Sensor in September')\n",
    "plt.subplot(4,2,5)\n",
    "sns.barplot(x=\"Day\", y=\"value\", hue= \"type_id\", data=df13)\n",
    "plt.title('Average Daily Values for PA Sensor in September')\n",
    "plt.subplot(4,2,6)\n",
    "sns.barplot(x=\"Day\", y=\"value\", hue= \"type_id\", data=df14)\n",
    "plt.title('Average Daily Values for TCA Sensor in September')\n",
    "#plt.xticks(rotation=90)\n",
    "plt.subplots_adjust(wspace=0.1, hspace=0.5)\n",
    "plt.legend()"
   ]
  },
  {
   "cell_type": "code",
   "execution_count": 192,
   "metadata": {},
   "outputs": [
    {
     "data": {
      "text/plain": [
       "<matplotlib.legend.Legend at 0x7fa48f3daad0>"
      ]
     },
     "execution_count": 192,
     "metadata": {},
     "output_type": "execute_result"
    },
    {
     "data": {
      "image/png": "[encoded data removed]",
      "text/plain": [
       "<Figure size 1296x1080 with 6 Axes>"
      ]
     },
     "metadata": {
      "needs_background": "light"
     },
     "output_type": "display_data"
    }
   ],
   "source": [
    "df9_max = data_3max[data_3max.type_id==\"BAT\"]\n",
    "df10_max = data_3max[data_3max.type_id==\"GP_CO2\"]\n",
    "df11_max = data_3max[data_3max.type_id==\"GP_H2S\"]\n",
    "df12_max = data_3max[data_3max.type_id==\"HUMA\"]\n",
    "df13_max = data_3max[data_3max.type_id==\"PA\"]\n",
    "df14_max = data_3max[data_3max.type_id==\"TCA\"]\n",
    "\n",
    "\n",
    "plt.figure(figsize=(18,15))\n",
    "fig.suptitle('Vertically stacked subplots')\n",
    "plt.subplot(4,2,1)\n",
    "sns.barplot(x=\"Day\", y=\"value\", hue= \"type_id\", data=df9_max)\n",
    "plt.title('Maximum Daily Values for BAT Sensor in September')\n",
    "plt.subplot(4,2,2)\n",
    "sns.barplot(x=\"Day\", y=\"value\", hue= \"type_id\", data=df10_max)\n",
    "plt.title('Maximum Daily Values for GP_CO2 Sensor in September')\n",
    "plt.subplot(4,2,3)\n",
    "sns.barplot(x=\"Day\", y=\"value\", hue= \"type_id\", data=df11_max)\n",
    "plt.title('Maximum Daily Values for GP_H2S Sensor in September')\n",
    "plt.subplot(4,2,4)\n",
    "sns.barplot(x=\"Day\", y=\"value\", hue= \"type_id\", data=df12_max)\n",
    "plt.title('Maximum Daily Values for HUMA Sensor in September')\n",
    "plt.subplot(4,2,5)\n",
    "sns.barplot(x=\"Day\", y=\"value\", hue= \"type_id\", data=df13_max)\n",
    "plt.title('Maximum Daily Values for PA Sensor in September')\n",
    "plt.subplot(4,2,6)\n",
    "sns.barplot(x=\"Day\", y=\"value\", hue= \"type_id\", data=df14_max)\n",
    "plt.title('Maximum Daily Values for TCA Sensor in September')\n",
    "#plt.xticks(rotation=90)\n",
    "plt.subplots_adjust(wspace=0.1, hspace=0.5)\n",
    "plt.legend()"
   ]
  },
  {
   "cell_type": "code",
   "execution_count": 191,
   "metadata": {},
   "outputs": [
    {
     "data": {
      "text/plain": [
       "<matplotlib.legend.Legend at 0x7fa485d1fc90>"
      ]
     },
     "execution_count": 191,
     "metadata": {},
     "output_type": "execute_result"
    },
    {
     "data": {
      "image/png": "[encoded data removed]",
      "text/plain": [
       "<Figure size 1296x1080 with 6 Axes>"
      ]
     },
     "metadata": {
      "needs_background": "light"
     },
     "output_type": "display_data"
    }
   ],
   "source": [
    "df9_min = data_3min[data_3min.type_id==\"BAT\"]\n",
    "df10_min = data_3min[data_3min.type_id==\"GP_CO2\"]\n",
    "df11_min = data_3min[data_3min.type_id==\"GP_H2S\"]\n",
    "df12_min = data_3min[data_3min.type_id==\"HUMA\"]\n",
    "df13_min = data_3min[data_3min.type_id==\"PA\"]\n",
    "df14_min = data_3min[data_3min.type_id==\"TCA\"]\n",
    "\n",
    "\n",
    "plt.figure(figsize=(18,15))\n",
    "fig.suptitle('Vertically stacked subplots')\n",
    "plt.subplot(4,2,1)\n",
    "sns.barplot(x=\"Day\", y=\"value\", hue= \"type_id\", data=df9_min)\n",
    "plt.title('Minimum Daily Values for BAT Sensor in September')\n",
    "plt.subplot(4,2,2)\n",
    "sns.barplot(x=\"Day\", y=\"value\", hue= \"type_id\", data=df10_min)\n",
    "plt.title('Minimum Daily Values for GP_CO2 Sensor in September')\n",
    "plt.subplot(4,2,3)\n",
    "sns.barplot(x=\"Day\", y=\"value\", hue= \"type_id\", data=df11_min)\n",
    "plt.title('Minimum Daily Values for GP_H2S Sensor in September')\n",
    "plt.subplot(4,2,4)\n",
    "sns.barplot(x=\"Day\", y=\"value\", hue= \"type_id\", data=df12_min)\n",
    "plt.title('Minimum Daily Values for HUMA Sensor in September')\n",
    "plt.subplot(4,2,5)\n",
    "sns.barplot(x=\"Day\", y=\"value\", hue= \"type_id\", data=df13_min)\n",
    "plt.title('Minimum Daily Values for PA Sensor in September')\n",
    "plt.subplot(4,2,6)\n",
    "sns.barplot(x=\"Day\", y=\"value\", hue= \"type_id\", data=df14_min)\n",
    "plt.title('Minimum Daily Values for TCA Sensor in September')\n",
    "#plt.xticks(rotation=90)\n",
    "plt.subplots_adjust(wspace=0.1, hspace=0.5)\n",
    "plt.legend()"
   ]
  },
  {
   "cell_type": "markdown",
   "metadata": {},
   "source": [
    "## October Data"
   ]
  },
  {
   "cell_type": "code",
   "execution_count": 194,
   "metadata": {},
   "outputs": [
    {
     "data": {
      "text/html": [
       "<div>\n",
       "<style scoped>\n",
       "    .dataframe tbody tr th:only-of-type {\n",
       "        vertical-align: middle;\n",
       "    }\n",
       "\n",
       "    .dataframe tbody tr th {\n",
       "        vertical-align: top;\n",
       "    }\n",
       "\n",
       "    .dataframe thead th {\n",
       "        text-align: right;\n",
       "    }\n",
       "</style>\n",
       "<table border=\"1\" class=\"dataframe\">\n",
       "  <thead>\n",
       "    <tr style=\"text-align: right;\">\n",
       "      <th></th>\n",
       "      <th>id</th>\n",
       "      <th>value</th>\n",
       "      <th>timestamp</th>\n",
       "      <th>sensor_id</th>\n",
       "      <th>type</th>\n",
       "      <th>si_unit</th>\n",
       "      <th>type_id</th>\n",
       "      <th>data_frequency</th>\n",
       "      <th>name</th>\n",
       "      <th>Day</th>\n",
       "    </tr>\n",
       "  </thead>\n",
       "  <tbody>\n",
       "    <tr>\n",
       "      <td>149674</td>\n",
       "      <td>fc2bb6b0-879c-11e6-b4e7-fb610e712037</td>\n",
       "      <td>NaN</td>\n",
       "      <td>2016-10-01 00:01:27+00:00</td>\n",
       "      <td>763bbc90-8679-11e6-a353-2f6c041e2491</td>\n",
       "      <td>temperature</td>\n",
       "      <td>celcius</td>\n",
       "      <td>TCA</td>\n",
       "      <td>1800000</td>\n",
       "      <td>N7</td>\n",
       "      <td>1</td>\n",
       "    </tr>\n",
       "    <tr>\n",
       "      <td>149675</td>\n",
       "      <td>fc2c52f0-879c-11e6-b4e7-fb610e712037</td>\n",
       "      <td>NaN</td>\n",
       "      <td>2016-10-01 00:01:27+00:00</td>\n",
       "      <td>76402960-8679-11e6-a353-2f6c041e2491</td>\n",
       "      <td>humidity</td>\n",
       "      <td>relative humidity</td>\n",
       "      <td>HUMA</td>\n",
       "      <td>1800000</td>\n",
       "      <td>N7</td>\n",
       "      <td>1</td>\n",
       "    </tr>\n",
       "    <tr>\n",
       "      <td>149676</td>\n",
       "      <td>451ef210-879d-11e6-b4e7-fb610e712037</td>\n",
       "      <td>NaN</td>\n",
       "      <td>2016-10-01 00:03:19+00:00</td>\n",
       "      <td>d3d3b291-8679-11e6-a353-2f6c041e2491</td>\n",
       "      <td>carbon dioxide concentration</td>\n",
       "      <td>ppm</td>\n",
       "      <td>GP_CO2</td>\n",
       "      <td>1800000</td>\n",
       "      <td>N5</td>\n",
       "      <td>1</td>\n",
       "    </tr>\n",
       "    <tr>\n",
       "      <td>149677</td>\n",
       "      <td>45218a20-879d-11e6-b4e7-fb610e712037</td>\n",
       "      <td>NaN</td>\n",
       "      <td>2016-10-01 00:03:19+00:00</td>\n",
       "      <td>d3d56040-8679-11e6-a353-2f6c041e2491</td>\n",
       "      <td>pressure</td>\n",
       "      <td>pascal</td>\n",
       "      <td>PA</td>\n",
       "      <td>1800000</td>\n",
       "      <td>N5</td>\n",
       "      <td>1</td>\n",
       "    </tr>\n",
       "    <tr>\n",
       "      <td>149678</td>\n",
       "      <td>575f56e0-879d-11e6-b4e7-fb610e712037</td>\n",
       "      <td>NaN</td>\n",
       "      <td>2016-10-01 00:05:00+00:00</td>\n",
       "      <td>763701a0-8679-11e6-a353-2f6c041e2491</td>\n",
       "      <td>hydrogen sulfide concentration</td>\n",
       "      <td>ppm</td>\n",
       "      <td>GP_H2S</td>\n",
       "      <td>1800000</td>\n",
       "      <td>N7</td>\n",
       "      <td>1</td>\n",
       "    </tr>\n",
       "  </tbody>\n",
       "</table>\n",
       "</div>"
      ],
      "text/plain": [
       "                                          id  value                 timestamp  \\\n",
       "149674  fc2bb6b0-879c-11e6-b4e7-fb610e712037    NaN 2016-10-01 00:01:27+00:00   \n",
       "149675  fc2c52f0-879c-11e6-b4e7-fb610e712037    NaN 2016-10-01 00:01:27+00:00   \n",
       "149676  451ef210-879d-11e6-b4e7-fb610e712037    NaN 2016-10-01 00:03:19+00:00   \n",
       "149677  45218a20-879d-11e6-b4e7-fb610e712037    NaN 2016-10-01 00:03:19+00:00   \n",
       "149678  575f56e0-879d-11e6-b4e7-fb610e712037    NaN 2016-10-01 00:05:00+00:00   \n",
       "\n",
       "                                   sensor_id                            type  \\\n",
       "149674  763bbc90-8679-11e6-a353-2f6c041e2491                     temperature   \n",
       "149675  76402960-8679-11e6-a353-2f6c041e2491                        humidity   \n",
       "149676  d3d3b291-8679-11e6-a353-2f6c041e2491    carbon dioxide concentration   \n",
       "149677  d3d56040-8679-11e6-a353-2f6c041e2491                        pressure   \n",
       "149678  763701a0-8679-11e6-a353-2f6c041e2491  hydrogen sulfide concentration   \n",
       "\n",
       "                  si_unit type_id  data_frequency name  Day  \n",
       "149674            celcius     TCA         1800000   N7    1  \n",
       "149675  relative humidity    HUMA         1800000   N7    1  \n",
       "149676                ppm  GP_CO2         1800000   N5    1  \n",
       "149677             pascal      PA         1800000   N5    1  \n",
       "149678                ppm  GP_H2S         1800000   N7    1  "
      ]
     },
     "execution_count": 194,
     "metadata": {},
     "output_type": "execute_result"
    }
   ],
   "source": [
    "data_4 = sensor_group.get_group(10)\n",
    "data_4.head()"
   ]
  },
  {
   "cell_type": "code",
   "execution_count": 195,
   "metadata": {},
   "outputs": [],
   "source": [
    "data_4mean = data_4.groupby([\"Day\", \"type_id\"], as_index=False)[\"value\"].mean()\n",
    "data_4max = data_4.groupby([\"Day\", \"type_id\"], as_index=False)[\"value\"].max()\n",
    "data_4min = data_4.groupby([\"Day\", \"type_id\"], as_index=False)[\"value\"].min()"
   ]
  },
  {
   "cell_type": "code",
   "execution_count": 201,
   "metadata": {},
   "outputs": [],
   "source": [
    "#data_4.head()"
   ]
  },
  {
   "cell_type": "code",
   "execution_count": 196,
   "metadata": {},
   "outputs": [
    {
     "data": {
      "text/plain": [
       "6"
      ]
     },
     "execution_count": 196,
     "metadata": {},
     "output_type": "execute_result"
    }
   ],
   "source": [
    "data_4['type_id'].nunique()"
   ]
  },
  {
   "cell_type": "code",
   "execution_count": 202,
   "metadata": {},
   "outputs": [
    {
     "data": {
      "text/plain": [
       "<matplotlib.legend.Legend at 0x7fa4867426d0>"
      ]
     },
     "execution_count": 202,
     "metadata": {},
     "output_type": "execute_result"
    },
    {
     "data": {
      "image/png": "[encoded data removed]",
      "text/plain": [
       "<Figure size 1296x1080 with 6 Axes>"
      ]
     },
     "metadata": {
      "needs_background": "light"
     },
     "output_type": "display_data"
    }
   ],
   "source": [
    "df16 = data_4mean[data_4mean.type_id==\"BAT\"]\n",
    "df17 = data_4mean[data_4mean.type_id==\"GP_CO2\"]\n",
    "df18 = data_4mean[data_4mean.type_id==\"GP_H2S\"]\n",
    "df19 = data_4mean[data_4mean.type_id==\"HUMA\"]\n",
    "df20 = data_4mean[data_4mean.type_id==\"PA\"]\n",
    "df21 = data_4mean[data_4mean.type_id==\"TCA\"]\n",
    "\n",
    "plt.figure(figsize=(18,15))\n",
    "fig.suptitle('Vertically stacked subplots')\n",
    "plt.subplot(4,2,1)\n",
    "sns.barplot(x=\"Day\", y=\"value\", hue= \"type_id\", data=df16)\n",
    "plt.title('Average Daily Values for BAT Sensor in October')\n",
    "plt.subplot(4,2,2)\n",
    "sns.barplot(x=\"Day\", y=\"value\", hue= \"type_id\", data=df17)\n",
    "plt.title('Average Daily Values for GP_CO2 Sensor in October')\n",
    "plt.subplot(4,2,3)\n",
    "sns.barplot(x=\"Day\", y=\"value\", hue= \"type_id\", data=df18)\n",
    "plt.title('Average Daily Values for GP_H2S Sensor in October')\n",
    "plt.subplot(4,2,4)\n",
    "sns.barplot(x=\"Day\", y=\"value\", hue= \"type_id\", data=df19)\n",
    "plt.title('Average Daily Values for HUMA Sensor in October')\n",
    "plt.subplot(4,2,5)\n",
    "sns.barplot(x=\"Day\", y=\"value\", hue= \"type_id\", data=df20)\n",
    "plt.title('Average Daily Values for PA Sensor in October')\n",
    "plt.subplot(4,2,6)\n",
    "sns.barplot(x=\"Day\", y=\"value\", hue= \"type_id\", data=df21)\n",
    "plt.title('Average Daily Values for TCA Sensor in October')\n",
    "#plt.xticks(rotation=90)\n",
    "plt.subplots_adjust(wspace=0.1, hspace=0.5)\n",
    "plt.legend()\n"
   ]
  },
  {
   "cell_type": "code",
   "execution_count": 203,
   "metadata": {},
   "outputs": [
    {
     "data": {
      "text/plain": [
       "<matplotlib.legend.Legend at 0x7fa486d43f90>"
      ]
     },
     "execution_count": 203,
     "metadata": {},
     "output_type": "execute_result"
    },
    {
     "data": {
      "image/png": "[encoded data removed]",
      "text/plain": [
       "<Figure size 1296x1080 with 6 Axes>"
      ]
     },
     "metadata": {
      "needs_background": "light"
     },
     "output_type": "display_data"
    }
   ],
   "source": [
    "df16_max = data_4max[data_4max.type_id==\"BAT\"]\n",
    "df17_max = data_4max[data_4max.type_id==\"GP_CO2\"]\n",
    "df18_max = data_4max[data_4max.type_id==\"GP_H2S\"]\n",
    "df19_max = data_4max[data_4max.type_id==\"HUMA\"]\n",
    "df20_max = data_4max[data_4max.type_id==\"PA\"]\n",
    "df21_max = data_4max[data_4max.type_id==\"TCA\"]\n",
    "\n",
    "plt.figure(figsize=(18,15))\n",
    "fig.suptitle('Vertically stacked subplots')\n",
    "plt.subplot(4,2,1)\n",
    "sns.barplot(x=\"Day\", y=\"value\", hue= \"type_id\", data=df16_max)\n",
    "plt.title('Average Daily Values for BAT Sensor in October')\n",
    "plt.subplot(4,2,2)\n",
    "sns.barplot(x=\"Day\", y=\"value\", hue= \"type_id\", data=df17_max)\n",
    "plt.title('Average Daily Values for GP_CO2 Sensor in October')\n",
    "plt.subplot(4,2,3)\n",
    "sns.barplot(x=\"Day\", y=\"value\", hue= \"type_id\", data=df18_max)\n",
    "plt.title('Average Daily Values for GP_H2S Sensor in October')\n",
    "plt.subplot(4,2,4)\n",
    "sns.barplot(x=\"Day\", y=\"value\", hue= \"type_id\", data=df19_max)\n",
    "plt.title('Average Daily Values for HUMA Sensor in October')\n",
    "plt.subplot(4,2,5)\n",
    "sns.barplot(x=\"Day\", y=\"value\", hue= \"type_id\", data=df20_max)\n",
    "plt.title('Average Daily Values for PA Sensor in October')\n",
    "plt.subplot(4,2,6)\n",
    "sns.barplot(x=\"Day\", y=\"value\", hue= \"type_id\", data=df21_max)\n",
    "plt.title('Average Daily Values for TCA Sensor in October')\n",
    "#plt.xticks(rotation=90)\n",
    "plt.subplots_adjust(wspace=0.1, hspace=0.5)\n",
    "plt.legend()"
   ]
  },
  {
   "cell_type": "code",
   "execution_count": 204,
   "metadata": {},
   "outputs": [
    {
     "data": {
      "text/plain": [
       "<matplotlib.legend.Legend at 0x7fa4873f75d0>"
      ]
     },
     "execution_count": 204,
     "metadata": {},
     "output_type": "execute_result"
    },
    {
     "data": {
      "image/png": "[encoded data removed]",
      "text/plain": [
       "<Figure size 1296x1080 with 6 Axes>"
      ]
     },
     "metadata": {
      "needs_background": "light"
     },
     "output_type": "display_data"
    }
   ],
   "source": [
    "df16_min = data_4min[data_4min.type_id==\"BAT\"]\n",
    "df17_min = data_4min[data_4min.type_id==\"GP_CO2\"]\n",
    "df18_min = data_4min[data_4min.type_id==\"GP_H2S\"]\n",
    "df19_min = data_4min[data_4min.type_id==\"HUMA\"]\n",
    "df20_min = data_4min[data_4min.type_id==\"PA\"]\n",
    "df21_min = data_4min[data_4min.type_id==\"TCA\"]\n",
    "\n",
    "plt.figure(figsize=(18,15))\n",
    "fig.suptitle('Vertically stacked subplots')\n",
    "plt.subplot(4,2,1)\n",
    "sns.barplot(x=\"Day\", y=\"value\", hue= \"type_id\", data=df16_min)\n",
    "plt.title('Average Daily Values for BAT Sensor in October')\n",
    "plt.subplot(4,2,2)\n",
    "sns.barplot(x=\"Day\", y=\"value\", hue= \"type_id\", data=df17_min)\n",
    "plt.title('Average Daily Values for GP_CO2 Sensor in October')\n",
    "plt.subplot(4,2,3)\n",
    "sns.barplot(x=\"Day\", y=\"value\", hue= \"type_id\", data=df18_min)\n",
    "plt.title('Average Daily Values for GP_H2S Sensor in October')\n",
    "plt.subplot(4,2,4)\n",
    "sns.barplot(x=\"Day\", y=\"value\", hue= \"type_id\", data=df19_min)\n",
    "plt.title('Average Daily Values for HUMA Sensor in October')\n",
    "plt.subplot(4,2,5)\n",
    "sns.barplot(x=\"Day\", y=\"value\", hue= \"type_id\", data=df20_min)\n",
    "plt.title('Average Daily Values for PA Sensor in October')\n",
    "plt.subplot(4,2,6)\n",
    "sns.barplot(x=\"Day\", y=\"value\", hue= \"type_id\", data=df21_min)\n",
    "plt.title('Average Daily Values for TCA Sensor in October')\n",
    "#plt.xticks(rotation=90)\n",
    "plt.subplots_adjust(wspace=0.1, hspace=0.5)\n",
    "plt.legend()"
   ]
  },
  {
   "cell_type": "code",
   "execution_count": null,
   "metadata": {},
   "outputs": [],
   "source": [
    "#data_s.mean().sort_values('se',ascending=False)"
   ]
  },
  {
   "cell_type": "code",
   "execution_count": null,
   "metadata": {},
   "outputs": [],
   "source": [
    "#cust = merged_data.groupby('sens')\n",
    "# data_1 = sensor_group.get_group(\"7635c920-8679-11e6-a353-2f6c041e2491\")\n",
    "# cust = cust.mean().sort_values('value',ascending=False)\n",
    "# cust.shape"
   ]
  },
  {
   "cell_type": "code",
   "execution_count": null,
   "metadata": {},
   "outputs": [],
   "source": [
    "# plt.figure(figsize=(25,5))\n",
    "# sns.barplot(x=cust.index, y=cust['value'])\n",
    "# plt.xticks(rotation=90)\n",
    "# plt.title('Battery Sensor')"
   ]
  },
  {
   "cell_type": "code",
   "execution_count": null,
   "metadata": {},
   "outputs": [],
   "source": [
    "#cust = sensor_group.mean().sort_values('value',ascending=True)"
   ]
  },
  {
   "cell_type": "code",
   "execution_count": null,
   "metadata": {},
   "outputs": [],
   "source": [
    "#cust"
   ]
  },
  {
   "cell_type": "code",
   "execution_count": null,
   "metadata": {},
   "outputs": [],
   "source": [
    "# plt.figure(figsize=(25,5))\n",
    "# sns.barplot(x=cust.index, y=cust['value'])\n",
    "# plt.xticks(rotation=90)\n",
    "# plt.title('Account with highest balance')"
   ]
  },
  {
   "cell_type": "code",
   "execution_count": null,
   "metadata": {},
   "outputs": [],
   "source": [
    "#sensor_group.first()"
   ]
  },
  {
   "cell_type": "code",
   "execution_count": null,
   "metadata": {},
   "outputs": [],
   "source": [
    "#daily = merged_data[merged_data.type_id=='HUMA']['value'].resample('D')"
   ]
  },
  {
   "cell_type": "markdown",
   "metadata": {},
   "source": [
    "### 6.0 Correlations Analysis\n",
    "\n",
    "The next task is to perform a correlation analysis. \n",
    "\n",
    "1.  Goal: We want to find all the sensors that are strongly correlated to each other.\n",
    "2. One of the reasons for doing this is that if two (or more) sensors are very highly correlated, we only need to keep one out of each correlated set. (This reduces the problem size and also takes care of colinearlity-related unstability in certain calculations.)"
   ]
  },
  {
   "cell_type": "markdown",
   "metadata": {},
   "source": [
    "The Correlation heatmap that we are looking for should be along the following lines:\n",
    "\n",
    "\n",
    "<img src = \"images/Corr_plot.JPG\" width=450>"
   ]
  },
  {
   "cell_type": "markdown",
   "metadata": {},
   "source": [
    "First, look for correlations visually. \n",
    "\n",
    "**Subtask: Plot all the sensors values (of one type) over time.**"
   ]
  },
  {
   "cell_type": "markdown",
   "metadata": {},
   "source": [
    "Sub task: Identify all the temperature sensors in the data set. Hint: These are the ones that have the string 'TCA' in their name id's"
   ]
  },
  {
   "cell_type": "code",
   "execution_count": 207,
   "metadata": {},
   "outputs": [
    {
     "data": {
      "text/plain": [
       "<matplotlib.axes._subplots.AxesSubplot at 0x7fa487610690>"
      ]
     },
     "execution_count": 207,
     "metadata": {},
     "output_type": "execute_result"
    },
    {
     "data": {
      "image/png": "[encoded data removed]",
      "text/plain": [
       "<Figure size 1440x720 with 1 Axes>"
      ]
     },
     "metadata": {
      "needs_background": "light"
     },
     "output_type": "display_data"
    }
   ],
   "source": [
    "criteria = merged_data.type_id == 'TCA'\n",
    "plt.figure(figsize=(20,10))\n",
    "merged_data[criteria]['value'].plot()"
   ]
  },
  {
   "cell_type": "code",
   "execution_count": null,
   "metadata": {},
   "outputs": [],
   "source": [
    "temp_sensors = [s for s in s2[s2.type_id =='TCA']['id_x']]\n",
    "temperature_senors = [s for t,s in zip(s2['type_id'], s2['id_x']) if t=='TCA'] # alternative way"
   ]
  },
  {
   "cell_type": "markdown",
   "metadata": {},
   "source": [
    "** Using Pandas to plot all the temperature sensors on one single plot. **\n",
    "\n",
    "- Use pandas to loop over each temperature sensor, and plot them one at a time.\n",
    "- Hint: Use the following trick to do this is to plot one line at a time, over and over in a loop"
   ]
  },
  {
   "cell_type": "code",
   "execution_count": null,
   "metadata": {},
   "outputs": [],
   "source": [
    "plt.figure(figsize=(20,5))\n",
    "\n",
    "for s in temp_sensors:\n",
    "    #print(s)\n",
    "    sub_df = full[full['sensor_id']==s]\n",
    "    plt.plot(sub_df.index, sub_df['value'], '.')\n",
    "    "
   ]
  },
  {
   "cell_type": "markdown",
   "metadata": {},
   "source": [
    "This plot is fine, but all the lines are too close together. We cannot see how each sensor is behaving. For that, we can try drawing \"Subplots.\" In these plots, each sensor gets its own plot (called a 'panel')."
   ]
  },
  {
   "cell_type": "markdown",
   "metadata": {},
   "source": [
    "**Creating Subplots - Each sensor gets its own panel**"
   ]
  },
  {
   "cell_type": "code",
   "execution_count": null,
   "metadata": {},
   "outputs": [],
   "source": [
    "fig, axarr = plt.subplots(10, sharex=True)\n",
    "fig.set_size_inches(20,30) \n",
    "\n",
    "plt.figure(figsize=(20,20))\n",
    "for i,s in enumerate(temp_sensors):\n",
    "    sub_df = full[full['sensor_id']==s]\n",
    "    axarr[i].plot(sub_df.index, sub_df['value'], '.')\n",
    "    "
   ]
  },
  {
   "cell_type": "markdown",
   "metadata": {},
   "source": [
    "**Task: Creating a reshaped Data Frame of just Temperature sensors**\n",
    "\n",
    "For this, we are going to have each column be 1 sensor... from 1 to 10. The rows will be timestamps, as before.\n",
    "\n",
    "Hint: pd.pivot() is perfect for this task."
   ]
  },
  {
   "cell_type": "code",
   "execution_count": null,
   "metadata": {},
   "outputs": [],
   "source": [
    "# df.pivot(index='patient', columns='obs', values='score')"
   ]
  },
  {
   "cell_type": "code",
   "execution_count": null,
   "metadata": {},
   "outputs": [],
   "source": [
    "temp_df = full[full['sensor_id'].isin(temp_sensors)]\n",
    "del temp_df['timestamp']\n",
    "temp_df = temp_df.reset_index()\n",
    "temp_df.pivot(columns='sensor_id', values='value')\n",
    "\n"
   ]
  },
  {
   "cell_type": "markdown",
   "metadata": {},
   "source": [
    "Since this is a real sensor data set, there are some time stamps and sensor_id's that are repeating. (Unfortunately, this happens often in real data sets.)\n",
    "\n",
    "**Task: Find all rows with the same [Timestamp, Sensor_id] and delete them **"
   ]
  },
  {
   "cell_type": "markdown",
   "metadata": {},
   "source": [
    "**Here's a clever way to find out all the duplicated rows.**\n",
    "\n",
    "Some Timestamp and sensor_id are repeating. That causes Indexing problems."
   ]
  },
  {
   "cell_type": "code",
   "execution_count": null,
   "metadata": {},
   "outputs": [],
   "source": [
    "#pd.concat(g for _, g in df.groupby(\"ID\") if len(g) > 1)\n",
    "pd.concat(g for _, g in temp_df.groupby(['timestamp', 'sensor_id']) if len(g) > 1)"
   ]
  },
  {
   "cell_type": "markdown",
   "metadata": {},
   "source": [
    "**Task: Drop all the rows where timestamp and sensor_id are duplicated**"
   ]
  },
  {
   "cell_type": "code",
   "execution_count": null,
   "metadata": {},
   "outputs": [],
   "source": [
    "tdf = temp_df.drop_duplicates(subset = ['timestamp', 'sensor_id'], keep='first')\n",
    "# Hint: Look at https://segment.com/blog/5-advanced-testing-techniques-in-go/"
   ]
  },
  {
   "cell_type": "code",
   "execution_count": null,
   "metadata": {},
   "outputs": [],
   "source": [
    "#temp_df_cor = tdf.pivot(index='timestamp', columns='sensor_id', values='value')\n"
   ]
  },
  {
   "cell_type": "code",
   "execution_count": null,
   "metadata": {},
   "outputs": [],
   "source": [
    "#daily_temp_cor_df = temp_df_cor.resample('D').mean()"
   ]
  },
  {
   "cell_type": "markdown",
   "metadata": {},
   "source": [
    "Now, we are finally ready to calculate the correlations across sensor values. Hint: `Use corr()`"
   ]
  },
  {
   "cell_type": "code",
   "execution_count": null,
   "metadata": {},
   "outputs": [],
   "source": [
    "#corr_df = daily_temp_cor_df.corr()"
   ]
  },
  {
   "cell_type": "code",
   "execution_count": null,
   "metadata": {},
   "outputs": [],
   "source": [
    "# Create a mask to display only the lower triangle of the matrix (since it's mirrored around its \n",
    "# top-left to bottom-right diagonal).\n",
    "mask = np.zeros_like(corr_df)\n",
    "mask[np.triu_indices_from(mask)] = True\n"
   ]
  },
  {
   "cell_type": "code",
   "execution_count": null,
   "metadata": {},
   "outputs": [],
   "source": [
    "# Create the heatmap using seaborn library. \n",
    "# List if colormaps (parameter 'cmap') is available here: http://matplotlib.org/examples/color/colormaps_reference.html\n",
    "sns.heatmap(corr_df, cmap='RdYlGn_r', vmax=1.0, vmin=-1.0 , mask = mask, linewidths=2.5)\n",
    " \n",
    "# Show the plot we reorient the labels for each column and row to make them easier to read.\n",
    "plt.yticks(rotation=0) \n",
    "plt.xticks(rotation=90) \n",
    "plt.show()"
   ]
  },
  {
   "cell_type": "code",
   "execution_count": null,
   "metadata": {},
   "outputs": [],
   "source": [
    "full2 = full.drop_duplicates(subset = ['timestamp', 'sensor_id'], keep='first')"
   ]
  },
  {
   "cell_type": "code",
   "execution_count": null,
   "metadata": {},
   "outputs": [],
   "source": [
    "full_wide = full2.pivot(index='timestamp', columns='sensor_id', values='value')\n"
   ]
  },
  {
   "cell_type": "code",
   "execution_count": null,
   "metadata": {},
   "outputs": [],
   "source": [
    "daily_all_sensors = full_wide.resample('D').mean()"
   ]
  },
  {
   "cell_type": "code",
   "execution_count": null,
   "metadata": {},
   "outputs": [],
   "source": [
    "daily_all_sensors"
   ]
  },
  {
   "cell_type": "markdown",
   "metadata": {},
   "source": [
    "**Trying to building a Linear Model**\n",
    "\n",
    "In order to do that, we first need to create a data frame with the columns representing only those sensors for ONE NODE.\n",
    "\n",
    "Try to see if pd.pivot() can help with grouping Nodes together"
   ]
  },
  {
   "cell_type": "code",
   "execution_count": null,
   "metadata": {},
   "outputs": [],
   "source": [
    "nodes.name # so we have 10 \"nodes\" with 6 sensors each. [T, Pr, HUMA, PPM , PPM2, BATT]"
   ]
  },
  {
   "cell_type": "code",
   "execution_count": null,
   "metadata": {},
   "outputs": [],
   "source": [
    "fullnode = pd.merge(full, nodes, left_on='node_id', right_on='id')"
   ]
  },
  {
   "cell_type": "code",
   "execution_count": null,
   "metadata": {},
   "outputs": [],
   "source": [
    "fullnode.columns, fullnode.index"
   ]
  },
  {
   "cell_type": "code",
   "execution_count": null,
   "metadata": {},
   "outputs": [],
   "source": [
    "fullnode.set_index('timestamp', inplace=True)"
   ]
  },
  {
   "cell_type": "code",
   "execution_count": null,
   "metadata": {},
   "outputs": [],
   "source": [
    "fullnode.resample('D').mean()"
   ]
  },
  {
   "cell_type": "code",
   "execution_count": null,
   "metadata": {},
   "outputs": [],
   "source": [
    "# fullnode.pivot_table(index=['timestamp', 'name'], columns='type', values='value')\n",
    "fn_wide = fullnode.pivot_table(index=['timestamp','name'], columns=['type'], values='value')\n"
   ]
  },
  {
   "cell_type": "code",
   "execution_count": null,
   "metadata": {},
   "outputs": [],
   "source": [
    "#Now, let's make the Node ('name') into its own column. We do this by reset_index() for that level (=1)\n",
    "fn_wide.reset_index(level=1, inplace=True)"
   ]
  },
  {
   "cell_type": "code",
   "execution_count": null,
   "metadata": {},
   "outputs": [],
   "source": [
    "fn_wide.head()"
   ]
  },
  {
   "cell_type": "markdown",
   "metadata": {},
   "source": [
    "Before we can perform Linear Regression, we have one last step remaining. We'd like to \"resample\" all the data, aggregating it down to 'Daily' Levels."
   ]
  },
  {
   "cell_type": "code",
   "execution_count": null,
   "metadata": {},
   "outputs": [],
   "source": [
    "lmfn = fn_wide.resample('D').mean()"
   ]
  },
  {
   "cell_type": "code",
   "execution_count": null,
   "metadata": {},
   "outputs": [],
   "source": [
    "lmfn.shape"
   ]
  },
  {
   "cell_type": "markdown",
   "metadata": {},
   "source": [
    "### End of Stitching. \n",
    "\n",
    "**The Digital Thread for this dataset has been created**\n",
    "\n",
    "This \"digital Thread\" has been used to 'stitch' the data frame with all the values we wish to analyze.\n",
    "\n",
    "---\n",
    "Now we finally have the data frame in the shape we wanted to enable Linear Regression.\n",
    "\n",
    "### 8.0 Sample Modeling"
   ]
  },
  {
   "cell_type": "markdown",
   "metadata": {},
   "source": [
    "**8.1 Building A Battery Remaining-Life prediction model **\n",
    "Build a machine learning model (LR, tree-based or any other) to try and predict the Battery life (remaining) as a function of any of the other sensor characteristic.\n",
    "\n",
    "* Which variable (sensor) is a good predictor of battery life?\n",
    "* Is your linear regression a \"good fit?\"\n",
    "* What it the RMSE of your predicted values?"
   ]
  },
  {
   "cell_type": "code",
   "execution_count": null,
   "metadata": {},
   "outputs": [],
   "source": [
    "#==============================================================================\n",
    "# Supervised learning linear regression\n",
    "#==============================================================================\n",
    "\n",
    "from sklearn import linear_model\n",
    "\n",
    "# Split the data into training/testing sets\n",
    "train = lmfn[:-30]\n",
    "test = lmfn[-30:]"
   ]
  },
  {
   "cell_type": "code",
   "execution_count": null,
   "metadata": {},
   "outputs": [],
   "source": [
    "train.columns"
   ]
  },
  {
   "cell_type": "code",
   "execution_count": null,
   "metadata": {},
   "outputs": [],
   "source": [
    "target, predictors = 'battery', 'temperature'\n",
    "\n",
    "x_train=train[predictors].to_frame() #converts the pandas Series to numpy.ndarray\n",
    "y_train=train[target].to_frame()\n",
    "x_test=test[predictors].to_frame() #converts the pandas Series to numpy.ndarray\n",
    "y_test=test[target].to_frame()"
   ]
  },
  {
   "cell_type": "code",
   "execution_count": null,
   "metadata": {},
   "outputs": [],
   "source": [
    "# 2.- Create linear regression object\n",
    "regr = linear_model.LinearRegression()\n",
    "\n",
    "# 3.- Train the model using the training sets\n",
    "regr.fit(x_train,y_train)\n",
    "\n",
    "# The coefficients\n",
    "print(\"Coefficients: \",  float(regr.coef_))\n",
    "# The mean squared error\n",
    "print(\"Mean squared error: %.2f\"\n",
    "      % np.mean((regr.predict(x_train) - y_train) ** 2))"
   ]
  },
  {
   "cell_type": "code",
   "execution_count": null,
   "metadata": {},
   "outputs": [],
   "source": []
  }
 ],
 "metadata": {
  "kernelspec": {
   "display_name": "Python 3",
   "language": "python",
   "name": "python3"
  },
  "language_info": {
   "codemirror_mode": {
    "name": "ipython",
    "version": 3
   },
   "file_extension": ".py",
   "mimetype": "text/x-python",
   "name": "python",
   "nbconvert_exporter": "python",
   "pygments_lexer": "ipython3",
   "version": "3.7.4"
  }
 },
 "nbformat": 4,
 "nbformat_minor": 2
}
