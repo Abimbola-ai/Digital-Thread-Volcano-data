{
 "cells": [
  {
   "cell_type": "markdown",
   "metadata": {},
   "source": [
    "# Digital For Industrial Summative - Part 1\n",
    " \n",
    "## Creating A Digital Thread\n"
   ]
  },
  {
   "cell_type": "markdown",
   "metadata": {},
   "source": [
    "A Digital Thread is the one unifying theme or characteristic that connects every aspect of an asset or unit, right from its inception and design, to manufacture, deployment, operations, maintenance to eventual retirement.\n",
    "\n",
    "In analysis, a digital thread is the logical with which we bind and merge the various data sources into one whole, so that it lends itself to quantitative approaches easily.\n",
    "\n",
    "<img src = 'images/Digital_Thread.JPG' width=500>\n"
   ]
  },
  {
   "cell_type": "markdown",
   "metadata": {},
   "source": [
    "A digital thread is a technique to 'stitch' the data that comes in disjoint tables, such that they can be put together logically. That is a task for this exercise."
   ]
  },
  {
   "cell_type": "markdown",
   "metadata": {},
   "source": [
    "Data sets provided:\n",
    "\n",
    "We have been give 5 data sets, all of which related to one month's worth of readings taken at a live volcano site. The volcano was instrumented with multiple sensors in 10 different geographical points (nodes). Our goal is to combine and merge all of this into one digital thread, making it amenable for analysis.\n",
    "\n",
    "Tasks:\n",
    "\n",
    "    1.0 Read all the needed input files\n",
    "    2.0 Plotting Sensor Time Series\n",
    "    3.0 Descriptive Analysis One data frame at a time \n",
    "    4.0 Creating a Digital Thread from the data sets\n",
    "    5.0 Time Series based analysis\n",
    "    6.0 Correlations Analysis\n",
    "    7.0 Data Manipulations to Merge multiple data sets\n",
    "    8.0 Building A Battery Remaining-Life prediction model"
   ]
  },
  {
   "cell_type": "code",
   "execution_count": 1,
   "metadata": {
    "slideshow": {
     "slide_type": "slide"
    }
   },
   "outputs": [],
   "source": [
    "import numpy as np\n",
    "import pandas as pd\n",
    "import seaborn as sns\n",
    "from datetime import datetime\n",
    "import os\n",
    "\n",
    "# For plot\n",
    "import matplotlib.pyplot as plt\n",
    "from pandas.plotting import autocorrelation_plot\n",
    "\n",
    "from matplotlib.pylab import rcParams\n",
    "rcParams['figure.figsize'] = 12, 6\n",
    "%matplotlib inline"
   ]
  },
  {
   "cell_type": "markdown",
   "metadata": {},
   "source": [
    "### 1.0 Read all the needed input files"
   ]
  },
  {
   "cell_type": "markdown",
   "metadata": {},
   "source": [
    "Create multiple data frames, one to hold each data table."
   ]
  },
  {
   "cell_type": "markdown",
   "metadata": {},
   "source": [
    "Convert all Data frame time stamps into date-time format, so that time-based indexing is possible"
   ]
  },
  {
   "cell_type": "code",
   "execution_count": 2,
   "metadata": {},
   "outputs": [],
   "source": [
    "# Import all csv data\n",
    "datatypes = pd.read_csv('datatypes.csv')\n",
    "nodes = pd.read_csv('nodes.csv')\n",
    "sensors = pd.read_csv('sensors.csv')\n",
    "volcanos = pd.read_csv('volcanos.csv')\n",
    "datapoints = pd.read_csv('datapoints.csv')"
   ]
  },
  {
   "cell_type": "code",
   "execution_count": 3,
   "metadata": {},
   "outputs": [],
   "source": [
    "## Exploratory Data Ananlysis"
   ]
  },
  {
   "cell_type": "code",
   "execution_count": 4,
   "metadata": {},
   "outputs": [
    {
     "data": {
      "text/html": [
       "<div>\n",
       "<style scoped>\n",
       "    .dataframe tbody tr th:only-of-type {\n",
       "        vertical-align: middle;\n",
       "    }\n",
       "\n",
       "    .dataframe tbody tr th {\n",
       "        vertical-align: top;\n",
       "    }\n",
       "\n",
       "    .dataframe thead th {\n",
       "        text-align: right;\n",
       "    }\n",
       "</style>\n",
       "<table border=\"1\" class=\"dataframe\">\n",
       "  <thead>\n",
       "    <tr style=\"text-align: right;\">\n",
       "      <th></th>\n",
       "      <th>id</th>\n",
       "      <th>type</th>\n",
       "      <th>si_unit</th>\n",
       "      <th>type_id</th>\n",
       "    </tr>\n",
       "  </thead>\n",
       "  <tbody>\n",
       "    <tr>\n",
       "      <td>0</td>\n",
       "      <td>35dcb3c0-8679-11e6-bda3-ef77801087ee</td>\n",
       "      <td>temperature</td>\n",
       "      <td>celcius</td>\n",
       "      <td>TCA</td>\n",
       "    </tr>\n",
       "    <tr>\n",
       "      <td>1</td>\n",
       "      <td>35dcb3c1-8679-11e6-bda3-ef77801087ee</td>\n",
       "      <td>pressure</td>\n",
       "      <td>pascal</td>\n",
       "      <td>PA</td>\n",
       "    </tr>\n",
       "    <tr>\n",
       "      <td>2</td>\n",
       "      <td>35dcb3c2-8679-11e6-bda3-ef77801087ee</td>\n",
       "      <td>humidity</td>\n",
       "      <td>relative humidity</td>\n",
       "      <td>HUMA</td>\n",
       "    </tr>\n",
       "    <tr>\n",
       "      <td>3</td>\n",
       "      <td>35dcdad0-8679-11e6-bda3-ef77801087ee</td>\n",
       "      <td>carbon dioxide concentration</td>\n",
       "      <td>ppm</td>\n",
       "      <td>GP_CO2</td>\n",
       "    </tr>\n",
       "    <tr>\n",
       "      <td>4</td>\n",
       "      <td>35dcdad1-8679-11e6-bda3-ef77801087ee</td>\n",
       "      <td>hydrogen sulfide concentration</td>\n",
       "      <td>ppm</td>\n",
       "      <td>GP_H2S</td>\n",
       "    </tr>\n",
       "  </tbody>\n",
       "</table>\n",
       "</div>"
      ],
      "text/plain": [
       "                                     id                            type  \\\n",
       "0  35dcb3c0-8679-11e6-bda3-ef77801087ee                     temperature   \n",
       "1  35dcb3c1-8679-11e6-bda3-ef77801087ee                        pressure   \n",
       "2  35dcb3c2-8679-11e6-bda3-ef77801087ee                        humidity   \n",
       "3  35dcdad0-8679-11e6-bda3-ef77801087ee    carbon dioxide concentration   \n",
       "4  35dcdad1-8679-11e6-bda3-ef77801087ee  hydrogen sulfide concentration   \n",
       "\n",
       "             si_unit type_id  \n",
       "0            celcius     TCA  \n",
       "1             pascal      PA  \n",
       "2  relative humidity    HUMA  \n",
       "3                ppm  GP_CO2  \n",
       "4                ppm  GP_H2S  "
      ]
     },
     "execution_count": 4,
     "metadata": {},
     "output_type": "execute_result"
    }
   ],
   "source": [
    "datatypes.head()"
   ]
  },
  {
   "cell_type": "code",
   "execution_count": 5,
   "metadata": {
    "tags": []
   },
   "outputs": [
    {
     "data": {
      "text/html": [
       "<div>\n",
       "<style scoped>\n",
       "    .dataframe tbody tr th:only-of-type {\n",
       "        vertical-align: middle;\n",
       "    }\n",
       "\n",
       "    .dataframe tbody tr th {\n",
       "        vertical-align: top;\n",
       "    }\n",
       "\n",
       "    .dataframe thead th {\n",
       "        text-align: right;\n",
       "    }\n",
       "</style>\n",
       "<table border=\"1\" class=\"dataframe\">\n",
       "  <thead>\n",
       "    <tr style=\"text-align: right;\">\n",
       "      <th></th>\n",
       "      <th>id</th>\n",
       "      <th>name</th>\n",
       "      <th>description</th>\n",
       "      <th>location</th>\n",
       "      <th>status</th>\n",
       "      <th>created_at</th>\n",
       "      <th>updated_at</th>\n",
       "      <th>volcano_id</th>\n",
       "    </tr>\n",
       "  </thead>\n",
       "  <tbody>\n",
       "    <tr>\n",
       "      <td>0</td>\n",
       "      <td>c5e39fa0-867a-11e6-a353-2f6c041e2491</td>\n",
       "      <td>N1</td>\n",
       "      <td>\\N</td>\n",
       "      <td>\\N</td>\n",
       "      <td>OFFLINE</td>\n",
       "      <td>2016-08-17 01:06:49+00</td>\n",
       "      <td>2016-09-29 19:28:05.932+00</td>\n",
       "      <td>35dc3e90-8679-11e6-bda3-ef77801087ee</td>\n",
       "    </tr>\n",
       "    <tr>\n",
       "      <td>1</td>\n",
       "      <td>c147ece0-8679-11e6-a353-2f6c041e2491</td>\n",
       "      <td>N9</td>\n",
       "      <td>\\N</td>\n",
       "      <td>\\N</td>\n",
       "      <td>OFFLINE</td>\n",
       "      <td>2016-08-07 00:51:40+00</td>\n",
       "      <td>2016-09-29 19:41:07.065+00</td>\n",
       "      <td>35dc3e90-8679-11e6-bda3-ef77801087ee</td>\n",
       "    </tr>\n",
       "    <tr>\n",
       "      <td>2</td>\n",
       "      <td>76309900-8679-11e6-a353-2f6c041e2491</td>\n",
       "      <td>N8</td>\n",
       "      <td>\\N</td>\n",
       "      <td>\\N</td>\n",
       "      <td>OFFLINE</td>\n",
       "      <td>2016-08-03 22:09:40+00</td>\n",
       "      <td>2016-09-29 19:20:17.417+00</td>\n",
       "      <td>35dc3e90-8679-11e6-bda3-ef77801087ee</td>\n",
       "    </tr>\n",
       "    <tr>\n",
       "      <td>3</td>\n",
       "      <td>762b8ff0-8679-11e6-a353-2f6c041e2491</td>\n",
       "      <td>N10</td>\n",
       "      <td>\\N</td>\n",
       "      <td>\\N</td>\n",
       "      <td>OFFLINE</td>\n",
       "      <td>2016-08-03 04:39:25+00</td>\n",
       "      <td>2016-09-29 19:20:17.431+00</td>\n",
       "      <td>35dc3e90-8679-11e6-bda3-ef77801087ee</td>\n",
       "    </tr>\n",
       "    <tr>\n",
       "      <td>4</td>\n",
       "      <td>c14ccee0-8679-11e6-a353-2f6c041e2491</td>\n",
       "      <td>N2</td>\n",
       "      <td>\\N</td>\n",
       "      <td>\\N</td>\n",
       "      <td>OFFLINE</td>\n",
       "      <td>2016-08-10 04:20:22+00</td>\n",
       "      <td>2016-09-29 19:20:17.523+00</td>\n",
       "      <td>35dc3e90-8679-11e6-bda3-ef77801087ee</td>\n",
       "    </tr>\n",
       "  </tbody>\n",
       "</table>\n",
       "</div>"
      ],
      "text/plain": [
       "                                     id name description location   status  \\\n",
       "0  c5e39fa0-867a-11e6-a353-2f6c041e2491   N1          \\N       \\N  OFFLINE   \n",
       "1  c147ece0-8679-11e6-a353-2f6c041e2491   N9          \\N       \\N  OFFLINE   \n",
       "2  76309900-8679-11e6-a353-2f6c041e2491   N8          \\N       \\N  OFFLINE   \n",
       "3  762b8ff0-8679-11e6-a353-2f6c041e2491  N10          \\N       \\N  OFFLINE   \n",
       "4  c14ccee0-8679-11e6-a353-2f6c041e2491   N2          \\N       \\N  OFFLINE   \n",
       "\n",
       "               created_at                  updated_at  \\\n",
       "0  2016-08-17 01:06:49+00  2016-09-29 19:28:05.932+00   \n",
       "1  2016-08-07 00:51:40+00  2016-09-29 19:41:07.065+00   \n",
       "2  2016-08-03 22:09:40+00  2016-09-29 19:20:17.417+00   \n",
       "3  2016-08-03 04:39:25+00  2016-09-29 19:20:17.431+00   \n",
       "4  2016-08-10 04:20:22+00  2016-09-29 19:20:17.523+00   \n",
       "\n",
       "                             volcano_id  \n",
       "0  35dc3e90-8679-11e6-bda3-ef77801087ee  \n",
       "1  35dc3e90-8679-11e6-bda3-ef77801087ee  \n",
       "2  35dc3e90-8679-11e6-bda3-ef77801087ee  \n",
       "3  35dc3e90-8679-11e6-bda3-ef77801087ee  \n",
       "4  35dc3e90-8679-11e6-bda3-ef77801087ee  "
      ]
     },
     "execution_count": 5,
     "metadata": {},
     "output_type": "execute_result"
    }
   ],
   "source": [
    "nodes.head()"
   ]
  },
  {
   "cell_type": "code",
   "execution_count": 6,
   "metadata": {},
   "outputs": [
    {
     "data": {
      "text/html": [
       "<div>\n",
       "<style scoped>\n",
       "    .dataframe tbody tr th:only-of-type {\n",
       "        vertical-align: middle;\n",
       "    }\n",
       "\n",
       "    .dataframe tbody tr th {\n",
       "        vertical-align: top;\n",
       "    }\n",
       "\n",
       "    .dataframe thead th {\n",
       "        text-align: right;\n",
       "    }\n",
       "</style>\n",
       "<table border=\"1\" class=\"dataframe\">\n",
       "  <thead>\n",
       "    <tr style=\"text-align: right;\">\n",
       "      <th></th>\n",
       "      <th>id</th>\n",
       "      <th>description</th>\n",
       "      <th>data_frequency</th>\n",
       "      <th>status</th>\n",
       "      <th>created_at</th>\n",
       "      <th>updated_at</th>\n",
       "      <th>data_type_id</th>\n",
       "      <th>node_id</th>\n",
       "    </tr>\n",
       "  </thead>\n",
       "  <tbody>\n",
       "    <tr>\n",
       "      <td>0</td>\n",
       "      <td>c15a6370-8679-11e6-a353-2f6c041e2491</td>\n",
       "      <td>\\N</td>\n",
       "      <td>1800000</td>\n",
       "      <td>OFFLINE</td>\n",
       "      <td>2016-08-07 00:51:40+00</td>\n",
       "      <td>2016-09-29 19:41:07.066+00</td>\n",
       "      <td>35dcdad0-8679-11e6-bda3-ef77801087ee</td>\n",
       "      <td>c147ece0-8679-11e6-a353-2f6c041e2491</td>\n",
       "    </tr>\n",
       "    <tr>\n",
       "      <td>1</td>\n",
       "      <td>7635c920-8679-11e6-a353-2f6c041e2491</td>\n",
       "      <td>\\N</td>\n",
       "      <td>1800000</td>\n",
       "      <td>OFFLINE</td>\n",
       "      <td>2016-08-03 04:39:25+00</td>\n",
       "      <td>2016-09-29 20:13:52.793+00</td>\n",
       "      <td>35dcdad2-8679-11e6-bda3-ef77801087ee</td>\n",
       "      <td>762b8ff0-8679-11e6-a353-2f6c041e2491</td>\n",
       "    </tr>\n",
       "    <tr>\n",
       "      <td>2</td>\n",
       "      <td>763b9580-8679-11e6-a353-2f6c041e2491</td>\n",
       "      <td>\\N</td>\n",
       "      <td>1800000</td>\n",
       "      <td>OFFLINE</td>\n",
       "      <td>2016-08-03 04:39:25+00</td>\n",
       "      <td>2016-09-29 20:13:52.797+00</td>\n",
       "      <td>35dcdad1-8679-11e6-bda3-ef77801087ee</td>\n",
       "      <td>762b8ff0-8679-11e6-a353-2f6c041e2491</td>\n",
       "    </tr>\n",
       "    <tr>\n",
       "      <td>3</td>\n",
       "      <td>763ca6f0-8679-11e6-a353-2f6c041e2491</td>\n",
       "      <td>\\N</td>\n",
       "      <td>1800000</td>\n",
       "      <td>OFFLINE</td>\n",
       "      <td>2016-08-03 04:39:25+00</td>\n",
       "      <td>2016-09-29 20:13:52.803+00</td>\n",
       "      <td>35dcb3c0-8679-11e6-bda3-ef77801087ee</td>\n",
       "      <td>762b8ff0-8679-11e6-a353-2f6c041e2491</td>\n",
       "    </tr>\n",
       "    <tr>\n",
       "      <td>4</td>\n",
       "      <td>763d9150-8679-11e6-a353-2f6c041e2491</td>\n",
       "      <td>\\N</td>\n",
       "      <td>1800000</td>\n",
       "      <td>OFFLINE</td>\n",
       "      <td>2016-08-03 04:39:25+00</td>\n",
       "      <td>2016-09-29 20:13:52.811+00</td>\n",
       "      <td>35dcb3c1-8679-11e6-bda3-ef77801087ee</td>\n",
       "      <td>762b8ff0-8679-11e6-a353-2f6c041e2491</td>\n",
       "    </tr>\n",
       "  </tbody>\n",
       "</table>\n",
       "</div>"
      ],
      "text/plain": [
       "                                     id description  data_frequency   status  \\\n",
       "0  c15a6370-8679-11e6-a353-2f6c041e2491          \\N         1800000  OFFLINE   \n",
       "1  7635c920-8679-11e6-a353-2f6c041e2491          \\N         1800000  OFFLINE   \n",
       "2  763b9580-8679-11e6-a353-2f6c041e2491          \\N         1800000  OFFLINE   \n",
       "3  763ca6f0-8679-11e6-a353-2f6c041e2491          \\N         1800000  OFFLINE   \n",
       "4  763d9150-8679-11e6-a353-2f6c041e2491          \\N         1800000  OFFLINE   \n",
       "\n",
       "               created_at                  updated_at  \\\n",
       "0  2016-08-07 00:51:40+00  2016-09-29 19:41:07.066+00   \n",
       "1  2016-08-03 04:39:25+00  2016-09-29 20:13:52.793+00   \n",
       "2  2016-08-03 04:39:25+00  2016-09-29 20:13:52.797+00   \n",
       "3  2016-08-03 04:39:25+00  2016-09-29 20:13:52.803+00   \n",
       "4  2016-08-03 04:39:25+00  2016-09-29 20:13:52.811+00   \n",
       "\n",
       "                           data_type_id                               node_id  \n",
       "0  35dcdad0-8679-11e6-bda3-ef77801087ee  c147ece0-8679-11e6-a353-2f6c041e2491  \n",
       "1  35dcdad2-8679-11e6-bda3-ef77801087ee  762b8ff0-8679-11e6-a353-2f6c041e2491  \n",
       "2  35dcdad1-8679-11e6-bda3-ef77801087ee  762b8ff0-8679-11e6-a353-2f6c041e2491  \n",
       "3  35dcb3c0-8679-11e6-bda3-ef77801087ee  762b8ff0-8679-11e6-a353-2f6c041e2491  \n",
       "4  35dcb3c1-8679-11e6-bda3-ef77801087ee  762b8ff0-8679-11e6-a353-2f6c041e2491  "
      ]
     },
     "execution_count": 6,
     "metadata": {},
     "output_type": "execute_result"
    }
   ],
   "source": [
    "sensors.head()"
   ]
  },
  {
   "cell_type": "code",
   "execution_count": 7,
   "metadata": {},
   "outputs": [
    {
     "data": {
      "text/html": [
       "<div>\n",
       "<style scoped>\n",
       "    .dataframe tbody tr th:only-of-type {\n",
       "        vertical-align: middle;\n",
       "    }\n",
       "\n",
       "    .dataframe tbody tr th {\n",
       "        vertical-align: top;\n",
       "    }\n",
       "\n",
       "    .dataframe thead th {\n",
       "        text-align: right;\n",
       "    }\n",
       "</style>\n",
       "<table border=\"1\" class=\"dataframe\">\n",
       "  <thead>\n",
       "    <tr style=\"text-align: right;\">\n",
       "      <th></th>\n",
       "      <th>id</th>\n",
       "      <th>name</th>\n",
       "      <th>description</th>\n",
       "      <th>location</th>\n",
       "      <th>status</th>\n",
       "      <th>created_at</th>\n",
       "      <th>updated_at</th>\n",
       "    </tr>\n",
       "  </thead>\n",
       "  <tbody>\n",
       "    <tr>\n",
       "      <td>0</td>\n",
       "      <td>35dc3e90-8679-11e6-bda3-ef77801087ee</td>\n",
       "      <td>Masaya</td>\n",
       "      <td>This is the world's biggest, baddest, most evi...</td>\n",
       "      <td>{11.985318299999999,-86.178342900000004}</td>\n",
       "      <td>OFFLINE</td>\n",
       "      <td>2016-09-29 19:16:23.419+00</td>\n",
       "      <td>2016-10-07 07:43:05.015+00</td>\n",
       "    </tr>\n",
       "  </tbody>\n",
       "</table>\n",
       "</div>"
      ],
      "text/plain": [
       "                                     id    name  \\\n",
       "0  35dc3e90-8679-11e6-bda3-ef77801087ee  Masaya   \n",
       "\n",
       "                                         description  \\\n",
       "0  This is the world's biggest, baddest, most evi...   \n",
       "\n",
       "                                   location   status  \\\n",
       "0  {11.985318299999999,-86.178342900000004}  OFFLINE   \n",
       "\n",
       "                   created_at                  updated_at  \n",
       "0  2016-09-29 19:16:23.419+00  2016-10-07 07:43:05.015+00  "
      ]
     },
     "execution_count": 7,
     "metadata": {},
     "output_type": "execute_result"
    }
   ],
   "source": [
    "volcanos.head()"
   ]
  },
  {
   "cell_type": "code",
   "execution_count": null,
   "metadata": {},
   "outputs": [],
   "source": []
  },
  {
   "cell_type": "code",
   "execution_count": 8,
   "metadata": {
    "tags": []
   },
   "outputs": [
    {
     "name": "stdout",
     "output_type": "stream",
     "text": [
      "(7, 4) (11, 8) (61, 8) (1, 7) (176534, 4)\n"
     ]
    }
   ],
   "source": [
    "print(datatypes.shape,nodes.shape,sensors.shape,volcanos.shape, datapoints.shape)"
   ]
  },
  {
   "cell_type": "markdown",
   "metadata": {},
   "source": [
    "#### The IDs are connected in a way, for example id column in *sensors* is the same as sensor_id in *datapoints*"
   ]
  },
  {
   "cell_type": "code",
   "execution_count": 9,
   "metadata": {},
   "outputs": [
    {
     "data": {
      "text/html": [
       "<div>\n",
       "<style scoped>\n",
       "    .dataframe tbody tr th:only-of-type {\n",
       "        vertical-align: middle;\n",
       "    }\n",
       "\n",
       "    .dataframe tbody tr th {\n",
       "        vertical-align: top;\n",
       "    }\n",
       "\n",
       "    .dataframe thead th {\n",
       "        text-align: right;\n",
       "    }\n",
       "</style>\n",
       "<table border=\"1\" class=\"dataframe\">\n",
       "  <thead>\n",
       "    <tr style=\"text-align: right;\">\n",
       "      <th></th>\n",
       "      <th>id</th>\n",
       "      <th>value</th>\n",
       "      <th>timestamp</th>\n",
       "      <th>sensor_id</th>\n",
       "    </tr>\n",
       "  </thead>\n",
       "  <tbody>\n",
       "    <tr>\n",
       "      <td>0</td>\n",
       "      <td>764c5e60-8679-11e6-a353-2f6c041e2491</td>\n",
       "      <td>98.000</td>\n",
       "      <td>2016-08-03 04:39:25+00</td>\n",
       "      <td>7635c920-8679-11e6-a353-2f6c041e2491</td>\n",
       "    </tr>\n",
       "    <tr>\n",
       "      <td>1</td>\n",
       "      <td>764c5e61-8679-11e6-a353-2f6c041e2491</td>\n",
       "      <td>33.198</td>\n",
       "      <td>2016-08-03 04:39:25+00</td>\n",
       "      <td>763b9580-8679-11e6-a353-2f6c041e2491</td>\n",
       "    </tr>\n",
       "    <tr>\n",
       "      <td>2</td>\n",
       "      <td>764dbdf0-8679-11e6-a353-2f6c041e2491</td>\n",
       "      <td>29.300</td>\n",
       "      <td>2016-08-03 04:39:25+00</td>\n",
       "      <td>763ca6f0-8679-11e6-a353-2f6c041e2491</td>\n",
       "    </tr>\n",
       "    <tr>\n",
       "      <td>3</td>\n",
       "      <td>764dbdf1-8679-11e6-a353-2f6c041e2491</td>\n",
       "      <td>96893.110</td>\n",
       "      <td>2016-08-03 04:39:25+00</td>\n",
       "      <td>763d9150-8679-11e6-a353-2f6c041e2491</td>\n",
       "    </tr>\n",
       "    <tr>\n",
       "      <td>4</td>\n",
       "      <td>764dbdf2-8679-11e6-a353-2f6c041e2491</td>\n",
       "      <td>459.736</td>\n",
       "      <td>2016-08-03 04:39:25+00</td>\n",
       "      <td>763701a1-8679-11e6-a353-2f6c041e2491</td>\n",
       "    </tr>\n",
       "  </tbody>\n",
       "</table>\n",
       "</div>"
      ],
      "text/plain": [
       "                                     id      value               timestamp  \\\n",
       "0  764c5e60-8679-11e6-a353-2f6c041e2491     98.000  2016-08-03 04:39:25+00   \n",
       "1  764c5e61-8679-11e6-a353-2f6c041e2491     33.198  2016-08-03 04:39:25+00   \n",
       "2  764dbdf0-8679-11e6-a353-2f6c041e2491     29.300  2016-08-03 04:39:25+00   \n",
       "3  764dbdf1-8679-11e6-a353-2f6c041e2491  96893.110  2016-08-03 04:39:25+00   \n",
       "4  764dbdf2-8679-11e6-a353-2f6c041e2491    459.736  2016-08-03 04:39:25+00   \n",
       "\n",
       "                              sensor_id  \n",
       "0  7635c920-8679-11e6-a353-2f6c041e2491  \n",
       "1  763b9580-8679-11e6-a353-2f6c041e2491  \n",
       "2  763ca6f0-8679-11e6-a353-2f6c041e2491  \n",
       "3  763d9150-8679-11e6-a353-2f6c041e2491  \n",
       "4  763701a1-8679-11e6-a353-2f6c041e2491  "
      ]
     },
     "execution_count": 9,
     "metadata": {},
     "output_type": "execute_result"
    }
   ],
   "source": [
    "datapoints.head()"
   ]
  },
  {
   "cell_type": "code",
   "execution_count": 10,
   "metadata": {},
   "outputs": [],
   "source": [
    "# Convert timestamp to datetime\n",
    "datapoints['timestamp']= pd.to_datetime(datapoints['timestamp'])\n"
   ]
  },
  {
   "cell_type": "code",
   "execution_count": 11,
   "metadata": {},
   "outputs": [
    {
     "data": {
      "text/plain": [
       "61"
      ]
     },
     "execution_count": 11,
     "metadata": {},
     "output_type": "execute_result"
    }
   ],
   "source": [
    "datapoints['sensor_id'].nunique() # Shows 61 unique sensors"
   ]
  },
  {
   "cell_type": "markdown",
   "metadata": {},
   "source": [
    "### 2. Plotting Sensor Time Series\n",
    "\n",
    "Create separate plots for each sensor in the dataset. Store each one in a separate file.\n",
    "\n",
    "**What (if anything) can we tell about the various sensors from the plots?**\n",
    "\n",
    "1. The sensors measured different characteristics.\n",
    "2. Some sensors have missing values...probably dead.\n",
    "3. The maximum value obtained from each sensor was plotted.\n",
    "4. Some days have no sensor data acquired\n",
    "5. Sensor 48 has complete daily data\n"
   ]
  },
  {
   "cell_type": "code",
   "execution_count": 12,
   "metadata": {},
   "outputs": [],
   "source": [
    "# Split the timestamp\n",
    "datapoints['Day'] = datapoints['timestamp'].dt.day \n",
    "datapoints['Month'] = datapoints['timestamp'].dt.month\n",
    "datapoints['Year'] = datapoints['timestamp'].dt.year\n",
    "datapoints['Time']=datapoints['timestamp'].dt.time\n",
    "plots = datapoints.groupby('sensor_id')#.agg(lambda x: list(x))"
   ]
  },
  {
   "cell_type": "code",
   "execution_count": 13,
   "metadata": {},
   "outputs": [
    {
     "data": {
      "text/html": [
       "<div>\n",
       "<style scoped>\n",
       "    .dataframe tbody tr th:only-of-type {\n",
       "        vertical-align: middle;\n",
       "    }\n",
       "\n",
       "    .dataframe tbody tr th {\n",
       "        vertical-align: top;\n",
       "    }\n",
       "\n",
       "    .dataframe thead th {\n",
       "        text-align: right;\n",
       "    }\n",
       "</style>\n",
       "<table border=\"1\" class=\"dataframe\">\n",
       "  <thead>\n",
       "    <tr style=\"text-align: right;\">\n",
       "      <th></th>\n",
       "      <th>id</th>\n",
       "      <th>value</th>\n",
       "      <th>timestamp</th>\n",
       "      <th>sensor_id</th>\n",
       "      <th>Day</th>\n",
       "      <th>Month</th>\n",
       "      <th>Year</th>\n",
       "      <th>Time</th>\n",
       "    </tr>\n",
       "  </thead>\n",
       "  <tbody>\n",
       "    <tr>\n",
       "      <td>0</td>\n",
       "      <td>764c5e60-8679-11e6-a353-2f6c041e2491</td>\n",
       "      <td>98.000</td>\n",
       "      <td>2016-08-03 04:39:25+00:00</td>\n",
       "      <td>7635c920-8679-11e6-a353-2f6c041e2491</td>\n",
       "      <td>3</td>\n",
       "      <td>8</td>\n",
       "      <td>2016</td>\n",
       "      <td>04:39:25</td>\n",
       "    </tr>\n",
       "    <tr>\n",
       "      <td>1</td>\n",
       "      <td>764c5e61-8679-11e6-a353-2f6c041e2491</td>\n",
       "      <td>33.198</td>\n",
       "      <td>2016-08-03 04:39:25+00:00</td>\n",
       "      <td>763b9580-8679-11e6-a353-2f6c041e2491</td>\n",
       "      <td>3</td>\n",
       "      <td>8</td>\n",
       "      <td>2016</td>\n",
       "      <td>04:39:25</td>\n",
       "    </tr>\n",
       "    <tr>\n",
       "      <td>2</td>\n",
       "      <td>764dbdf0-8679-11e6-a353-2f6c041e2491</td>\n",
       "      <td>29.300</td>\n",
       "      <td>2016-08-03 04:39:25+00:00</td>\n",
       "      <td>763ca6f0-8679-11e6-a353-2f6c041e2491</td>\n",
       "      <td>3</td>\n",
       "      <td>8</td>\n",
       "      <td>2016</td>\n",
       "      <td>04:39:25</td>\n",
       "    </tr>\n",
       "    <tr>\n",
       "      <td>3</td>\n",
       "      <td>764dbdf1-8679-11e6-a353-2f6c041e2491</td>\n",
       "      <td>96893.110</td>\n",
       "      <td>2016-08-03 04:39:25+00:00</td>\n",
       "      <td>763d9150-8679-11e6-a353-2f6c041e2491</td>\n",
       "      <td>3</td>\n",
       "      <td>8</td>\n",
       "      <td>2016</td>\n",
       "      <td>04:39:25</td>\n",
       "    </tr>\n",
       "    <tr>\n",
       "      <td>4</td>\n",
       "      <td>764dbdf2-8679-11e6-a353-2f6c041e2491</td>\n",
       "      <td>459.736</td>\n",
       "      <td>2016-08-03 04:39:25+00:00</td>\n",
       "      <td>763701a1-8679-11e6-a353-2f6c041e2491</td>\n",
       "      <td>3</td>\n",
       "      <td>8</td>\n",
       "      <td>2016</td>\n",
       "      <td>04:39:25</td>\n",
       "    </tr>\n",
       "    <tr>\n",
       "      <td>...</td>\n",
       "      <td>...</td>\n",
       "      <td>...</td>\n",
       "      <td>...</td>\n",
       "      <td>...</td>\n",
       "      <td>...</td>\n",
       "      <td>...</td>\n",
       "      <td>...</td>\n",
       "      <td>...</td>\n",
       "    </tr>\n",
       "    <tr>\n",
       "      <td>167718</td>\n",
       "      <td>12ac7c20-e707-11e6-89c8-314aa4f67f8c</td>\n",
       "      <td>455.000</td>\n",
       "      <td>2016-07-01 00:00:31+00:00</td>\n",
       "      <td>1248ff60-e707-11e6-89c8-314aa4f67f8c</td>\n",
       "      <td>1</td>\n",
       "      <td>7</td>\n",
       "      <td>2016</td>\n",
       "      <td>00:00:31</td>\n",
       "    </tr>\n",
       "    <tr>\n",
       "      <td>167719</td>\n",
       "      <td>12aec610-e707-11e6-89c8-314aa4f67f8c</td>\n",
       "      <td>213.000</td>\n",
       "      <td>2016-07-01 00:10:02+00:00</td>\n",
       "      <td>1248ff60-e707-11e6-89c8-314aa4f67f8c</td>\n",
       "      <td>1</td>\n",
       "      <td>7</td>\n",
       "      <td>2016</td>\n",
       "      <td>00:10:02</td>\n",
       "    </tr>\n",
       "    <tr>\n",
       "      <td>167720</td>\n",
       "      <td>12afd780-e707-11e6-89c8-314aa4f67f8c</td>\n",
       "      <td>429.000</td>\n",
       "      <td>2016-07-01 00:40:00+00:00</td>\n",
       "      <td>1248ff60-e707-11e6-89c8-314aa4f67f8c</td>\n",
       "      <td>1</td>\n",
       "      <td>7</td>\n",
       "      <td>2016</td>\n",
       "      <td>00:40:00</td>\n",
       "    </tr>\n",
       "    <tr>\n",
       "      <td>167721</td>\n",
       "      <td>12b15e20-e707-11e6-89c8-314aa4f67f8c</td>\n",
       "      <td>225.000</td>\n",
       "      <td>2016-07-01 00:20:00+00:00</td>\n",
       "      <td>1248ff60-e707-11e6-89c8-314aa4f67f8c</td>\n",
       "      <td>1</td>\n",
       "      <td>7</td>\n",
       "      <td>2016</td>\n",
       "      <td>00:20:00</td>\n",
       "    </tr>\n",
       "    <tr>\n",
       "      <td>167722</td>\n",
       "      <td>12b22170-e707-11e6-89c8-314aa4f67f8c</td>\n",
       "      <td>321.000</td>\n",
       "      <td>2016-07-01 00:30:01+00:00</td>\n",
       "      <td>1248ff60-e707-11e6-89c8-314aa4f67f8c</td>\n",
       "      <td>1</td>\n",
       "      <td>7</td>\n",
       "      <td>2016</td>\n",
       "      <td>00:30:01</td>\n",
       "    </tr>\n",
       "  </tbody>\n",
       "</table>\n",
       "<p>305 rows × 8 columns</p>\n",
       "</div>"
      ],
      "text/plain": [
       "                                          id      value  \\\n",
       "0       764c5e60-8679-11e6-a353-2f6c041e2491     98.000   \n",
       "1       764c5e61-8679-11e6-a353-2f6c041e2491     33.198   \n",
       "2       764dbdf0-8679-11e6-a353-2f6c041e2491     29.300   \n",
       "3       764dbdf1-8679-11e6-a353-2f6c041e2491  96893.110   \n",
       "4       764dbdf2-8679-11e6-a353-2f6c041e2491    459.736   \n",
       "...                                      ...        ...   \n",
       "167718  12ac7c20-e707-11e6-89c8-314aa4f67f8c    455.000   \n",
       "167719  12aec610-e707-11e6-89c8-314aa4f67f8c    213.000   \n",
       "167720  12afd780-e707-11e6-89c8-314aa4f67f8c    429.000   \n",
       "167721  12b15e20-e707-11e6-89c8-314aa4f67f8c    225.000   \n",
       "167722  12b22170-e707-11e6-89c8-314aa4f67f8c    321.000   \n",
       "\n",
       "                       timestamp                             sensor_id  Day  \\\n",
       "0      2016-08-03 04:39:25+00:00  7635c920-8679-11e6-a353-2f6c041e2491    3   \n",
       "1      2016-08-03 04:39:25+00:00  763b9580-8679-11e6-a353-2f6c041e2491    3   \n",
       "2      2016-08-03 04:39:25+00:00  763ca6f0-8679-11e6-a353-2f6c041e2491    3   \n",
       "3      2016-08-03 04:39:25+00:00  763d9150-8679-11e6-a353-2f6c041e2491    3   \n",
       "4      2016-08-03 04:39:25+00:00  763701a1-8679-11e6-a353-2f6c041e2491    3   \n",
       "...                          ...                                   ...  ...   \n",
       "167718 2016-07-01 00:00:31+00:00  1248ff60-e707-11e6-89c8-314aa4f67f8c    1   \n",
       "167719 2016-07-01 00:10:02+00:00  1248ff60-e707-11e6-89c8-314aa4f67f8c    1   \n",
       "167720 2016-07-01 00:40:00+00:00  1248ff60-e707-11e6-89c8-314aa4f67f8c    1   \n",
       "167721 2016-07-01 00:20:00+00:00  1248ff60-e707-11e6-89c8-314aa4f67f8c    1   \n",
       "167722 2016-07-01 00:30:01+00:00  1248ff60-e707-11e6-89c8-314aa4f67f8c    1   \n",
       "\n",
       "        Month  Year      Time  \n",
       "0           8  2016  04:39:25  \n",
       "1           8  2016  04:39:25  \n",
       "2           8  2016  04:39:25  \n",
       "3           8  2016  04:39:25  \n",
       "4           8  2016  04:39:25  \n",
       "...       ...   ...       ...  \n",
       "167718      7  2016  00:00:31  \n",
       "167719      7  2016  00:10:02  \n",
       "167720      7  2016  00:40:00  \n",
       "167721      7  2016  00:20:00  \n",
       "167722      7  2016  00:30:01  \n",
       "\n",
       "[305 rows x 8 columns]"
      ]
     },
     "execution_count": 13,
     "metadata": {},
     "output_type": "execute_result"
    }
   ],
   "source": [
    "plots.head()"
   ]
  },
  {
   "cell_type": "code",
   "execution_count": 14,
   "metadata": {},
   "outputs": [],
   "source": [
    "# Create a function for the plots\n",
    "def getgroup(sensor_id):\n",
    "    get = plots.get_group(sensor_id)\n",
    "    sensorIndex = get.set_index('timestamp', inplace=True)\n",
    "    return get\n",
    "\n",
    "def groupget(sensorname,monthno):\n",
    "    regroup = sensorname.groupby('Month')\n",
    "    groupno = regroup.get_group(monthno)\n",
    "    groupfinal = groupno.groupby([\"Day\"], as_index=False)[\"value\"].max()\n",
    "    return groupfinal\n",
    "\n",
    "def custom_plot(x,y, ax=None, **plt_kwargs):\n",
    "    if ax is None:\n",
    "        ax = plt.gca()\n",
    "        #ax = sns.barplot()\n",
    "    ax.set_ylabel('Value')\n",
    "    ax.set_xlabel('Day')\n",
    "    ax.plot(x,y, **plt_kwargs) \n",
    "    return(ax)"
   ]
  },
  {
   "cell_type": "markdown",
   "metadata": {},
   "source": [
    "### Plotting each sensors per month"
   ]
  },
  {
   "cell_type": "code",
   "execution_count": 15,
   "metadata": {},
   "outputs": [
    {
     "ename": "NameError",
     "evalue": "name 'merged_data_drop' is not defined",
     "output_type": "error",
     "traceback": [
      "\u001b[0;31m---------------------------------------------------------------------------\u001b[0m",
      "\u001b[0;31mNameError\u001b[0m                                 Traceback (most recent call last)",
      "\u001b[0;32m<ipython-input-15-cd09b12d53e2>\u001b[0m in \u001b[0;36m<module>\u001b[0;34m\u001b[0m\n\u001b[1;32m      1\u001b[0m \u001b[0;31m# Plot sensor data by month. Sensor data acquisition spreads from July to October\u001b[0m\u001b[0;34m\u001b[0m\u001b[0;34m\u001b[0m\u001b[0;34m\u001b[0m\u001b[0m\n\u001b[1;32m      2\u001b[0m \u001b[0mplt\u001b[0m\u001b[0;34m.\u001b[0m\u001b[0mfigure\u001b[0m\u001b[0;34m(\u001b[0m\u001b[0mfigsize\u001b[0m\u001b[0;34m=\u001b[0m\u001b[0;34m(\u001b[0m\u001b[0;36m8\u001b[0m\u001b[0;34m,\u001b[0m\u001b[0;36m5\u001b[0m\u001b[0;34m)\u001b[0m\u001b[0;34m)\u001b[0m\u001b[0;34m\u001b[0m\u001b[0;34m\u001b[0m\u001b[0m\n\u001b[0;32m----> 3\u001b[0;31m \u001b[0msns\u001b[0m\u001b[0;34m.\u001b[0m\u001b[0mcountplot\u001b[0m\u001b[0;34m(\u001b[0m\u001b[0mmerged_data_drop\u001b[0m\u001b[0;34m[\u001b[0m\u001b[0;34m'Month'\u001b[0m\u001b[0;34m]\u001b[0m\u001b[0;34m)\u001b[0m\u001b[0;34m\u001b[0m\u001b[0;34m\u001b[0m\u001b[0m\n\u001b[0m\u001b[1;32m      4\u001b[0m \u001b[0mplt\u001b[0m\u001b[0;34m.\u001b[0m\u001b[0mtitle\u001b[0m\u001b[0;34m(\u001b[0m\u001b[0;34m'Sensor data by month'\u001b[0m\u001b[0;34m)\u001b[0m\u001b[0;34m\u001b[0m\u001b[0;34m\u001b[0m\u001b[0m\n\u001b[1;32m      5\u001b[0m \u001b[0mplt\u001b[0m\u001b[0;34m.\u001b[0m\u001b[0mylabel\u001b[0m\u001b[0;34m(\u001b[0m\u001b[0;34m'Counts'\u001b[0m\u001b[0;34m)\u001b[0m\u001b[0;34m\u001b[0m\u001b[0;34m\u001b[0m\u001b[0m\n",
      "\u001b[0;31mNameError\u001b[0m: name 'merged_data_drop' is not defined"
     ]
    },
    {
     "data": {
      "text/plain": [
       "<Figure size 576x360 with 0 Axes>"
      ]
     },
     "metadata": {},
     "output_type": "display_data"
    }
   ],
   "source": [
    "# Plot sensor data by month. Sensor data acquisition spreads from July to October\n",
    "plt.figure(figsize=(8,5))\n",
    "sns.countplot(merged_data_drop['Month'])\n",
    "plt.title('Sensor data by month')\n",
    "plt.ylabel('Counts')\n",
    "plt.xlabel('Month');"
   ]
  },
  {
   "cell_type": "code",
   "execution_count": null,
   "metadata": {},
   "outputs": [],
   "source": [
    "sensor1 = getgroup('c15a6370-8679-11e6-a353-2f6c041e2491')\n",
    "plt.figure(figsize=(25,5))\n",
    "plt.subplot(1,1,1)\n",
    "custom_plot(x=sensor1.index, y=sensor1.value)\n",
    "plt.title('Maximum Daily Values for c15a6370 Sensor')"
   ]
  },
  {
   "cell_type": "code",
   "execution_count": null,
   "metadata": {},
   "outputs": [],
   "source": [
    "# Sensor 1 plot -  Data only available in August\n",
    "sensor1 = getgroup('c15a6370-8679-11e6-a353-2f6c041e2491')\n",
    "sensor1aug = groupget(sensor1,8)\n",
    "plt.figure(figsize=(25,5))\n",
    "plt.subplot(1,1,1)\n",
    "custom_plot(x=sensor1aug.index, y=sensor1aug.value)\n",
    "plt.title('Maximum Daily Values for c15a6370 Sensor in August')\n"
   ]
  },
  {
   "cell_type": "code",
   "execution_count": null,
   "metadata": {},
   "outputs": [],
   "source": [
    "# Sensor 2 plot -  Data only available in August and September\n",
    "sensor2 = getgroup('7635c920-8679-11e6-a353-2f6c041e2491')\n",
    "sensor2aug = groupget(sensor2,8)\n",
    "sensor2sep = groupget(sensor2,9)\n",
    "plt.figure(figsize=(25,5))\n",
    "plt.subplot(1,2,1)\n",
    "custom_plot(x=sensor2aug.index, y=sensor2aug.value)\n",
    "plt.title('Maximum Daily Values for 7635c920 Sensor in August')\n",
    "plt.subplot(1,2,2)\n",
    "custom_plot(x=sensor2sep.index, y=sensor2sep.value)\n",
    "plt.title('Maximum Daily Values for 7635c920 Sensor in September')\n"
   ]
  },
  {
   "cell_type": "code",
   "execution_count": null,
   "metadata": {},
   "outputs": [],
   "source": [
    "# Sensor 3 plot -  Data only available in August and September\n",
    "sensor3 = getgroup('763b9580-8679-11e6-a353-2f6c041e2491')\n",
    "#sensor3jul = groupget(sensor3,7)\n",
    "sensor3aug = groupget(sensor3,8)\n",
    "sensor3sep = groupget(sensor3,9)\n",
    "#sensor3oct = groupget(sensor3,10)\n",
    "plt.figure(figsize=(25,5))\n",
    "plt.subplot(1,2,1)\n",
    "custom_plot(x=sensor3aug.index, y=sensor3aug.value)\n",
    "plt.title('Maximum Daily Values for 763b9580 Sensor in August')\n",
    "plt.subplot(1,2,2)\n",
    "custom_plot(x=sensor3sep.index, y=sensor3sep.value)\n",
    "plt.title('Maximum Daily Values for 763b9580 Sensor in September')"
   ]
  },
  {
   "cell_type": "code",
   "execution_count": null,
   "metadata": {},
   "outputs": [],
   "source": [
    "# Sensor 4 plot -  Data only available in August and September\n",
    "sensor4 = getgroup('763ca6f0-8679-11e6-a353-2f6c041e2491')\n",
    "#sensor4jul = groupget(sensor4,7)\n",
    "sensor4aug = groupget(sensor4,8)\n",
    "sensor4sep = groupget(sensor4,9)\n",
    "#sensor4oct = groupget(sensor4,10)\n",
    "plt.figure(figsize=(25,5))\n",
    "plt.subplot(1,2,1)\n",
    "custom_plot(x=sensor4aug.index, y=sensor4aug.value)\n",
    "plt.title('Maximum Daily Values for 763ca6f0 Sensor in August')\n",
    "plt.subplot(1,2,2)\n",
    "custom_plot(x=sensor4sep.index, y=sensor4sep.value)\n",
    "plt.title('Maximum Daily Values for 763ca6f0 Sensor in September')"
   ]
  },
  {
   "cell_type": "code",
   "execution_count": null,
   "metadata": {},
   "outputs": [],
   "source": [
    "# Sensor 5 plot -  Data only available in August and September\n",
    "sensor5 = getgroup('763d9150-8679-11e6-a353-2f6c041e2491')\n",
    "#sensor5jul = groupget(sensor5,7)\n",
    "sensor5aug = groupget(sensor5,8)\n",
    "sensor5sep = groupget(sensor5,9)\n",
    "#sensor5oct = groupget(sensor5,10)\n",
    "plt.figure(figsize=(25,5))\n",
    "plt.subplot(1,2,1)\n",
    "custom_plot(x=sensor5aug.index, y=sensor5aug.value)\n",
    "plt.title('Maximum Daily Values for 763d9150 Sensor in August')\n",
    "plt.subplot(1,2,2)\n",
    "custom_plot(x=sensor5sep.index, y=sensor5sep.value)\n",
    "plt.title('Maximum Daily Values for 763d9150 Sensor in September')"
   ]
  },
  {
   "cell_type": "code",
   "execution_count": null,
   "metadata": {},
   "outputs": [],
   "source": [
    "# Sensor 6 plot -  Data only available in August and September. October data is null\n",
    "sensor6 = getgroup('7636da90-8679-11e6-a353-2f6c041e2491')\n",
    "#sensor6jul = groupget(sensor6,7)\n",
    "sensor6aug = groupget(sensor6,8)\n",
    "sensor6sep = groupget(sensor6,9)\n",
    "sensor6oct = groupget(sensor6,10)\n",
    "plt.figure(figsize=(25,5))\n",
    "plt.subplot(1,3,1)\n",
    "custom_plot(x=sensor6aug.index, y=sensor6aug.value)\n",
    "plt.title('Maximum Daily Values for 7636da90 Sensor in August')\n",
    "plt.subplot(1,3,2)\n",
    "custom_plot(x=sensor6sep.index, y=sensor6sep.value)\n",
    "plt.title('Maximum Daily Values for 77636da90 Sensor in September')\n",
    "plt.subplot(1,3,3)\n",
    "custom_plot(x=sensor6oct.index, y=sensor6oct.value)\n",
    "plt.title('Maximum Daily Values for 7636da90 Sensor in October')"
   ]
  },
  {
   "cell_type": "code",
   "execution_count": null,
   "metadata": {},
   "outputs": [],
   "source": [
    "# Sensor 7 plot -  Data only available in August and September\n",
    "sensor7 = getgroup('76413ad0-8679-11e6-a353-2f6c041e2491')\n",
    "#sensor7jul = groupget(sensor7,7)\n",
    "sensor7aug = groupget(sensor7,8)\n",
    "sensor7sep = groupget(sensor7,9)\n",
    "#sensor7oct = groupget(sensor7,10)\n",
    "plt.figure(figsize=(25,5))\n",
    "plt.subplot(1,2,1)\n",
    "custom_plot(x=sensor7aug.index, y=sensor7aug.value)\n",
    "plt.title('Maximum Daily Values for 76413ad0 Sensor in August')\n",
    "plt.subplot(1,2,2)\n",
    "custom_plot(x=sensor7sep.index, y=sensor7sep.value)\n",
    "plt.title('Maximum Daily Values for 76413ad0 Sensor in September')"
   ]
  },
  {
   "cell_type": "code",
   "execution_count": null,
   "metadata": {},
   "outputs": [],
   "source": [
    "# Sensor 8 plot -  Data only available in August and September\n",
    "sensor8 = getgroup('764161e0-8679-11e6-a353-2f6c041e2491')\n",
    "#sensor8jul = groupget(sensor8,7)\n",
    "sensor8aug = groupget(sensor8,8)\n",
    "sensor8sep = groupget(sensor8,9)\n",
    "#sensor8oct = groupget(sensor8,10)\n",
    "plt.figure(figsize=(25,5))\n",
    "plt.subplot(1,2,1)\n",
    "custom_plot(x=sensor8aug.index, y=sensor8aug.value)\n",
    "plt.title('Maximum Daily Values for 764161e0 Sensor in August')\n",
    "plt.subplot(1,2,2)\n",
    "custom_plot(x=sensor8sep.index, y=sensor8sep.value)\n",
    "plt.title('Maximum Daily Values for 764161e0 Sensor in September')\n"
   ]
  },
  {
   "cell_type": "code",
   "execution_count": null,
   "metadata": {},
   "outputs": [],
   "source": [
    "# Sensor 9 plot -  Data only available in August\n",
    "sensor9 = getgroup('c5e685d0-867a-11e6-a353-2f6c041e2491')\n",
    "#sensor9jul = groupget(sensor9,7)\n",
    "sensor9aug = groupget(sensor9,8)\n",
    "#sensor9sep = groupget(sensor9,9)\n",
    "#sensor9oct = groupget(sensor9,10)\n",
    "plt.figure(figsize=(25,5))\n",
    "plt.subplot(1,1,1)\n",
    "custom_plot(x=sensor9aug.index, y=sensor9aug.value)\n",
    "plt.title('Maximum Daily Values for c5e685d0 Sensor in August')\n"
   ]
  },
  {
   "cell_type": "code",
   "execution_count": null,
   "metadata": {},
   "outputs": [],
   "source": [
    "len(sensor1)"
   ]
  },
  {
   "cell_type": "code",
   "execution_count": null,
   "metadata": {},
   "outputs": [],
   "source": [
    "# Sensor 10 plot -  Data only available in August\n",
    "sensor10 = getgroup('c5e9ba20-867a-11e6-a353-2f6c041e2491')\n",
    "#sensor10jul = groupget(sensor10,7)\n",
    "sensor10aug = groupget(sensor10,8)\n",
    "#sensor10sep = groupget(sensor10,9)\n",
    "#sensor10oct = groupget(sensor10,10)\n",
    "plt.figure(figsize=(25,5))\n",
    "plt.subplot(1,1,1)\n",
    "custom_plot(x=sensor10aug.index, y=sensor10aug.value)\n",
    "plt.title('Maximum Daily Values for c5e9ba20 Sensor in August')"
   ]
  },
  {
   "cell_type": "code",
   "execution_count": null,
   "metadata": {},
   "outputs": [],
   "source": [
    "# Sensor 11 plot -  Data only available in August \n",
    "sensor11 = getgroup('c159c730-8679-11e6-a353-2f6c041e2491')\n",
    "#sensor11jul = groupget(sensor11,7)\n",
    "sensor11aug = groupget(sensor11,8)\n",
    "#sensor11sep = groupget(sensor11,9)\n",
    "#sensor11oct = groupget(sensor11,10)\n",
    "plt.figure(figsize=(25,5))\n",
    "plt.subplot(1,1,1)\n",
    "custom_plot(x=sensor11aug.index, y=sensor11aug.value)\n",
    "plt.title('Maximum Daily Values for c159c730 Sensor in August')"
   ]
  },
  {
   "cell_type": "code",
   "execution_count": null,
   "metadata": {},
   "outputs": [],
   "source": [
    "# Sensor 12 plot -  Data only available in August\n",
    "sensor12 = getgroup('c159ee40-8679-11e6-a353-2f6c041e2491')\n",
    "#sensor12jul = groupget(sensor12,7)\n",
    "sensor12aug = groupget(sensor12,8)\n",
    "#sensor12sep = groupget(sensor12,9)\n",
    "#sensor12oct = groupget(sensor12,10)\n",
    "plt.figure(figsize=(25,5))\n",
    "plt.subplot(1,1,1)\n",
    "custom_plot(x=sensor12aug.index, y=sensor12aug.value)\n",
    "plt.title('Maximum Daily Values for c159ee40 Sensor in August')"
   ]
  },
  {
   "cell_type": "code",
   "execution_count": null,
   "metadata": {},
   "outputs": [],
   "source": [
    "# Sensor 13 plot -  Data only available in August \n",
    "sensor13 = getgroup('c15a6371-8679-11e6-a353-2f6c041e2491')\n",
    "#sensor13jul = groupget(sensor13,7)\n",
    "sensor13aug = groupget(sensor13,8)\n",
    "#sensor13sep = groupget(sensor13,9)\n",
    "#sensor13oct = groupget(sensor13,10)\n",
    "plt.figure(figsize=(25,5))\n",
    "plt.subplot(1,1,1)\n",
    "custom_plot(x=sensor13aug.index, y=sensor13aug.value)\n",
    "plt.title('Maximum Daily Values for c15a6371 Sensor in August')"
   ]
  },
  {
   "cell_type": "code",
   "execution_count": null,
   "metadata": {},
   "outputs": [],
   "source": [
    "# Sensor 14 plot -  Data only available in August \n",
    "sensor14 = getgroup('c15a6372-8679-11e6-a353-2f6c041e2491')\n",
    "#sensor14jul = groupget(sensor14,7)\n",
    "sensor14aug = groupget(sensor14,8)\n",
    "#sensor14sep = groupget(sensor14,9)\n",
    "#sensor14oct = groupget(sensor14,10)\n",
    "plt.figure(figsize=(25,5))\n",
    "plt.subplot(1,1,1)\n",
    "custom_plot(x=sensor14aug.index, y=sensor14aug.value)\n",
    "plt.title('Maximum Daily Values for c15a6372 Sensor in August')"
   ]
  },
  {
   "cell_type": "code",
   "execution_count": null,
   "metadata": {},
   "outputs": [],
   "source": [
    "# Sensor 15 plot -  Data only available in August \n",
    "sensor15 = getgroup('c15c5f40-8679-11e6-a353-2f6c041e2491')\n",
    "#sensor15jul = groupget(sensor15,7)\n",
    "sensor15aug = groupget(sensor15,8)\n",
    "#sensor15sep = groupget(sensor15,9)\n",
    "#sensor15oct = groupget(sensor15,10)\n",
    "plt.figure(figsize=(25,5))\n",
    "plt.subplot(1,1,1)\n",
    "custom_plot(x=sensor15aug.index, y=sensor15aug.value)\n",
    "plt.title('Maximum Daily Values for c15c5f40 Sensor in August')"
   ]
  },
  {
   "cell_type": "code",
   "execution_count": null,
   "metadata": {},
   "outputs": [],
   "source": [
    "# Sensor 16 plot -  Data only available in August \n",
    "sensor16 = getgroup('c15ef750-8679-11e6-a353-2f6c041e2491')\n",
    "#sensor16jul = groupget(sensor16,7)\n",
    "sensor16aug = groupget(sensor16,8)\n",
    "#sensor16sep = groupget(sensor16,9)\n",
    "#sensor16oct = groupget(sensor16,10)\n",
    "plt.figure(figsize=(25,5))\n",
    "plt.subplot(1,1,1)\n",
    "custom_plot(x=sensor16aug.index, y=sensor16aug.value)\n",
    "plt.title('Maximum Daily Values for c15ef750 Sensor in August')"
   ]
  },
  {
   "cell_type": "code",
   "execution_count": null,
   "metadata": {},
   "outputs": [],
   "source": [
    "# Sensor 17 plot -  Data only available in August and September\n",
    "sensor17 = getgroup('76427350-8679-11e6-a353-2f6c041e2491')\n",
    "#sensor17jul = groupget(sensor17,7)\n",
    "sensor17aug = groupget(sensor17,8)\n",
    "sensor17sep = groupget(sensor17,9)\n",
    "#sensor17oct = groupget(sensor17,10)\n",
    "plt.figure(figsize=(25,5))\n",
    "plt.subplot(1,2,1)\n",
    "custom_plot(x=sensor17aug.index, y=sensor17aug.value)\n",
    "plt.title('Maximum Daily Values for 76427350 Sensor in August')\n",
    "plt.subplot(1,2,2)\n",
    "custom_plot(x=sensor17sep.index, y=sensor17sep.value)\n",
    "plt.title('Maximum Daily Values for 76427350 Sensor in September')"
   ]
  },
  {
   "cell_type": "code",
   "execution_count": null,
   "metadata": {},
   "outputs": [],
   "source": [
    "# Sensor 18 plot -  Data only available in August and September is empty\n",
    "sensor18 = getgroup('76427351-8679-11e6-a353-2f6c041e2491')\n",
    "#sensor18jul = groupget(sensor18,7)\n",
    "sensor18aug = groupget(sensor18,8)\n",
    "sensor18sep = groupget(sensor18,9)\n",
    "#sensor18oct = groupget(sensor18,10)\n",
    "plt.figure(figsize=(25,5))\n",
    "plt.subplot(1,2,1)\n",
    "custom_plot(x=sensor18aug.index, y=sensor18aug.value)\n",
    "plt.title('Maximum Daily Values for 76427351 Sensor in August')\n",
    "plt.subplot(1,2,2)\n",
    "custom_plot(x=sensor18sep.index, y=sensor18sep.value)\n",
    "plt.title('Maximum Daily Values for 76427351 Sensor in September')"
   ]
  },
  {
   "cell_type": "code",
   "execution_count": null,
   "metadata": {},
   "outputs": [],
   "source": [
    "# Sensor 19 plot -  Data only available in August and September\n",
    "sensor19 = getgroup('7644bd40-8679-11e6-a353-2f6c041e2491')\n",
    "#sensor19jul = groupget(sensor18,7)\n",
    "sensor19aug = groupget(sensor19,8)\n",
    "sensor19sep = groupget(sensor19,9)\n",
    "#sensor19oct = groupget(sensor18,10)\n",
    "plt.figure(figsize=(25,5))\n",
    "plt.subplot(1,2,1)\n",
    "custom_plot(x=sensor19aug.index, y=sensor19aug.value)\n",
    "plt.title('Maximum Daily Values for 76427351 Sensor in August')\n",
    "plt.subplot(1,2,2)\n",
    "custom_plot(x=sensor19sep.index, y=sensor19sep.value)\n",
    "plt.title('Maximum Daily Values for 76427351 Sensor in September')"
   ]
  },
  {
   "cell_type": "code",
   "execution_count": null,
   "metadata": {},
   "outputs": [],
   "source": [
    "# Sensor 20 plot -  Data only available in August and September\n",
    "sensor20 = getgroup('7645ceb0-8679-11e6-a353-2f6c041e2491')\n",
    "#sensor20jul = groupget(sensor20,7)\n",
    "sensor20aug = groupget(sensor20,8)\n",
    "sensor20sep = groupget(sensor20,9)\n",
    "#sensor20oct = groupget(sensor20,10)\n",
    "plt.figure(figsize=(25,5))\n",
    "plt.subplot(1,2,1)\n",
    "custom_plot(x=sensor20aug.index, y=sensor20aug.value)\n",
    "plt.title('Maximum Daily Values for 7645ceb0 Sensor in August')\n",
    "plt.subplot(1,2,2)\n",
    "custom_plot(x=sensor20sep.index, y=sensor20sep.value)\n",
    "plt.title('Maximum Daily Values for 7645ceb0 Sensor in September')"
   ]
  },
  {
   "cell_type": "code",
   "execution_count": null,
   "metadata": {},
   "outputs": [],
   "source": [
    "# Sensor 21 plot -  Data only available in August and September\n",
    "sensor21 = getgroup('7645ceb1-8679-11e6-a353-2f6c041e2491')\n",
    "#sensor20jul = groupget(sensor20,7)\n",
    "sensor21aug = groupget(sensor21,8)\n",
    "sensor21sep = groupget(sensor21,9)\n",
    "#sensor20oct = groupget(sensor20,10)\n",
    "plt.figure(figsize=(25,5))\n",
    "plt.subplot(1,2,1)\n",
    "custom_plot(x=sensor21aug.index, y=sensor21aug.value)\n",
    "plt.title('Maximum Daily Values for 7645ceb1 Sensor in August')\n",
    "plt.subplot(1,2,2)\n",
    "custom_plot(x=sensor21sep.index, y=sensor21sep.value)\n",
    "plt.title('Maximum Daily Values for 7645ceb1 Sensor in September')"
   ]
  },
  {
   "cell_type": "code",
   "execution_count": null,
   "metadata": {},
   "outputs": [],
   "source": [
    "# Sensor 22 plot -  Empty data for this sensor\n",
    "sensor22 = getgroup('763701a1-8679-11e6-a353-2f6c041e2491')\n",
    "#sensor22jul = groupget(sensor22,7)\n",
    "sensor22aug = groupget(sensor22,8)\n",
    "sensor22sep = groupget(sensor22,9)\n",
    "#sensor22oct = groupget(sensor22,10)\n",
    "plt.figure(figsize=(25,5))\n",
    "plt.subplot(1,2,1)\n",
    "custom_plot(x=sensor22aug.index, y=sensor22aug.value)\n",
    "plt.title('Maximum Daily Values for 763701a1 Sensor in August')\n",
    "plt.subplot(1,2,2)\n",
    "custom_plot(x=sensor22sep.index, y=sensor22sep.value)\n",
    "plt.title('Maximum Daily Values for 763701a1 Sensor in September')"
   ]
  },
  {
   "cell_type": "code",
   "execution_count": null,
   "metadata": {},
   "outputs": [],
   "source": [
    "# Sensor 23 plot -  Data only available in August \n",
    "sensor23 = getgroup('c15f9391-8679-11e6-a353-2f6c041e2491')\n",
    "#sensor22jul = groupget(sensor22,7)\n",
    "sensor23aug = groupget(sensor23,8)\n",
    "#sensor23sep = groupget(sensor23,9)\n",
    "#sensor22oct = groupget(sensor22,10)\n",
    "plt.figure(figsize=(25,5))\n",
    "plt.subplot(1,1,1)\n",
    "custom_plot(x=sensor23aug.index, y=sensor23aug.value)\n",
    "plt.title('Maximum Daily Values for c15f9391 Sensor in August')\n"
   ]
  },
  {
   "cell_type": "code",
   "execution_count": null,
   "metadata": {},
   "outputs": [],
   "source": [
    "# Sensor 24 plot -  Data only available in August\n",
    "sensor24 = getgroup('c162c7e0-8679-11e6-a353-2f6c041e2491')\n",
    "#sensor24jul = groupget(sensor24,7)\n",
    "sensor24aug = groupget(sensor24,8)\n",
    "#sensor24sep = groupget(sensor24,9)\n",
    "#sensor24oct = groupget(sensor24,10)\n",
    "plt.figure(figsize=(25,5))\n",
    "plt.subplot(1,1,1)\n",
    "custom_plot(x=sensor24aug.index, y=sensor24aug.value)\n",
    "plt.title('Maximum Daily Values for c162c7e0 Sensor in August')"
   ]
  },
  {
   "cell_type": "code",
   "execution_count": null,
   "metadata": {},
   "outputs": [],
   "source": [
    "# Sensor 2 plot -  Data only available in August\n",
    "sensor25 = getgroup('c15f9390-8679-11e6-a353-2f6c041e2491')\n",
    "#sensor25jul = groupget(sensor25,7)\n",
    "sensor25aug = groupget(sensor25,8)\n",
    "#sensor24sep = groupget(sensor24,9)\n",
    "#sensor24oct = groupget(sensor24,10)\n",
    "plt.figure(figsize=(25,5))\n",
    "plt.subplot(1,1,1)\n",
    "custom_plot(x=sensor25aug.index, y=sensor25aug.value)\n",
    "plt.title('Maximum Daily Values for c15f9390 Sensor in August')"
   ]
  },
  {
   "cell_type": "code",
   "execution_count": null,
   "metadata": {},
   "outputs": [],
   "source": [
    "# Sensor 26 plot -  Data only available in August\n",
    "sensor26 = getgroup('c15fbaa0-8679-11e6-a353-2f6c041e2491')\n",
    "#sensor26jul = groupget(sensor26,7)\n",
    "sensor26aug = groupget(sensor26,8)\n",
    "#sensor26sep = groupget(sensor26,9)\n",
    "#sensor26oct = groupget(sensor26,10)\n",
    "plt.figure(figsize=(25,5))\n",
    "plt.subplot(1,1,1)\n",
    "custom_plot(x=sensor26aug.index, y=sensor26aug.value)\n",
    "plt.title('Maximum Daily Values for c15fbaa0 Sensor in August')\n"
   ]
  },
  {
   "cell_type": "code",
   "execution_count": null,
   "metadata": {},
   "outputs": [],
   "source": [
    "# Sensor 27 plot -  Data only available in August\n",
    "sensor27 = getgroup('c15fbaa1-8679-11e6-a353-2f6c041e2491')\n",
    "#sensor27jul = groupget(sensor26,7)\n",
    "sensor27aug = groupget(sensor27,8)\n",
    "#sensor27sep = groupget(sensor27,9)\n",
    "#sensor27oct = groupget(sensor27,10)\n",
    "plt.figure(figsize=(25,5))\n",
    "plt.subplot(1,1,1)\n",
    "custom_plot(x=sensor27aug.index, y=sensor27aug.value)\n",
    "plt.title('Maximum Daily Values for c15fbaa1 Sensor in August')"
   ]
  },
  {
   "cell_type": "code",
   "execution_count": null,
   "metadata": {},
   "outputs": [],
   "source": [
    "# Sensor 28 plot -  Data only available in August and September, empty data in october\n",
    "sensor28 = getgroup('763701a0-8679-11e6-a353-2f6c041e2491')\n",
    "#sensor5jul = groupget(sensor5,7)\n",
    "sensor28aug = groupget(sensor28,8)\n",
    "sensor28sep = groupget(sensor28,9)\n",
    "sensor28oct = groupget(sensor28,10)\n",
    "plt.figure(figsize=(25,5))\n",
    "plt.subplot(1,3,1)\n",
    "custom_plot(x=sensor28aug.index, y=sensor28aug.value)\n",
    "plt.title('Maximum Daily Values for 763701a0 Sensor in August')\n",
    "plt.subplot(1,3,2)\n",
    "custom_plot(x=sensor28sep.index, y=sensor28sep.value)\n",
    "plt.title('Maximum Daily Values for 763701a0 Sensor in September')\n",
    "plt.subplot(1,3,3)\n",
    "custom_plot(x=sensor28oct.index, y=sensor28oct.value)\n",
    "plt.title('Maximum Daily Values for 763701a0 Sensor in October')"
   ]
  },
  {
   "cell_type": "code",
   "execution_count": null,
   "metadata": {},
   "outputs": [],
   "source": [
    "# Sensor 29 plot -  Data only available in August. Empty data in September and October\n",
    "sensor29 = getgroup('d3cea980-8679-11e6-a353-2f6c041e2491')\n",
    "#sensor29jul = groupget(sensor29,7)\n",
    "sensor29aug = groupget(sensor29,8)\n",
    "sensor29sep = groupget(sensor29,9)\n",
    "sensor29oct = groupget(sensor29,10)\n",
    "plt.figure(figsize=(25,5))\n",
    "plt.subplot(1,3,1)\n",
    "custom_plot(x=sensor29aug.index, y=sensor29aug.value)\n",
    "plt.title('Maximum Daily Values for d3cea980 Sensor in August')\n",
    "plt.subplot(1,3,2)\n",
    "custom_plot(x=sensor29sep.index, y=sensor29sep.value)\n",
    "plt.title('Maximum Daily Values for d3cea980 Sensor in September')\n",
    "plt.subplot(1,3,3)\n",
    "custom_plot(x=sensor29oct.index, y=sensor29oct.value)\n",
    "plt.title('Maximum Daily Values for d3cea980 Sensor in October')"
   ]
  },
  {
   "cell_type": "code",
   "execution_count": null,
   "metadata": {},
   "outputs": [],
   "source": [
    "# Sensor 30 plot -  Data only available in August and September, October has empty values\n",
    "sensor30 = getgroup('763bbc90-8679-11e6-a353-2f6c041e2491')\n",
    "#sensor5jul = groupget(sensor5,7)\n",
    "sensor30aug = groupget(sensor30,8)\n",
    "sensor30sep = groupget(sensor30,9)\n",
    "sensor30oct = groupget(sensor30,10)\n",
    "plt.figure(figsize=(25,5))\n",
    "plt.subplot(1,3,1)\n",
    "custom_plot(x=sensor30aug.index, y=sensor30aug.value)\n",
    "plt.title('Maximum Daily Values for 763bbc90 Sensor in August')\n",
    "plt.subplot(1,3,2)\n",
    "custom_plot(x=sensor30sep.index, y=sensor30sep.value)\n",
    "plt.title('Maximum Daily Values for 763bbc90 Sensor in September')\n",
    "plt.subplot(1,3,3)\n",
    "custom_plot(x=sensor30oct.index, y=sensor30oct.value)\n",
    "plt.title('Maximum Daily Values for 763bbc90 Sensor in October')"
   ]
  },
  {
   "cell_type": "code",
   "execution_count": null,
   "metadata": {},
   "outputs": [],
   "source": [
    "# Sensor 31 plot -  Data only available in August and September, October has empty values\n",
    "sensor31 = getgroup('763d6a40-8679-11e6-a353-2f6c041e2491')\n",
    "#sensor31jul = groupget(sensor31,7)\n",
    "sensor31aug = groupget(sensor31,8)\n",
    "sensor31sep = groupget(sensor31,9)\n",
    "sensor31oct = groupget(sensor31,10)\n",
    "plt.figure(figsize=(25,5))\n",
    "plt.subplot(1,3,1)\n",
    "custom_plot(x=sensor31aug.index, y=sensor31aug.value)\n",
    "plt.title('Maximum Daily Values for 763d6a40 Sensor in August')\n",
    "plt.subplot(1,3,2)\n",
    "custom_plot(x=sensor31sep.index, y=sensor31sep.value)\n",
    "plt.title('Maximum Daily Values for 763d6a40 Sensor in September')\n",
    "plt.subplot(1,3,3)\n",
    "custom_plot(x=sensor31oct.index, y=sensor31oct.value)\n",
    "plt.title('Maximum Daily Values for 763d6a40 Sensor in October')"
   ]
  },
  {
   "cell_type": "code",
   "execution_count": null,
   "metadata": {},
   "outputs": [],
   "source": [
    "# Sensor 32 plot -  Data only available in August and September, October has empty values\n",
    "sensor32 = getgroup('76402960-8679-11e6-a353-2f6c041e2491')\n",
    "#sensor31jul = groupget(sensor31,7)\n",
    "sensor32aug = groupget(sensor32,8)\n",
    "sensor32sep = groupget(sensor32,9)\n",
    "sensor32oct = groupget(sensor32,10)\n",
    "plt.figure(figsize=(25,5))\n",
    "plt.subplot(1,3,1)\n",
    "custom_plot(x=sensor32aug.index, y=sensor32aug.value)\n",
    "plt.title('Maximum Daily Values for 76402960 Sensor in August')\n",
    "plt.subplot(1,3,2)\n",
    "custom_plot(x=sensor32sep.index, y=sensor32sep.value)\n",
    "plt.title('Maximum Daily Values for 76402960 Sensor in September')\n",
    "plt.subplot(1,3,3)\n",
    "custom_plot(x=sensor32oct.index, y=sensor32oct.value)\n",
    "plt.title('Maximum Daily Values for 76402960 Sensor in October')"
   ]
  },
  {
   "cell_type": "code",
   "execution_count": null,
   "metadata": {},
   "outputs": [],
   "source": [
    "# Sensor 33 plot -  Data only available in August and September, October has empty values\n",
    "sensor33 = getgroup('d3cf6cd0-8679-11e6-a353-2f6c041e2491')\n",
    "#sensor33jul = groupget(sensor33,7)\n",
    "sensor33aug = groupget(sensor33,8)\n",
    "sensor33sep = groupget(sensor33,9)\n",
    "sensor33oct = groupget(sensor33,10)\n",
    "plt.figure(figsize=(25,5))\n",
    "plt.subplot(1,3,1)\n",
    "custom_plot(x=sensor33aug.index, y=sensor33aug.value)\n",
    "plt.title('Maximum Daily Values for d3cf6cd0 Sensor in August')\n",
    "plt.subplot(1,3,2)\n",
    "custom_plot(x=sensor33sep.index, y=sensor33sep.value)\n",
    "plt.title('Maximum Daily Values for d3cf6cd0 Sensor in September')\n",
    "plt.subplot(1,3,3)\n",
    "custom_plot(x=sensor33oct.index, y=sensor33oct.value)\n",
    "plt.title('Maximum Daily Values for d3cf6cd0 Sensor in October')"
   ]
  },
  {
   "cell_type": "code",
   "execution_count": null,
   "metadata": {},
   "outputs": [],
   "source": [
    "# Sensor 34 plot -  Data only available in August,September and October\n",
    "sensor34 = getgroup('d3cd7100-8679-11e6-a353-2f6c041e2491')\n",
    "#sensor34jul = groupget(sensor34,7)\n",
    "sensor34aug = groupget(sensor34,8)\n",
    "sensor34sep = groupget(sensor34,9)\n",
    "sensor34oct = groupget(sensor34,10)\n",
    "plt.figure(figsize=(25,5))\n",
    "plt.subplot(1,3,1)\n",
    "custom_plot(x=sensor34aug.index, y=sensor34aug.value)\n",
    "plt.title('Maximum Daily Values for d3cd7100 Sensor in August')\n",
    "plt.subplot(1,3,2)\n",
    "custom_plot(x=sensor34sep.index, y=sensor34sep.value)\n",
    "plt.title('Maximum Daily Values for d3cd7100 Sensor in September')\n",
    "plt.subplot(1,3,3)\n",
    "custom_plot(x=sensor34oct.index, y=sensor34oct.value)\n",
    "plt.title('Maximum Daily Values for d3cd7100 Sensor in October')"
   ]
  },
  {
   "cell_type": "code",
   "execution_count": null,
   "metadata": {},
   "outputs": [],
   "source": [
    "# Sensor 35 plot -  Data only available in August and September\n",
    "sensor35 = getgroup('7635f030-8679-11e6-a353-2f6c041e2491')\n",
    "#sensor3jul = groupget(sensor3,7)\n",
    "sensor35aug = groupget(sensor35,8)\n",
    "sensor35sep = groupget(sensor35,9)\n",
    "plt.figure(figsize=(25,5))\n",
    "# plt.subplot(1,3,2)\n",
    "# custom_plot(x=sensor3jul.index, y=sensor3jul.value)\n",
    "# plt.title('Maximum Daily Values for 7635c920 Sensor in September')\n",
    "plt.subplot(1,3,1)\n",
    "custom_plot(x=sensor35aug.index, y=sensor35aug.value)\n",
    "plt.title('Maximum Daily Values for 7635f030 Sensor in August')\n",
    "plt.subplot(1,3,2)\n",
    "custom_plot(x=sensor35sep.index, y=sensor35sep.value)\n",
    "plt.title('Maximum Daily Values for 7635f030 Sensor in September')\n"
   ]
  },
  {
   "cell_type": "code",
   "execution_count": null,
   "metadata": {},
   "outputs": [],
   "source": [
    "# Sensor 36 plot -  Empty values in August \n",
    "sensor36 = getgroup('c5e80c70-867a-11e6-a353-2f6c041e2491')\n",
    "#sensor5jul = groupget(sensor5,7)\n",
    "sensor36aug = groupget(sensor36,8)\n",
    "#sensor36sep = groupget(sensor36,9)\n",
    "#sensor36oct = groupget(sensor36,10)\n",
    "plt.figure(figsize=(25,5))\n",
    "plt.subplot(1,1,1)\n",
    "custom_plot(x=sensor36aug.index, y=sensor36aug.value)\n",
    "plt.title('Maximum Daily Values for c5e80c70 Sensor in August')\n"
   ]
  },
  {
   "cell_type": "code",
   "execution_count": null,
   "metadata": {},
   "outputs": [],
   "source": [
    "# Sensor 37 plot -  Data only available in August. Empty values in September and October\n",
    "sensor37 = getgroup('d3d909c1-8679-11e6-a353-2f6c041e2491')\n",
    "#sensor37jul = groupget(sensor37,7)\n",
    "sensor37aug = groupget(sensor37,8)\n",
    "sensor37sep = groupget(sensor37,9)\n",
    "sensor37oct = groupget(sensor37,10)\n",
    "plt.figure(figsize=(25,5))\n",
    "plt.subplot(1,3,1)\n",
    "custom_plot(x=sensor37aug.index, y=sensor37aug.value)\n",
    "plt.title('Maximum Daily Values for d3d909c1 Sensor in August')\n",
    "plt.subplot(1,3,2)\n",
    "custom_plot(x=sensor37sep.index, y=sensor37sep.value)\n",
    "plt.title('Maximum Daily Values for d3d909c1 Sensor in September')\n",
    "plt.subplot(1,3,3)\n",
    "custom_plot(x=sensor37oct.index, y=sensor37oct.value)\n",
    "plt.title('Maximum Daily Values for d3d909c1 Sensor in October')"
   ]
  },
  {
   "cell_type": "code",
   "execution_count": null,
   "metadata": {},
   "outputs": [],
   "source": [
    "# Sensor 38 plot -  Data only available in August. Empty values in September and October\n",
    "sensor38 = getgroup('d3cf45c0-8679-11e6-a353-2f6c041e2491')\n",
    "#sensor37jul = groupget(sensor37,7)\n",
    "sensor38aug = groupget(sensor38,8)\n",
    "sensor38sep = groupget(sensor38,9)\n",
    "sensor38oct = groupget(sensor38,10)\n",
    "plt.figure(figsize=(25,5))\n",
    "plt.subplot(1,3,1)\n",
    "custom_plot(x=sensor38aug.index, y=sensor38aug.value)\n",
    "plt.title('Maximum Daily Values for d3cf45c0 Sensor in August')\n",
    "plt.subplot(1,3,2)\n",
    "custom_plot(x=sensor38sep.index, y=sensor38sep.value)\n",
    "plt.title('Maximum Daily Values for d3cf45c0 Sensor in September')\n",
    "plt.subplot(1,3,3)\n",
    "custom_plot(x=sensor38oct.index, y=sensor38oct.value)\n",
    "plt.title('Maximum Daily Values for d3cf45c0 Sensor in October')"
   ]
  },
  {
   "cell_type": "code",
   "execution_count": null,
   "metadata": {},
   "outputs": [],
   "source": [
    "# Sensor 39 plot -  Data only available in August and September. Empty sensor values in October\n",
    "sensor39 = getgroup('d3d0cc60-8679-11e6-a353-2f6c041e2491')\n",
    "#sensor39jul = groupget(sensor39,7)\n",
    "sensor39aug = groupget(sensor39,8)\n",
    "sensor39sep = groupget(sensor39,9)\n",
    "sensor39oct = groupget(sensor39,10)\n",
    "plt.figure(figsize=(25,5))\n",
    "plt.subplot(1,3,1)\n",
    "custom_plot(x=sensor39aug.index, y=sensor39aug.value)\n",
    "plt.title('Maximum Daily Values for d3d0cc60 Sensor in August')\n",
    "plt.subplot(1,3,2)\n",
    "custom_plot(x=sensor39sep.index, y=sensor39sep.value)\n",
    "plt.title('Maximum Daily Values for d3d0cc60 Sensor in September')\n",
    "plt.subplot(1,3,3)\n",
    "custom_plot(x=sensor39oct.index, y=sensor39oct.value)\n",
    "plt.title('Maximum Daily Values for d3d0cc60 Sensor in October')"
   ]
  },
  {
   "cell_type": "code",
   "execution_count": null,
   "metadata": {},
   "outputs": [],
   "source": [
    "# Sensor 40 plot -  Data only available in August. Empty values in September and October\n",
    "sensor40 = getgroup('d3d56040-8679-11e6-a353-2f6c041e2491')\n",
    "#sensor39jul = groupget(sensor39,7)\n",
    "sensor40aug = groupget(sensor40,8)\n",
    "sensor40sep = groupget(sensor40,9)\n",
    "sensor40oct = groupget(sensor40,10)\n",
    "plt.figure(figsize=(25,5))\n",
    "plt.subplot(1,3,1)\n",
    "custom_plot(x=sensor40aug.index, y=sensor40aug.value)\n",
    "plt.title('Maximum Daily Values for d3d56040 Sensor in August')\n",
    "plt.subplot(1,3,2)\n",
    "custom_plot(x=sensor40sep.index, y=sensor40sep.value)\n",
    "plt.title('Maximum Daily Values for d3d56040 Sensor in September')\n",
    "plt.subplot(1,3,3)\n",
    "custom_plot(x=sensor40oct.index, y=sensor40oct.value)\n",
    "plt.title('Maximum Daily Values for d3d56040 Sensor in October')"
   ]
  },
  {
   "cell_type": "code",
   "execution_count": null,
   "metadata": {},
   "outputs": [],
   "source": [
    "# Sensor 41 plot -  Data available in August and September\n",
    "sensor41 = getgroup('e66592c0-8679-11e6-a353-2f6c041e2491')\n",
    "#sensor39jul = groupget(sensor39,7)\n",
    "sensor41aug = groupget(sensor41,8)\n",
    "sensor41sep = groupget(sensor41,9)\n",
    "#sensor41oct = groupget(sensor41,10)\n",
    "plt.figure(figsize=(25,5))\n",
    "plt.subplot(1,2,1)\n",
    "custom_plot(x=sensor41aug.index, y=sensor41aug.value)\n",
    "plt.title('Maximum Daily Values for e66592c0 Sensor in August')\n",
    "plt.subplot(1,2,2)\n",
    "custom_plot(x=sensor41sep.index, y=sensor41sep.value)\n",
    "plt.title('Maximum Daily Values for e66592c0 Sensor in September')\n"
   ]
  },
  {
   "cell_type": "code",
   "execution_count": null,
   "metadata": {},
   "outputs": [],
   "source": [
    "# Sensor 42 plot -  Data only available in August. Empty values in September\n",
    "sensor42 = getgroup('e6691530-8679-11e6-a353-2f6c041e2491')\n",
    "#sensor42jul = groupget(sensor42,7)\n",
    "sensor42aug = groupget(sensor42,8)\n",
    "sensor42sep = groupget(sensor42,9)\n",
    "#sensor42oct = groupget(sensor42,10)\n",
    "plt.figure(figsize=(25,5))\n",
    "plt.subplot(1,2,1)\n",
    "custom_plot(x=sensor42aug.index, y=sensor42aug.value)\n",
    "plt.title('Maximum Daily Values for e6691530 Sensor in August')\n",
    "plt.subplot(1,2,2)\n",
    "custom_plot(x=sensor42sep.index, y=sensor42sep.value)\n",
    "plt.title('Maximum Daily Values for e6691530 Sensor in September')"
   ]
  },
  {
   "cell_type": "code",
   "execution_count": null,
   "metadata": {},
   "outputs": [],
   "source": [
    "# Sensor 43 plot -  Data only available in August. Empty values in September and October\n",
    "sensor43 = getgroup('d3d909c0-8679-11e6-a353-2f6c041e2491')\n",
    "#sensor43jul = groupget(sensor43,7)\n",
    "sensor43aug = groupget(sensor43,8)\n",
    "sensor43sep = groupget(sensor43,9)\n",
    "sensor43oct = groupget(sensor43,10)\n",
    "plt.figure(figsize=(25,5))\n",
    "plt.subplot(1,3,1)\n",
    "custom_plot(x=sensor43aug.index, y=sensor43aug.value)\n",
    "plt.title('Maximum Daily Values for d3d909c0 Sensor in August')\n",
    "plt.subplot(1,3,2)\n",
    "custom_plot(x=sensor43sep.index, y=sensor43sep.value)\n",
    "plt.title('Maximum Daily Values for d3d909c0 Sensor in September')\n",
    "plt.subplot(1,3,3)\n",
    "custom_plot(x=sensor43oct.index, y=sensor43oct.value)\n",
    "plt.title('Maximum Daily Values for d3d909c0 Sensor in October')"
   ]
  },
  {
   "cell_type": "code",
   "execution_count": null,
   "metadata": {},
   "outputs": [],
   "source": [
    "# Sensor 44 plot -  Data only available in August and September. Empty values in October\n",
    "sensor44 = getgroup('d3d168a0-8679-11e6-a353-2f6c041e2491')\n",
    "#sensor43jul = groupget(sensor43,7)\n",
    "sensor44aug = groupget(sensor44,8)\n",
    "sensor44sep = groupget(sensor44,9)\n",
    "sensor44oct = groupget(sensor44,10)\n",
    "plt.figure(figsize=(25,5))\n",
    "plt.subplot(1,3,1)\n",
    "custom_plot(x=sensor44aug.index, y=sensor44aug.value)\n",
    "plt.title('Maximum Daily Values for d3d168a0 Sensor in August')\n",
    "plt.subplot(1,3,2)\n",
    "custom_plot(x=sensor44sep.index, y=sensor44sep.value)\n",
    "plt.title('Maximum Daily Values for d3d168a0 Sensor in September')\n",
    "plt.subplot(1,3,3)\n",
    "custom_plot(x=sensor44oct.index, y=sensor44oct.value)\n",
    "plt.title('Maximum Daily Values for d3d168a0 Sensor in October')"
   ]
  },
  {
   "cell_type": "code",
   "execution_count": null,
   "metadata": {},
   "outputs": [],
   "source": [
    "# Sensor 45 plot -  Data only available in August. Empty values in September and October\n",
    "sensor45 = getgroup('d3d53930-8679-11e6-a353-2f6c041e2491')\n",
    "#sensor43jul = groupget(sensor43,7)\n",
    "sensor45aug = groupget(sensor45,8)\n",
    "sensor45sep = groupget(sensor45,9)\n",
    "sensor45oct = groupget(sensor45,10)\n",
    "plt.figure(figsize=(25,5))\n",
    "plt.subplot(1,3,1)\n",
    "custom_plot(x=sensor45aug.index, y=sensor45aug.value)\n",
    "plt.title('Maximum Daily Values for d3d53930 Sensor in August')\n",
    "plt.subplot(1,3,2)\n",
    "custom_plot(x=sensor45sep.index, y=sensor45sep.value)\n",
    "plt.title('Maximum Daily Values for d3d53930 Sensor in September')\n",
    "plt.subplot(1,3,3)\n",
    "custom_plot(x=sensor45oct.index, y=sensor45oct.value)\n",
    "plt.title('Maximum Daily Values for d3d53930 Sensor in October')"
   ]
  },
  {
   "cell_type": "code",
   "execution_count": null,
   "metadata": {},
   "outputs": [],
   "source": [
    "# Sensor 46 plot -  Empty values in August and September\n",
    "sensor46 = getgroup('e66851e1-8679-11e6-a353-2f6c041e2491')\n",
    "#sensor46jul = groupget(sensor46,7)\n",
    "sensor46aug = groupget(sensor46,8)\n",
    "sensor46sep = groupget(sensor46,9)\n",
    "#sensor46oct = groupget(sensor46,10)\n",
    "plt.figure(figsize=(25,5))\n",
    "plt.subplot(1,2,1)\n",
    "custom_plot(x=sensor46aug.index, y=sensor46aug.value)\n",
    "plt.title('Maximum Daily Values for e66851e1 Sensor in August')\n",
    "plt.subplot(1,2,2)\n",
    "custom_plot(x=sensor46sep.index, y=sensor46sep.value)\n",
    "plt.title('Maximum Daily Values for e66851e1 Sensor in September')\n"
   ]
  },
  {
   "cell_type": "code",
   "execution_count": null,
   "metadata": {},
   "outputs": [],
   "source": [
    "# Sensor 47 plot -  Data only available in August.\n",
    "sensor47 = getgroup('c5e8a8b0-867a-11e6-a353-2f6c041e2491')\n",
    "#sensor46jul = groupget(sensor46,7)\n",
    "sensor47aug = groupget(sensor47,8)\n",
    "#sensor47sep = groupget(sensor47,9)\n",
    "#sensor47oct = groupget(sensor47,10)\n",
    "plt.figure(figsize=(25,5))\n",
    "plt.subplot(1,1,1)\n",
    "custom_plot(x=sensor47aug.index, y=sensor47aug.value)\n",
    "plt.title('Maximum Daily Values for c5e8a8b0 Sensor in August')"
   ]
  },
  {
   "cell_type": "code",
   "execution_count": null,
   "metadata": {},
   "outputs": [],
   "source": [
    "# Sensor 48 plot -  Complete data available in July and August.\n",
    "sensor48 = getgroup('1248ff60-e707-11e6-89c8-314aa4f67f8c')\n",
    "sensor48jul = groupget(sensor48,7)\n",
    "sensor48aug = groupget(sensor48,8)\n",
    "#sensor48sep = groupget(sensor48,9)\n",
    "#sensor48oct = groupget(sensor48,10)\n",
    "plt.figure(figsize=(25,5))\n",
    "plt.subplot(1,2,1)\n",
    "custom_plot(x=sensor48jul.index, y=sensor48jul.value)\n",
    "plt.title('Maximum Daily Values for 1248ff60 Sensor in August')\n",
    "plt.subplot(1,2,2)\n",
    "custom_plot(x=sensor48aug.index, y=sensor48aug.value)\n",
    "plt.title('Maximum Daily Values for 1248ff60 Sensor in September')"
   ]
  },
  {
   "cell_type": "code",
   "execution_count": null,
   "metadata": {},
   "outputs": [],
   "source": [
    "# Sensor 49 plot -  Data only available in August. Empty values in September\n",
    "sensor49 = getgroup('e6678e90-8679-11e6-a353-2f6c041e2491')\n",
    "#sensor46jul = groupget(sensor46,7)\n",
    "sensor49aug = groupget(sensor49,8)\n",
    "sensor49sep = groupget(sensor49,9)\n",
    "#sensor49oct = groupget(sensor49,10)\n",
    "plt.figure(figsize=(25,5))\n",
    "plt.subplot(1,2,1)\n",
    "custom_plot(x=sensor49aug.index, y=sensor49aug.value)\n",
    "plt.title('Maximum Daily Values for e6678e90 Sensor in August')\n",
    "plt.subplot(1,2,2)\n",
    "custom_plot(x=sensor49sep.index, y=sensor49sep.value)\n",
    "plt.title('Maximum Daily Values for e6678e90 Sensor in September')"
   ]
  },
  {
   "cell_type": "code",
   "execution_count": null,
   "metadata": {},
   "outputs": [],
   "source": [
    "# Sensor 50 plot -  Data only available in August. Empty values in September and October\n",
    "sensor50 = getgroup('d3d698c0-8679-11e6-a353-2f6c041e2491')\n",
    "#sensor50jul = groupget(sensor50,7)\n",
    "sensor50aug = groupget(sensor50,8)\n",
    "sensor50sep = groupget(sensor50,9)\n",
    "sensor50oct = groupget(sensor50,10)\n",
    "plt.figure(figsize=(25,5))\n",
    "plt.subplot(1,3,1)\n",
    "custom_plot(x=sensor50aug.index, y=sensor50aug.value)\n",
    "plt.title('Maximum Daily Values for d3d698c0 Sensor in August')\n",
    "plt.subplot(1,3,2)\n",
    "custom_plot(x=sensor50sep.index, y=sensor50sep.value)\n",
    "plt.title('Maximum Daily Values for d3d698c0 Sensor in September')\n",
    "plt.subplot(1,3,3)\n",
    "custom_plot(x=sensor50oct.index, y=sensor50oct.value)\n",
    "plt.title('Maximum Daily Values for d3d698c0 Sensor in October')"
   ]
  },
  {
   "cell_type": "code",
   "execution_count": null,
   "metadata": {},
   "outputs": [],
   "source": [
    "# Sensor 51 plot -  Data only available in August. Empty values in September and October\n",
    "sensor51 = getgroup('d3db2ca0-8679-11e6-a353-2f6c041e2491')\n",
    "#sensor50jul = groupget(sensor50,7)\n",
    "sensor51aug = groupget(sensor51,8)\n",
    "sensor51sep = groupget(sensor51,9)\n",
    "sensor51oct = groupget(sensor51,10)\n",
    "plt.figure(figsize=(25,5))\n",
    "plt.subplot(1,3,1)\n",
    "custom_plot(x=sensor51aug.index, y=sensor51aug.value)\n",
    "plt.title('Maximum Daily Values for d3db2ca0- Sensor in August')\n",
    "plt.subplot(1,3,2)\n",
    "custom_plot(x=sensor51sep.index, y=sensor51sep.value)\n",
    "plt.title('Maximum Daily Values for d3db2ca0- Sensor in September')\n",
    "plt.subplot(1,3,3)\n",
    "custom_plot(x=sensor51oct.index, y=sensor51oct.value)\n",
    "plt.title('Maximum Daily Values for d3db2ca0- Sensor in October')"
   ]
  },
  {
   "cell_type": "code",
   "execution_count": null,
   "metadata": {},
   "outputs": [],
   "source": [
    "# Sensor 52 plot -  Data only available in August, September and October\n",
    "sensor52 = getgroup('d3d33d60-8679-11e6-a353-2f6c041e2491')\n",
    "#sensor50jul = groupget(sensor50,7)\n",
    "sensor52aug = groupget(sensor52,8)\n",
    "sensor52sep = groupget(sensor52,9)\n",
    "sensor52oct = groupget(sensor52,10)\n",
    "plt.figure(figsize=(25,5))\n",
    "plt.subplot(1,3,1)\n",
    "custom_plot(x=sensor52aug.index, y=sensor52aug.value)\n",
    "plt.title('Maximum Daily Values for d3d33d60 Sensor in August')\n",
    "plt.subplot(1,3,2)\n",
    "custom_plot(x=sensor52sep.index, y=sensor52sep.value)\n",
    "plt.title('Maximum Daily Values for d3d33d60 Sensor in September')\n",
    "plt.subplot(1,3,3)\n",
    "custom_plot(x=sensor52oct.index, y=sensor52oct.value)\n",
    "plt.title('Maximum Daily Values for d3d33d60 Sensor in October')"
   ]
  },
  {
   "cell_type": "code",
   "execution_count": null,
   "metadata": {},
   "outputs": [],
   "source": [
    "# Sensor 53 plot -  Data only available in August.\n",
    "sensor53 = getgroup('c5e881a1-867a-11e6-a353-2f6c041e2491')\n",
    "#sensor50jul = groupget(sensor50,7)\n",
    "sensor53aug = groupget(sensor53,8)\n",
    "#sensor53sep = groupget(sensor53,9)\n",
    "#sensor53oct = groupget(sensor53,10)\n",
    "plt.figure(figsize=(25,5))\n",
    "plt.subplot(1,1,1)\n",
    "custom_plot(x=sensor53aug.index, y=sensor53aug.value)\n",
    "plt.title('Maximum Daily Values for c5e881a1 Sensor in August')\n"
   ]
  },
  {
   "cell_type": "code",
   "execution_count": null,
   "metadata": {},
   "outputs": [],
   "source": [
    "# Sensor 54 plot -  Data only available in August. \n",
    "sensor54 = getgroup('c5e881a0-867a-11e6-a353-2f6c041e2491')\n",
    "#sensor50jul = groupget(sensor50,7)\n",
    "sensor54aug = groupget(sensor54,8)\n",
    "#sensor54sep = groupget(sensor54,9)\n",
    "#sensor54oct = groupget(sensor54,10)\n",
    "plt.figure(figsize=(25,5))\n",
    "plt.subplot(1,1,1)\n",
    "custom_plot(x=sensor54aug.index, y=sensor54aug.value)\n",
    "plt.title('Maximum Daily Values for c5e881a0 Sensor in August')\n"
   ]
  },
  {
   "cell_type": "code",
   "execution_count": null,
   "metadata": {},
   "outputs": [],
   "source": [
    "# Sensor 55 plot -  Data only available in August. Empty values in September and October\n",
    "sensor55 = getgroup('d3d3b290-8679-11e6-a353-2f6c041e2491')\n",
    "#sensor50jul = groupget(sensor50,7)\n",
    "sensor55aug = groupget(sensor55,8)\n",
    "sensor55sep = groupget(sensor55,9)\n",
    "sensor55oct = groupget(sensor55,10)\n",
    "plt.figure(figsize=(25,5))\n",
    "plt.subplot(1,3,1)\n",
    "custom_plot(x=sensor55aug.index, y=sensor55aug.value)\n",
    "plt.title('Maximum Daily Values for d3d3b290 Sensor in August')\n",
    "plt.subplot(1,3,2)\n",
    "custom_plot(x=sensor55sep.index, y=sensor55sep.value)\n",
    "plt.title('Maximum Daily Values for d3d3b290 Sensor in September')\n",
    "plt.subplot(1,3,3)\n",
    "custom_plot(x=sensor55oct.index, y=sensor55oct.value)\n",
    "plt.title('Maximum Daily Values for d3d3b290 Sensor in October')"
   ]
  },
  {
   "cell_type": "code",
   "execution_count": null,
   "metadata": {},
   "outputs": [],
   "source": [
    "# Sensor 56 plot -  Data only available in August. Empty values in September and October\n",
    "sensor56 = getgroup('d3db53b0-8679-11e6-a353-2f6c041e2491')\n",
    "#sensor50jul = groupget(sensor50,7)\n",
    "sensor56aug = groupget(sensor56,8)\n",
    "sensor56sep = groupget(sensor56,9)\n",
    "sensor56oct = groupget(sensor56,10)\n",
    "plt.figure(figsize=(25,5))\n",
    "plt.subplot(1,3,1)\n",
    "custom_plot(x=sensor56aug.index, y=sensor56aug.value)\n",
    "plt.title('Maximum Daily Values for d3db53b0 Sensor in August')\n",
    "plt.subplot(1,3,2)\n",
    "custom_plot(x=sensor56sep.index, y=sensor56sep.value)\n",
    "plt.title('Maximum Daily Values for d3db53b0 Sensor in September')\n",
    "plt.subplot(1,3,3)\n",
    "custom_plot(x=sensor56oct.index, y=sensor56oct.value)\n",
    "plt.title('Maximum Daily Values for d3db53b0 Sensor in October')"
   ]
  },
  {
   "cell_type": "code",
   "execution_count": null,
   "metadata": {},
   "outputs": [],
   "source": [
    "# Sensor 57 plot -  Data only available in August. Empty values in September.\n",
    "sensor57 = getgroup('e66851e0-8679-11e6-a353-2f6c041e2491')\n",
    "#sensor50jul = groupget(sensor50,7)\n",
    "sensor57aug = groupget(sensor57,8)\n",
    "sensor57sep = groupget(sensor57,9)\n",
    "#sensor57oct = groupget(sensor57,10)\n",
    "plt.figure(figsize=(25,5))\n",
    "plt.subplot(1,2,1)\n",
    "custom_plot(x=sensor57aug.index, y=sensor57aug.value)\n",
    "plt.title('Maximum Daily Values for e66851e0Sensor in August')\n",
    "plt.subplot(1,2,2)\n",
    "custom_plot(x=sensor57sep.index, y=sensor57sep.value)\n",
    "plt.title('Maximum Daily Values for e66851e0 Sensor in September')\n"
   ]
  },
  {
   "cell_type": "code",
   "execution_count": null,
   "metadata": {},
   "outputs": [],
   "source": [
    "# Sensor 58 plot -  Data only available in August, September and October\n",
    "sensor58 = getgroup('d3d73500-8679-11e6-a353-2f6c041e2491')\n",
    "#sensor50jul = groupget(sensor50,7)\n",
    "sensor58aug = groupget(sensor58,8)\n",
    "sensor58sep = groupget(sensor58,9)\n",
    "sensor58oct = groupget(sensor58,10)\n",
    "plt.figure(figsize=(25,5))\n",
    "plt.subplot(1,3,1)\n",
    "custom_plot(x=sensor58aug.index, y=sensor58aug.value)\n",
    "plt.title('Maximum Daily Values for d3d73500 Sensor in August')\n",
    "plt.subplot(1,3,2)\n",
    "custom_plot(x=sensor58sep.index, y=sensor58sep.value)\n",
    "plt.title('Maximum Daily Values for d3d73500 Sensor in September')\n",
    "plt.subplot(1,3,3)\n",
    "custom_plot(x=sensor58oct.index, y=sensor58oct.value)\n",
    "plt.title('Maximum Daily Values for d3d73500 Sensor in October')"
   ]
  },
  {
   "cell_type": "code",
   "execution_count": null,
   "metadata": {},
   "outputs": [],
   "source": [
    "# Sensor 59 plot -  Data only available in August. Empty values in September and October\n",
    "sensor59 = getgroup('d3d7d140-8679-11e6-a353-2f6c041e2491')\n",
    "#sensor50jul = groupget(sensor50,7)\n",
    "sensor59aug = groupget(sensor59,8)\n",
    "sensor59sep = groupget(sensor59,9)\n",
    "sensor59oct = groupget(sensor59,10)\n",
    "plt.figure(figsize=(25,5))\n",
    "plt.subplot(1,3,1)\n",
    "custom_plot(x=sensor59aug.index, y=sensor59aug.value)\n",
    "plt.title('Maximum Daily Values for d3d7d140 Sensor in August')\n",
    "plt.subplot(1,3,2)\n",
    "custom_plot(x=sensor59sep.index, y=sensor59sep.value)\n",
    "plt.title('Maximum Daily Values for d3d7d140 Sensor in September')\n",
    "plt.subplot(1,3,3)\n",
    "custom_plot(x=sensor59oct.index, y=sensor59oct.value)\n",
    "plt.title('Maximum Daily Values for d3d7d140 Sensor in October')"
   ]
  },
  {
   "cell_type": "code",
   "execution_count": null,
   "metadata": {},
   "outputs": [],
   "source": [
    "# Sensor 60 plot -  Data only available in August. Empty values in September and October\n",
    "sensor60 = getgroup('d3d3b291-8679-11e6-a353-2f6c041e2491')\n",
    "#sensor50jul = groupget(sensor50,7)\n",
    "sensor60aug = groupget(sensor60,8)\n",
    "sensor60sep = groupget(sensor60,9)\n",
    "sensor60oct = groupget(sensor60,10)\n",
    "plt.figure(figsize=(25,5))\n",
    "plt.subplot(1,3,1)\n",
    "custom_plot(x=sensor60aug.index, y=sensor60aug.value)\n",
    "plt.title('Maximum Daily Values for d3d3b291 Sensor in August')\n",
    "plt.subplot(1,3,2)\n",
    "custom_plot(x=sensor60sep.index, y=sensor60sep.value)\n",
    "plt.title('Maximum Daily Values for d3d3b291 Sensor in September')\n",
    "plt.subplot(1,3,3)\n",
    "custom_plot(x=sensor60oct.index, y=sensor60oct.value)\n",
    "plt.title('Maximum Daily Values for d3d3b291 Sensor in October')"
   ]
  },
  {
   "cell_type": "code",
   "execution_count": null,
   "metadata": {},
   "outputs": [],
   "source": [
    "# Sensor 61 plot -  Data only available in August. Empty values in September.\n",
    "#sensor50jul = groupget(sensor50,7)\n",
    "sensor61aug = groupget(sensor61,8)\n",
    "sensor61sep = groupget(sensor61,9)\n",
    "#sensor61oct = groupget(sensor61,10)\n",
    "plt.figure(figsize=(25,5))\n",
    "plt.subplot(1,2,1)\n",
    "custom_plot(x=sensor61aug.index, y=sensor61aug.value)\n",
    "plt.title('Maximum Daily Values for e6678e91 Sensor in August')\n",
    "plt.subplot(1,2,2)\n",
    "custom_plot(x=sensor61sep.index, y=sensor61sep.value)\n",
    "plt.title('Maximum Daily Values for e6678e91 Sensor in September')"
   ]
  },
  {
   "cell_type": "markdown",
   "metadata": {},
   "source": [
    "## Merge Dataframes"
   ]
  },
  {
   "cell_type": "code",
   "execution_count": null,
   "metadata": {},
   "outputs": [],
   "source": [
    "# Merge datatypes and sensors data\n",
    "first = pd.merge(datatypes, sensors, left_on='id', right_on='data_type_id', how='left')"
   ]
  },
  {
   "cell_type": "code",
   "execution_count": null,
   "metadata": {},
   "outputs": [],
   "source": [
    "first.head()"
   ]
  },
  {
   "cell_type": "markdown",
   "metadata": {},
   "source": [
    "### 3.0 Descriptive Analysis One data frame at a time **\n",
    "\n",
    "3.1: How many sensors of each type are there?"
   ]
  },
  {
   "cell_type": "code",
   "execution_count": null,
   "metadata": {},
   "outputs": [],
   "source": [
    "# Check value counts of the sensors. There are 7 types of each sensors.\n",
    "first.type_id.value_counts()"
   ]
  },
  {
   "cell_type": "markdown",
   "metadata": {},
   "source": [
    "----\n",
    "\n",
    "### 4.0 Creating a Digital Thread from the data sets**\n",
    "\n",
    "**Goal: Merge everything into one wide data table ** "
   ]
  },
  {
   "cell_type": "markdown",
   "metadata": {},
   "source": [
    "You have two data frames: `sensors` and `types` Merge each sensors with its type. (Hint: Use `pd.merge()`)\n",
    "\n",
    "Question: What does this achieve? Why should we do this?\n",
    "\n",
    "#### We merge this to see what type of data the sensor gather. Without the datatypes file, we cannot interpret what measurements each sensor gives."
   ]
  },
  {
   "cell_type": "markdown",
   "metadata": {},
   "source": [
    "Now take the raw `data` data frame and merge it with all the `sensors` and their types."
   ]
  },
  {
   "cell_type": "code",
   "execution_count": null,
   "metadata": {},
   "outputs": [],
   "source": [
    "# drop some unwanted double columns\n",
    "first_drop = first.drop(['id_x'], axis=1)"
   ]
  },
  {
   "cell_type": "code",
   "execution_count": null,
   "metadata": {},
   "outputs": [],
   "source": [
    "# Rename id_y to sensor_id for easy identification\n",
    "first_rename = first_drop.rename({'id_y': 'sensor_id'}, axis=1)\n"
   ]
  },
  {
   "cell_type": "code",
   "execution_count": null,
   "metadata": {},
   "outputs": [],
   "source": [
    "# make a second match of the first data merged and the datapoints data\n",
    "merged_data = pd.merge(datapoints,first_rename, left_on='sensor_id', right_on='sensor_id', how='left')"
   ]
  },
  {
   "cell_type": "code",
   "execution_count": null,
   "metadata": {},
   "outputs": [],
   "source": [
    "merged_data.describe()   # Value statistical analysis won't make sense now cos it represents different type of data ppts"
   ]
  },
  {
   "cell_type": "code",
   "execution_count": null,
   "metadata": {},
   "outputs": [],
   "source": [
    "# Drop the unwanted data and double columns\n",
    "merged_data_drop = merged_data.drop(['id','created_at','updated_at','data_type_id','node_id',\n",
    "                         'description', 'status','data_frequency'], axis=1)"
   ]
  },
  {
   "cell_type": "code",
   "execution_count": null,
   "metadata": {},
   "outputs": [],
   "source": [
    "# Check data shape\n",
    "merged_data_drop.shape"
   ]
  },
  {
   "cell_type": "code",
   "execution_count": null,
   "metadata": {},
   "outputs": [],
   "source": [
    "# check first 5\n",
    "merged_data_drop.head()"
   ]
  },
  {
   "cell_type": "code",
   "execution_count": null,
   "metadata": {},
   "outputs": [],
   "source": [
    "#Check last 5 \n",
    "merged_data_drop.tail()"
   ]
  },
  {
   "cell_type": "markdown",
   "metadata": {},
   "source": [
    "-----"
   ]
  },
  {
   "cell_type": "code",
   "execution_count": null,
   "metadata": {
    "tags": []
   },
   "outputs": [],
   "source": [
    "# 64.05 % of the values are missing.\n",
    "merged_data_drop.info()"
   ]
  },
  {
   "cell_type": "markdown",
   "metadata": {},
   "source": [
    "### 5.0 Time Series based analysis\n",
    "\n",
    "Now, we are going to take this stitiched data frame and use it for our analysis. Specifically, we are going to perform Time-based analysis on this data.\n",
    "\n",
    "    Step 1: Take the `full` data frame and make the Time Stamp datetime format\n",
    "    Step 2: Resample the dataset to the daily level. (One observation per date)\n",
    "    Step 3: For the resampled data, calculate the daily mean, min and max values for each sensor."
   ]
  },
  {
   "cell_type": "markdown",
   "metadata": {},
   "source": [
    "Resample to get daily averages.\n",
    "Then subset to select the rows you need."
   ]
  },
  {
   "cell_type": "code",
   "execution_count": null,
   "metadata": {},
   "outputs": [],
   "source": [
    "#sensor_group = merged_data.groupby(['sensor_id','Day'])\n",
    "# Group sensor data by month\n",
    "sensor_group= merged_data.groupby(['Month'])\n",
    "sensor_group.first()"
   ]
  },
  {
   "cell_type": "code",
   "execution_count": null,
   "metadata": {},
   "outputs": [],
   "source": [
    "def maxminave(sensor_no):\n",
    "    print(\"Average value for sensor is:\", sensor_no['value'].mean())\n",
    "    print(\"Maximum value for sensor is:\",sensor_no['value'].max())\n",
    "    print(\"Minimum value for sensor is: \",sensor_no['value'].min())"
   ]
  },
  {
   "cell_type": "code",
   "execution_count": null,
   "metadata": {},
   "outputs": [],
   "source": [
    "# if sensor_no in plots:\n",
    "#     #sensor_no = sensor_id\n",
    "#     maxminave(sensor_no)"
   ]
  },
  {
   "cell_type": "code",
   "execution_count": null,
   "metadata": {},
   "outputs": [],
   "source": [
    "# Re-organize the time series to observe the seasonality\n",
    "cm = sns.light_palette('#2ecc71', as_cmap=True)\n",
    "\n",
    "monthly_airline = pd.pivot_table(plots, values = 'value', columns = 'Day', index = 'sensor_id')\n",
    "monthly_airline.style.background_gradient(cmap=cm)"
   ]
  },
  {
   "cell_type": "code",
   "execution_count": null,
   "metadata": {},
   "outputs": [],
   "source": [
    "maxminave(sensor1)"
   ]
  },
  {
   "cell_type": "code",
   "execution_count": null,
   "metadata": {},
   "outputs": [],
   "source": [
    "maxminave(sensor2)"
   ]
  },
  {
   "cell_type": "code",
   "execution_count": null,
   "metadata": {},
   "outputs": [],
   "source": [
    "maxminave(sensor3)"
   ]
  },
  {
   "cell_type": "code",
   "execution_count": null,
   "metadata": {},
   "outputs": [],
   "source": [
    "maxminave(sensor4)"
   ]
  },
  {
   "cell_type": "code",
   "execution_count": null,
   "metadata": {},
   "outputs": [],
   "source": [
    "maxminave(sensor5)"
   ]
  },
  {
   "cell_type": "code",
   "execution_count": null,
   "metadata": {},
   "outputs": [],
   "source": [
    "maxminave(sensor6)"
   ]
  },
  {
   "cell_type": "code",
   "execution_count": null,
   "metadata": {},
   "outputs": [],
   "source": [
    "maxminave(sensor7)"
   ]
  },
  {
   "cell_type": "code",
   "execution_count": null,
   "metadata": {},
   "outputs": [],
   "source": [
    "maxminave(sensor8)"
   ]
  },
  {
   "cell_type": "code",
   "execution_count": null,
   "metadata": {},
   "outputs": [],
   "source": [
    "maxminave(sensor9)"
   ]
  },
  {
   "cell_type": "code",
   "execution_count": null,
   "metadata": {},
   "outputs": [],
   "source": [
    "maxminave(sensor10)"
   ]
  },
  {
   "cell_type": "code",
   "execution_count": null,
   "metadata": {},
   "outputs": [],
   "source": [
    "maxminave(sensor11)"
   ]
  },
  {
   "cell_type": "code",
   "execution_count": null,
   "metadata": {},
   "outputs": [],
   "source": [
    "maxminave(sensor12)"
   ]
  },
  {
   "cell_type": "code",
   "execution_count": null,
   "metadata": {},
   "outputs": [],
   "source": [
    "maxminave(sensor13)"
   ]
  },
  {
   "cell_type": "code",
   "execution_count": null,
   "metadata": {},
   "outputs": [],
   "source": [
    "maxminave(sensor14)"
   ]
  },
  {
   "cell_type": "code",
   "execution_count": null,
   "metadata": {},
   "outputs": [],
   "source": [
    "maxminave(sensor15)"
   ]
  },
  {
   "cell_type": "code",
   "execution_count": null,
   "metadata": {},
   "outputs": [],
   "source": [
    "maxminave(sensor16)"
   ]
  },
  {
   "cell_type": "code",
   "execution_count": null,
   "metadata": {},
   "outputs": [],
   "source": [
    "maxminave(sensor17)"
   ]
  },
  {
   "cell_type": "code",
   "execution_count": null,
   "metadata": {},
   "outputs": [],
   "source": [
    "maxminave(sensor18)"
   ]
  },
  {
   "cell_type": "code",
   "execution_count": null,
   "metadata": {},
   "outputs": [],
   "source": [
    "maxminave(sensor19)"
   ]
  },
  {
   "cell_type": "code",
   "execution_count": null,
   "metadata": {},
   "outputs": [],
   "source": [
    "maxminave(sensor20)"
   ]
  },
  {
   "cell_type": "code",
   "execution_count": null,
   "metadata": {},
   "outputs": [],
   "source": [
    "maxminave(sensor21)"
   ]
  },
  {
   "cell_type": "code",
   "execution_count": null,
   "metadata": {},
   "outputs": [],
   "source": [
    "maxminave(sensor22)"
   ]
  },
  {
   "cell_type": "code",
   "execution_count": null,
   "metadata": {},
   "outputs": [],
   "source": [
    "maxminave(sensor23)"
   ]
  },
  {
   "cell_type": "code",
   "execution_count": null,
   "metadata": {},
   "outputs": [],
   "source": [
    "maxminave(sensor24)"
   ]
  },
  {
   "cell_type": "code",
   "execution_count": null,
   "metadata": {},
   "outputs": [],
   "source": [
    "maxminave(sensor25)"
   ]
  },
  {
   "cell_type": "code",
   "execution_count": null,
   "metadata": {},
   "outputs": [],
   "source": [
    "maxminave(sensor26)"
   ]
  },
  {
   "cell_type": "code",
   "execution_count": null,
   "metadata": {},
   "outputs": [],
   "source": [
    "maxminave(sensor27)"
   ]
  },
  {
   "cell_type": "code",
   "execution_count": null,
   "metadata": {},
   "outputs": [],
   "source": [
    "maxminave(sensor28)"
   ]
  },
  {
   "cell_type": "code",
   "execution_count": null,
   "metadata": {},
   "outputs": [],
   "source": [
    "maxminave(sensor29)"
   ]
  },
  {
   "cell_type": "code",
   "execution_count": null,
   "metadata": {},
   "outputs": [],
   "source": [
    "maxminave(sensor30)"
   ]
  },
  {
   "cell_type": "code",
   "execution_count": null,
   "metadata": {},
   "outputs": [],
   "source": [
    "maxminave(sensor31)"
   ]
  },
  {
   "cell_type": "code",
   "execution_count": null,
   "metadata": {},
   "outputs": [],
   "source": [
    "maxminave(sensor32)"
   ]
  },
  {
   "cell_type": "code",
   "execution_count": null,
   "metadata": {},
   "outputs": [],
   "source": [
    "maxminave(sensor33)"
   ]
  },
  {
   "cell_type": "code",
   "execution_count": null,
   "metadata": {},
   "outputs": [],
   "source": [
    "maxminave(sensor34)"
   ]
  },
  {
   "cell_type": "code",
   "execution_count": null,
   "metadata": {},
   "outputs": [],
   "source": [
    "maxminave(sensor35)"
   ]
  },
  {
   "cell_type": "code",
   "execution_count": null,
   "metadata": {},
   "outputs": [],
   "source": [
    "maxminave(sensor36)"
   ]
  },
  {
   "cell_type": "code",
   "execution_count": null,
   "metadata": {},
   "outputs": [],
   "source": [
    "maxminave(sensor37)"
   ]
  },
  {
   "cell_type": "code",
   "execution_count": null,
   "metadata": {},
   "outputs": [],
   "source": [
    "maxminave(sensor38)"
   ]
  },
  {
   "cell_type": "code",
   "execution_count": null,
   "metadata": {},
   "outputs": [],
   "source": [
    "maxminave(sensor39)"
   ]
  },
  {
   "cell_type": "code",
   "execution_count": null,
   "metadata": {},
   "outputs": [],
   "source": [
    "maxminave(sensor40)"
   ]
  },
  {
   "cell_type": "code",
   "execution_count": null,
   "metadata": {},
   "outputs": [],
   "source": [
    "maxminave(sensor41)"
   ]
  },
  {
   "cell_type": "code",
   "execution_count": null,
   "metadata": {},
   "outputs": [],
   "source": [
    "maxminave(sensor42)"
   ]
  },
  {
   "cell_type": "code",
   "execution_count": null,
   "metadata": {},
   "outputs": [],
   "source": [
    "maxminave(sensor43)"
   ]
  },
  {
   "cell_type": "code",
   "execution_count": null,
   "metadata": {},
   "outputs": [],
   "source": [
    "maxminave(sensor44)"
   ]
  },
  {
   "cell_type": "code",
   "execution_count": null,
   "metadata": {},
   "outputs": [],
   "source": [
    "maxminave(sensor45)"
   ]
  },
  {
   "cell_type": "code",
   "execution_count": null,
   "metadata": {},
   "outputs": [],
   "source": [
    "maxminave(sensor46)"
   ]
  },
  {
   "cell_type": "code",
   "execution_count": null,
   "metadata": {},
   "outputs": [],
   "source": [
    "maxminave(sensor47)"
   ]
  },
  {
   "cell_type": "code",
   "execution_count": null,
   "metadata": {},
   "outputs": [],
   "source": [
    "maxminave(sensor48)"
   ]
  },
  {
   "cell_type": "code",
   "execution_count": null,
   "metadata": {},
   "outputs": [],
   "source": [
    "maxminave(sensor49)"
   ]
  },
  {
   "cell_type": "code",
   "execution_count": null,
   "metadata": {},
   "outputs": [],
   "source": [
    "maxminave(sensor50)"
   ]
  },
  {
   "cell_type": "code",
   "execution_count": null,
   "metadata": {},
   "outputs": [],
   "source": [
    "maxminave(sensor51)"
   ]
  },
  {
   "cell_type": "code",
   "execution_count": null,
   "metadata": {},
   "outputs": [],
   "source": [
    "maxminave(sensor52)"
   ]
  },
  {
   "cell_type": "code",
   "execution_count": null,
   "metadata": {},
   "outputs": [],
   "source": [
    "maxminave(sensor53)"
   ]
  },
  {
   "cell_type": "code",
   "execution_count": null,
   "metadata": {},
   "outputs": [],
   "source": [
    "maxminave(sensor54)"
   ]
  },
  {
   "cell_type": "code",
   "execution_count": null,
   "metadata": {},
   "outputs": [],
   "source": [
    "maxminave(sensor55)"
   ]
  },
  {
   "cell_type": "code",
   "execution_count": null,
   "metadata": {},
   "outputs": [],
   "source": [
    "maxminave(sensor56)"
   ]
  },
  {
   "cell_type": "code",
   "execution_count": null,
   "metadata": {},
   "outputs": [],
   "source": [
    "maxminave(sensor57)"
   ]
  },
  {
   "cell_type": "code",
   "execution_count": null,
   "metadata": {},
   "outputs": [],
   "source": [
    "maxminave(sensor58)"
   ]
  },
  {
   "cell_type": "code",
   "execution_count": null,
   "metadata": {},
   "outputs": [],
   "source": [
    "maxminave(sensor59)"
   ]
  },
  {
   "cell_type": "code",
   "execution_count": null,
   "metadata": {},
   "outputs": [],
   "source": [
    "maxminave(sensor60)"
   ]
  },
  {
   "cell_type": "code",
   "execution_count": null,
   "metadata": {},
   "outputs": [],
   "source": [
    "maxminave(sensor61)"
   ]
  },
  {
   "cell_type": "markdown",
   "metadata": {},
   "source": [
    "The Correlation heatmap that we are looking for should be along the following lines:\n",
    "\n",
    "\n",
    "<img src = \"images/Corr_plot.JPG\" width=450>"
   ]
  },
  {
   "cell_type": "markdown",
   "metadata": {},
   "source": [
    "First, look for correlations visually. \n",
    "\n",
    "**Subtask: Plot all the sensors values (of one type) over time.**"
   ]
  },
  {
   "cell_type": "markdown",
   "metadata": {},
   "source": [
    "Sub task: Identify all the temperature sensors in the data set. Hint: These are the ones that have the string 'TCA' in their name id's"
   ]
  },
  {
   "cell_type": "code",
   "execution_count": null,
   "metadata": {},
   "outputs": [],
   "source": [
    "criteria = merged_data.type_id == 'TCA'\n",
    "plt.figure(figsize=(20,10))\n",
    "merged_data[criteria]['value'].plot()"
   ]
  },
  {
   "cell_type": "code",
   "execution_count": null,
   "metadata": {},
   "outputs": [],
   "source": [
    "#temp_sensors = [s for s in merged_data[merged_data.type_id =='TCA']['id_x']]\n",
    "#temperature_senors = [s for t,s in zip(merged_data['type_id'], merged_data['id_x']) if t=='TCA'] # alternative way"
   ]
  },
  {
   "cell_type": "code",
   "execution_count": null,
   "metadata": {},
   "outputs": [],
   "source": [
    "temp_sensors = [s for s in merged_data[merged_data.type_id =='TCA']['sensor_id']]\n"
   ]
  },
  {
   "cell_type": "markdown",
   "metadata": {},
   "source": [
    "** Using Pandas to plot all the temperature sensors on one single plot. **\n",
    "\n",
    "- Use pandas to loop over each temperature sensor, and plot them one at a time.\n",
    "- Hint: Use the following trick to do this is to plot one line at a time, over and over in a loop"
   ]
  },
  {
   "cell_type": "code",
   "execution_count": null,
   "metadata": {},
   "outputs": [],
   "source": [
    "# plt.figure(figsize=(20,5))\n",
    "\n",
    "# for s in temp_sensors:\n",
    "#     #print(s)\n",
    "#     sub_df = merged_data[merged_data['sensor_id']==s]\n",
    "#     #print(sub_df)\n",
    "#     plt.plot(sub_df.index, sub_df['value'], '.')\n",
    "    "
   ]
  },
  {
   "cell_type": "markdown",
   "metadata": {},
   "source": [
    "This plot is fine, but all the lines are too close together. We cannot see how each sensor is behaving. For that, we can try drawing \"Subplots.\" In these plots, each sensor gets its own plot (called a 'panel')."
   ]
  },
  {
   "cell_type": "markdown",
   "metadata": {},
   "source": [
    "**Creating Subplots - Each sensor gets its own panel**"
   ]
  },
  {
   "cell_type": "code",
   "execution_count": null,
   "metadata": {},
   "outputs": [],
   "source": [
    "# fig, axarr = plt.subplots(10, sharex=True)\n",
    "# fig.set_size_inches(20,30) \n",
    "\n",
    "# plt.figure(figsize=(20,20))\n",
    "# for i,s in enumerate(temp_sensors):\n",
    "#     sub_df = merged_data[merged_data['sensor_id']==s]\n",
    "#     axarr[i].plot(sub_df.index, sub_df['value'], '*')\n",
    "    "
   ]
  },
  {
   "cell_type": "markdown",
   "metadata": {},
   "source": [
    "**Task: Creating a reshaped Data Frame of just Temperature sensors**\n",
    "\n",
    "For this, we are going to have each column be 1 sensor... from 1 to 10. The rows will be timestamps, as before.\n",
    "\n",
    "Hint: pd.pivot() is perfect for this task."
   ]
  },
  {
   "cell_type": "code",
   "execution_count": null,
   "metadata": {},
   "outputs": [],
   "source": [
    "temp_df = merged_data[merged_data['sensor_id'].isin(temp_sensors)]\n",
    "\n",
    "#del temp_df['timestamp']\n",
    "temp_df = temp_df.reset_index()\n",
    "temp_df.pivot(columns='sensor_id', values='value')\n",
    "\n",
    "temp_df"
   ]
  },
  {
   "cell_type": "markdown",
   "metadata": {},
   "source": [
    "Since this is a real sensor data set, there are some time stamps and sensor_id's that are repeating. (Unfortunately, this happens often in real data sets.)\n",
    "\n",
    "**Task: Find all rows with the same [Timestamp, Sensor_id] and delete them **"
   ]
  },
  {
   "cell_type": "markdown",
   "metadata": {},
   "source": [
    "**Here's a clever way to find out all the duplicated rows.**\n",
    "\n",
    "Some Timestamp and sensor_id are repeating. That causes Indexing problems."
   ]
  },
  {
   "cell_type": "code",
   "execution_count": null,
   "metadata": {},
   "outputs": [],
   "source": [
    "#pd.concat(g for _, g in df.groupby(\"ID\") if len(g) > 1)\n",
    "pd.concat(g for _, g in temp_df.groupby(['timestamp', 'sensor_id']) if len(g) > 1)"
   ]
  },
  {
   "cell_type": "markdown",
   "metadata": {},
   "source": [
    "**Task: Drop all the rows where timestamp and sensor_id are duplicated**"
   ]
  },
  {
   "cell_type": "code",
   "execution_count": null,
   "metadata": {},
   "outputs": [],
   "source": [
    "tdf = temp_df.drop_duplicates(subset = ['timestamp', 'sensor_id'], keep='first')\n",
    "# Hint: Look at https://segment.com/blog/5-advanced-testing-techniques-in-go/"
   ]
  },
  {
   "cell_type": "code",
   "execution_count": null,
   "metadata": {},
   "outputs": [],
   "source": [
    "temp_df_cor = tdf.pivot(index='timestamp', columns='sensor_id', values='value')\n"
   ]
  },
  {
   "cell_type": "code",
   "execution_count": null,
   "metadata": {},
   "outputs": [],
   "source": [
    "daily_temp_cor_df = temp_df_cor.resample('D').mean()"
   ]
  },
  {
   "cell_type": "markdown",
   "metadata": {},
   "source": [
    "Now, we are finally ready to calculate the correlations across sensor values. Hint: `Use corr()`"
   ]
  },
  {
   "cell_type": "code",
   "execution_count": null,
   "metadata": {},
   "outputs": [],
   "source": [
    "corr_df = daily_temp_cor_df.corr()"
   ]
  },
  {
   "cell_type": "code",
   "execution_count": null,
   "metadata": {},
   "outputs": [],
   "source": [
    "# Create a mask to display only the lower triangle of the matrix (since it's mirrored around its \n",
    "# top-left to bottom-right diagonal).\n",
    "mask = np.zeros_like(corr_df)\n",
    "mask[np.triu_indices_from(mask)] = True\n"
   ]
  },
  {
   "cell_type": "code",
   "execution_count": null,
   "metadata": {},
   "outputs": [],
   "source": [
    "# Create the heatmap using seaborn library. \n",
    "# List if colormaps (parameter 'cmap') is available here: http://matplotlib.org/examples/color/colormaps_reference.html\n",
    "sns.heatmap(corr_df, cmap='RdYlGn_r', vmax=1.0, vmin=-1.0 , mask = mask, linewidths=2.5)\n",
    " \n",
    "# Show the plot we reorient the labels for each column and row to make them easier to read.\n",
    "plt.yticks(rotation=0) \n",
    "plt.xticks(rotation=90) \n",
    "plt.show()"
   ]
  },
  {
   "cell_type": "code",
   "execution_count": null,
   "metadata": {},
   "outputs": [],
   "source": [
    "full2 = merged_data.drop_duplicates(subset = ['timestamp', 'sensor_id'], keep='first')"
   ]
  },
  {
   "cell_type": "code",
   "execution_count": null,
   "metadata": {},
   "outputs": [],
   "source": [
    "full_wide = full2.pivot(index='timestamp', columns='sensor_id', values='value')\n"
   ]
  },
  {
   "cell_type": "code",
   "execution_count": null,
   "metadata": {},
   "outputs": [],
   "source": [
    "daily_all_sensors = full_wide.resample('D').mean()"
   ]
  },
  {
   "cell_type": "code",
   "execution_count": null,
   "metadata": {},
   "outputs": [],
   "source": [
    "daily_all_sensors"
   ]
  },
  {
   "cell_type": "code",
   "execution_count": null,
   "metadata": {},
   "outputs": [],
   "source": [
    "daily_all_sensors.isnull().sum()"
   ]
  },
  {
   "cell_type": "markdown",
   "metadata": {},
   "source": [
    "**Trying to building a Linear Model**\n",
    "\n",
    "In order to do that, we first need to create a data frame with the columns representing only those sensors for ONE NODE.\n",
    "\n",
    "Try to see if pd.pivot() can help with grouping Nodes together"
   ]
  },
  {
   "cell_type": "code",
   "execution_count": null,
   "metadata": {},
   "outputs": [],
   "source": [
    "nodes.name # so we have 10 \"nodes\" with 6 sensors each. [T, Pr, HUMA, PPM , PPM2, BATT]"
   ]
  },
  {
   "cell_type": "code",
   "execution_count": null,
   "metadata": {},
   "outputs": [],
   "source": [
    "fullnode = pd.merge(merged_data, nodes, left_on='node_id', right_on='id')"
   ]
  },
  {
   "cell_type": "code",
   "execution_count": null,
   "metadata": {},
   "outputs": [],
   "source": [
    "fullnode.columns, fullnode.index"
   ]
  },
  {
   "cell_type": "code",
   "execution_count": null,
   "metadata": {},
   "outputs": [],
   "source": [
    "fullnode.set_index('timestamp', inplace=True)"
   ]
  },
  {
   "cell_type": "code",
   "execution_count": null,
   "metadata": {},
   "outputs": [],
   "source": [
    "fullnode.resample('D').mean()"
   ]
  },
  {
   "cell_type": "code",
   "execution_count": null,
   "metadata": {},
   "outputs": [],
   "source": [
    "# fullnode.pivot_table(index=['timestamp', 'name'], columns='type', values='value')\n",
    "fn_wide = fullnode.pivot_table(index=['timestamp','name'], columns=['type'], values='value')\n"
   ]
  },
  {
   "cell_type": "code",
   "execution_count": null,
   "metadata": {},
   "outputs": [],
   "source": [
    "#Now, let's make the Node ('name') into its own column. We do this by reset_index() for that level (=1)\n",
    "fn_wide.reset_index(level=1, inplace=True)"
   ]
  },
  {
   "cell_type": "code",
   "execution_count": null,
   "metadata": {},
   "outputs": [],
   "source": [
    "fn_wide.head()"
   ]
  },
  {
   "cell_type": "markdown",
   "metadata": {},
   "source": [
    "Before we can perform Linear Regression, we have one last step remaining. We'd like to \"resample\" all the data, aggregating it down to 'Daily' Levels."
   ]
  },
  {
   "cell_type": "code",
   "execution_count": null,
   "metadata": {},
   "outputs": [],
   "source": [
    "lmfn = fn_wide.resample('D').mean()\n",
    "lmfn = lmfn.fillna(lmfn.mean())"
   ]
  },
  {
   "cell_type": "code",
   "execution_count": null,
   "metadata": {},
   "outputs": [],
   "source": [
    "lmfn"
   ]
  },
  {
   "cell_type": "code",
   "execution_count": null,
   "metadata": {},
   "outputs": [],
   "source": [
    "lmfn.shape"
   ]
  },
  {
   "cell_type": "markdown",
   "metadata": {},
   "source": [
    "### End of Stitching. \n",
    "\n",
    "**The Digital Thread for this dataset has been created**\n",
    "\n",
    "This \"digital Thread\" has been used to 'stitch' the data frame with all the values we wish to analyze.\n",
    "\n",
    "---\n",
    "Now we finally have the data frame in the shape we wanted to enable Linear Regression.\n",
    "\n",
    "### 8.0 Sample Modeling"
   ]
  },
  {
   "cell_type": "markdown",
   "metadata": {},
   "source": [
    "**8.1 Building A Battery Remaining-Life prediction model **\n",
    "Build a machine learning model (LR, tree-based or any other) to try and predict the Battery life (remaining) as a function of any of the other sensor characteristic.\n",
    "\n",
    "* Which variable (sensor) is a good predictor of battery life?\n",
    "* Is your linear regression a \"good fit?\"\n",
    "* What it the RMSE of your predicted values?"
   ]
  },
  {
   "cell_type": "code",
   "execution_count": null,
   "metadata": {},
   "outputs": [],
   "source": [
    "#==============================================================================\n",
    "# Supervised learning linear regression\n",
    "#==============================================================================\n",
    "\n",
    "from sklearn import linear_model\n",
    "\n",
    "# Split the data into training/testing sets\n",
    "train = lmfn[:-30]\n",
    "test = lmfn[-30:]"
   ]
  },
  {
   "cell_type": "code",
   "execution_count": null,
   "metadata": {},
   "outputs": [],
   "source": [
    "train.columns"
   ]
  },
  {
   "cell_type": "code",
   "execution_count": null,
   "metadata": {},
   "outputs": [],
   "source": [
    "target, predictors = 'battery', 'temperature'\n",
    "\n",
    "x_train=train[predictors].to_frame() #converts the pandas Series to numpy.ndarray\n",
    "y_train=train[target].to_frame()\n",
    "x_test=test[predictors].to_frame() #converts the pandas Series to numpy.ndarray\n",
    "y_test=test[target].to_frame()"
   ]
  },
  {
   "cell_type": "code",
   "execution_count": null,
   "metadata": {},
   "outputs": [],
   "source": [
    "# 2.- Create linear regression object\n",
    "regr = linear_model.LinearRegression()\n",
    "\n",
    "# 3.- Train the model using the training sets\n",
    "regr.fit(x_train,y_train)\n",
    "\n",
    "# The coefficients\n",
    "print(\"Coefficients: \",  float(regr.coef_))\n",
    "# The mean squared error\n",
    "print(\"Mean squared error: %.2f\"\n",
    "      % np.mean((regr.predict(x_train) - y_train) ** 2))"
   ]
  }
 ],
 "metadata": {
  "kernelspec": {
   "display_name": "Python 3",
   "language": "python",
   "name": "python3"
  },
  "language_info": {
   "codemirror_mode": {
    "name": "ipython",
    "version": 3
   },
   "file_extension": ".py",
   "mimetype": "text/x-python",
   "name": "python",
   "nbconvert_exporter": "python",
   "pygments_lexer": "ipython3",
   "version": "3.7.4"
  }
 },
 "nbformat": 4,
 "nbformat_minor": 2
}
